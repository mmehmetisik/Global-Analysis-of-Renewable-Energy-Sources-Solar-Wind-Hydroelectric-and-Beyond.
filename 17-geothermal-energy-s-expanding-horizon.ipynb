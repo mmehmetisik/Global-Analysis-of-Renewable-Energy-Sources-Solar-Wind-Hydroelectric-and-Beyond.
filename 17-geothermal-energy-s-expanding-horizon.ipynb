{
 "cells": [
  {
   "cell_type": "markdown",
   "id": "8a3ab002",
   "metadata": {
    "papermill": {
     "duration": 0.012801,
     "end_time": "2024-02-14T11:28:22.637340",
     "exception": false,
     "start_time": "2024-02-14T11:28:22.624539",
     "status": "completed"
    },
    "tags": []
   },
   "source": [
    "<div style=\"border: 5px solid #1E90FF; border-radius: 8px; padding: 20px; box-shadow: 1px 1px 4px grey; background-color: #f0f0f0;\">\n",
    "    <h1 style=\"font-size: 24px; font-weight: bold; color: #2F4F4F; text-align: center; border-bottom: 2px solid #4682B4; font-family: 'Arial'; padding-bottom: 10px;\">Geothermal Energy's Expanding Horizon: A Decade of Growth and Innovation</h1>\n",
    "    <h2 style=\"font-size: 20px; color: #2F4F4F; text-align: center; font-family: 'Arial'; margin-top: 10px;\">Tracing the Rise of Geothermal Power in Turkey and Beyond</h2>\n",
    "</div>\n"
   ]
  },
  {
   "cell_type": "markdown",
   "id": "02928d1f",
   "metadata": {
    "papermill": {
     "duration": 0.010998,
     "end_time": "2024-02-14T11:28:22.661588",
     "exception": false,
     "start_time": "2024-02-14T11:28:22.650590",
     "status": "completed"
    },
    "tags": []
   },
   "source": [
    "<div style=\"border: 2px solid #4CAF50; border-radius: 10px; padding: 20px; background-color: #E8F5E9;\">\n",
    "    <h2 style=\"color: #388E3C; font-family: 'Arial', sans-serif; font-size: 24px; font-weight: bold; text-align: center; margin-bottom: 20px;\">Business Problem</h2>\n",
    "    <hr style=\"border-top: 3px solid #81C784;\">\n",
    "    <p style=\"font-family: 'Arial', sans-serif; font-size: 16px; color: #2E7D32; text-align: justify;\">\n",
    "        This analysis delves into the evolution of geothermal energy, focusing on the role of Turkey and its geographical counterparts. Our dataset provides a roadmap, uncovering the nuances of geothermal capacity growth, policy impacts, and regional interplays:\n",
    "    </p>\n",
    "    <ul style=\"font-family: 'Arial', sans-serif; font-size: 16px; color: #2E7D32; list-style: none;\">\n",
    "        <li>🌍 <strong>Geothermal Growth Patterns:</strong> Examining the pace of geothermal capacity development in Turkey and its comparison with global trends.</li>\n",
    "        <li>🔨 <strong>Technological and Policy Drivers:</strong> Evaluating the influence of innovation and regulatory frameworks on geothermal expansion.</li>\n",
    "        <li>🌐 <strong>Regional Comparisons:</strong> Analyzing Turkey's position within the geothermal landscape and its interactions with neighboring countries.</li>\n",
    "    </ul>\n",
    "    <p style=\"font-family: 'Arial', sans-serif; font-size: 16px; color: #2E7D32; text-align: justify;\">\n",
    "        Our objective is to derive strategic insights that could steer policy-making, investment strategies, and infrastructural advancements in the realm of geothermal energy.\n",
    "    </p>\n",
    "</div>\n"
   ]
  },
  {
   "cell_type": "markdown",
   "id": "750992be",
   "metadata": {
    "papermill": {
     "duration": 0.010557,
     "end_time": "2024-02-14T11:28:22.683229",
     "exception": false,
     "start_time": "2024-02-14T11:28:22.672672",
     "status": "completed"
    },
    "tags": []
   },
   "source": [
    "<div style=\"border: 10px solid #FFA500; border-radius: 15px; padding: 20px; box-shadow: 3px 3px 10px grey; background-color: #f4f4f4;\">\n",
    "    <h2 style=\"font-size: 28px; font-weight: bold; color: #8B4513; text-align: center; border-bottom: 4px ridge #FFA500; font-family: 'Georgia'; padding: 10px;\">Data Set Story</h2>\n",
    "    <p style=\"font-size: 16px; font-family: 'Times New Roman'; padding: 10px;\">\n",
    "        Our dataset offers a panoramic view of the geothermal energy sector's trajectory, highlighting Turkey's progressive stance alongside its regional peers. It encapsulates the journey of geothermal energy from its embryonic stages to becoming a cornerstone of sustainable power generation, illustrating the pivotal moments and hurdles encountered along the way.\n",
    "    </p>\n",
    "    <ul style=\"font-size: 16px; font-family: 'Times New Roman'; padding: 10px;\">\n",
    "        <li><strong>Entity:</strong> Denotes the countries and regions, showcasing the geographical diversity in geothermal energy utilization.</li>\n",
    "        <li><strong>Year:</strong> Marks the timeline, providing insights into the chronological development of geothermal capacity.</li>\n",
    "        <li><strong>Geothermal Capacity (MW):</strong> Quantifies the installed capacity, reflecting the advancements in geothermal energy infrastructure and investments.</li>\n",
    "    </ul>\n",
    "</div>\n"
   ]
  },
  {
   "cell_type": "markdown",
   "id": "fb9003cd",
   "metadata": {
    "papermill": {
     "duration": 0.011667,
     "end_time": "2024-02-14T11:28:22.706543",
     "exception": false,
     "start_time": "2024-02-14T11:28:22.694876",
     "status": "completed"
    },
    "tags": []
   },
   "source": [
    "<div style=\"background-color: #f8f9fa; padding: 20px; border-radius: 5px; box-shadow: 0 4px 6px rgba(0, 0, 0, 0.1);\">\n",
    "    <h2 style=\"color: #343a40; text-align: center; font-size: 24px;\">📜 Table of Contents</h2>\n",
    "    <ul style=\"list-style: none; padding-left: 0;\">\n",
    "        <li style=\"background-color: rgba(255, 255, 255, 0.5); border: 1px solid #eaeaea; margin-bottom: 10px; border-radius: 5px; padding: 8px;\">\n",
    "            <span style=\"font-weight: bold; font-size: 18px;\">1.</span> <a href=\"#GlobalGeothermalEnergyCapacityOverYears\" style=\"text-decoration: none; color: #007BFF; font-weight: bold; font-size: 18px; display: inline-block; margin-left: 10px;\">Global Geothermal Energy Capacity Over Years</a>\n",
    "        </li>\n",
    "        <li style=\"background-color: rgba(255, 255, 255, 0.5); border: 1px solid #eaeaea; margin-bottom: 10px; border-radius: 5px; padding: 8px;\">\n",
    "            <span style=\"font-weight: bold; font-size: 18px;\">2.</span> <a href=\"#ProportionalDistributionofGeothermalCapacitybyContinent\" style=\"text-decoration: none; color: #007BFF; font-weight: bold; font-size: 18px; display: inline-block; margin-left: 10px;\">Proportional Distribution of Geothermal Capacity by Continent</a>\n",
    "        </li>\n",
    "        <li style=\"background-color: rgba(255, 255, 255, 0.5); border: 1px solid #eaeaea; margin-bottom: 10px; border-radius: 5px; padding: 8px;\">\n",
    "            <span style=\"font-weight: bold; font-size: 18px;\">3.</span> <a href=\"#Top10GeothermalCapacityCountries\" style=\"text-decoration: none; color: #007BFF; font-weight: bold; font-size: 18px; display: inline-block; margin-left: 10px;\">Top 10 Geothermal Capacity Countries</a>\n",
    "        </li>\n",
    "        <li style=\"background-color: rgba(255, 255, 255, 0.5); border: 1px solid #eaeaea; margin-bottom: 10px; border-radius: 5px; padding: 8px;\">\n",
    "            <span style=\"font-weight: bold; font-size: 18px;\">4.</span> <a href=\"#AnnualGeothermalCapacityGrowthRate\" style=\"text-decoration: none; color: #007BFF; font-weight: bold; font-size: 18px; display: inline-block; margin-left: 10px;\">Annual Geothermal Capacity Growth Rate</a>\n",
    "        </li>\n",
    "        <li style=\"background-color: rgba(255, 255, 255, 0.5); border: 1px solid #eaeaea; margin-bottom: 10px; border-radius: 5px; padding: 8px;\">\n",
    "            <span style=\"font-weight: bold; font-size: 18px;\">5.</span> <a href=\"#RegionalGeothermalCapacityTrends\" style=\"text-decoration: none; color: #007BFF; font-weight: bold; font-size: 18px; display: inline-block; margin-left: 10px;\">Regional Geothermal Capacity Trends</a>\n",
    "        </li>\n",
    "        <li style=\"background-color: rgba(255, 255, 255, 0.5); border: 1px solid #eaeaea; margin-bottom: 10px; border-radius: 5px; padding: 8px;\">\n",
    "            <span style=\"font-weight: bold; font-size: 18px;\">6.</span> <a href=\"#FastestGrowingGeothermalMarketsintheLast10Years\" style=\"text-decoration: none; color: #007BFF; font-weight: bold; font-size: 18px; display: inline-block; margin-left: 10px;\">Fastest Growing Geothermal Markets in the Last 10 Years</a>\n",
    "        </li>\n",
    "        <li style=\"background-color: rgba(255, 255, 255, 0.5); border: 1px solid #eaeaea; margin-bottom: 10px; border-radius: 5px; padding: 8px;\">\n",
    "            <span style=\"font-weight: bold; font-size: 18px;\">7.</span> <a href=\"#GeothermalEnergyCapacityinTurkeyOverYears\" style=\"text-decoration: none; color: #007BFF; font-weight: bold; font-size: 18px; display: inline-block; margin-left: 10px;\">Geothermal Energy Capacity in Turkey Over Years</a>\n",
    "        </li>\n",
    "        <li style=\"background-color: rgba(255, 255, 255, 0.5); border: 1px solid #eaeaea; margin-bottom: 10px; border-radius: 5px; padding: 8px;\">\n",
    "            <span style=\"font-weight: bold; font-size: 18px;\">8.</span> <a href=\"#GeothermalEnergyCapacityRankinginEuropein2020\" style=\"text-decoration: none; color: #007BFF; font-weight: bold; font-size: 18px; display: inline-block; margin-left: 10px;\">Geothermal Energy Capacity Ranking in Europe in 2020</a>\n",
    "        </li>\n",
    "        <li style=\"background-color: rgba(255, 255, 255, 0.5); border: 1px solid #eaeaea; margin-bottom: 10px; border-radius: 5px; padding: 8px;\">\n",
    "            <span style=\"font-weight: bold; font-size: 18px;\">9.</span> <a href=\"#RegionalGeothermalCapacityOverTime\" style=\"text-decoration: none; color: #007BFF; font-weight: bold; font-size: 18px; display: inline-block; margin-left: 10px;\">Regional Geothermal Capacity Over Time</a>\n",
    "        </li>\n",
    "        <li style=\"background-color: rgba(255, 255, 255, 0.5); border: 1px solid #eaeaea; margin-bottom: 10px; border-radius: 5px; padding: 8px;\">\n",
    "            <span style=\"font-weight: bold; font-size: 18px;\">10.</span> <a href=\"#TotalGeothermalPowerProductionofSpecifiedCountries\" style=\"text-decoration: none; color: #007BFF; font-weight: bold; font-size: 18px; display: inline-block; margin-left: 10px;\">Total Geothermal Power Production of Specified Countries</a>\n",
    "        </li>\n",
    "        <li style=\"background-color: rgba(255, 255, 255, 0.5); border: 1px solid #eaeaea; margin-bottom: 10px; border-radius: 5px; padding: 8px;\">\n",
    "            <span style=\"font-weight: bold; font-size: 18px;\">11.</span> <a href=\"#YearlyRegionalSharesofGeothermalCapacity\" style=\"text-decoration: none; color: #007BFF; font-weight: bold; font-size: 18px; display: inline-block; margin-left: 10px;\">Yearly Regional Shares of Geothermal Capacity</a>\n",
    "        </li>\n",
    "        <li style=\"background-color: rgba(255, 255, 255, 0.5); border: 1px solid #eaeaea; margin-bottom: 10px; border-radius: 5px; padding: 8px;\">\n",
    "            <span style=\"font-weight: bold; font-size: 18px;\">12.</span> <a href=\"#GlobalGeothermalEnergyCapacityMap\" style=\"text-decoration: none; color: #007BFF; font-weight: bold; font-size: 18px; display: inline-block; margin-left: 10px;\">Global Geothermal Energy Capacity Map</a>\n",
    "        </li>\n",
    "        <li style=\"background-color: rgba(255, 255, 255, 0.5); border: 1px solid #eaeaea; margin-bottom: 10px; border-radius: 5px; padding: 8px;\">\n",
    "            <span style=\"font-weight: bold; font-size: 18px;\">13.</span> <a href=\"#ConclusionFinalThoughtsInsights\" style=\"text-decoration: none; color: #007BFF; font-weight: bold; font-size: 18px; display: inline-block; margin-left: 10px;\">Conclusion: Final Thoughts & Insights</a>\n",
    "        </li>\n",
    "    </ul>\n",
    "</div>"
   ]
  },
  {
   "cell_type": "markdown",
   "id": "8767771d",
   "metadata": {
    "papermill": {
     "duration": 0.010512,
     "end_time": "2024-02-14T11:28:22.727936",
     "exception": false,
     "start_time": "2024-02-14T11:28:22.717424",
     "status": "completed"
    },
    "tags": []
   },
   "source": [
    "<a id='import-required-libraries'></a>\n",
    "# <b><div style='padding:15px;background-color:#004080;color:white;border-radius:15px;font-size:100%;text-align: center'>Import Required Libraries</div></b>"
   ]
  },
  {
   "cell_type": "code",
   "execution_count": 1,
   "id": "b2559155",
   "metadata": {
    "execution": {
     "iopub.execute_input": "2024-02-14T11:28:22.753116Z",
     "iopub.status.busy": "2024-02-14T11:28:22.752301Z",
     "iopub.status.idle": "2024-02-14T11:28:27.145797Z",
     "shell.execute_reply": "2024-02-14T11:28:27.144666Z"
    },
    "papermill": {
     "duration": 4.408541,
     "end_time": "2024-02-14T11:28:27.148381",
     "exception": false,
     "start_time": "2024-02-14T11:28:22.739840",
     "status": "completed"
    },
    "tags": []
   },
   "outputs": [],
   "source": [
    "import numpy as np \n",
    "import pandas as pd \n",
    "import datetime as dt\n",
    "import matplotlib.pyplot as plt\n",
    "import seaborn as sns\n",
    "import folium\n",
    "import geopandas as gpd\n",
    "import matplotlib.colors as mcolors\n",
    "import matplotlib.ticker as ticker\n",
    "import plotly.express as px\n",
    "import plotly.graph_objects as go\n",
    "import datetime\n",
    "from sklearn.cluster import KMeans\n",
    "from matplotlib.font_manager import FontProperties\n",
    "from IPython.display import HTML as html_print\n",
    "from termcolor import colored\n",
    "from scipy import stats\n",
    "import warnings\n",
    "warnings.filterwarnings('ignore', category=FutureWarning)"
   ]
  },
  {
   "cell_type": "markdown",
   "id": "51f71786",
   "metadata": {
    "papermill": {
     "duration": 0.011208,
     "end_time": "2024-02-14T11:28:27.171928",
     "exception": false,
     "start_time": "2024-02-14T11:28:27.160720",
     "status": "completed"
    },
    "tags": []
   },
   "source": [
    "<a id='Adjusting-Row-Column-Settings'></a>\n",
    "# <b><div style='padding:15px;background-color:#004080;color:white;border-radius:15px;font-size:100%;text-align: center'>Adjusting Row Column Settings</div></b>"
   ]
  },
  {
   "cell_type": "code",
   "execution_count": 2,
   "id": "aaa03ea7",
   "metadata": {
    "execution": {
     "iopub.execute_input": "2024-02-14T11:28:27.199459Z",
     "iopub.status.busy": "2024-02-14T11:28:27.198497Z",
     "iopub.status.idle": "2024-02-14T11:28:27.204148Z",
     "shell.execute_reply": "2024-02-14T11:28:27.202748Z"
    },
    "papermill": {
     "duration": 0.023219,
     "end_time": "2024-02-14T11:28:27.206723",
     "exception": false,
     "start_time": "2024-02-14T11:28:27.183504",
     "status": "completed"
    },
    "tags": []
   },
   "outputs": [],
   "source": [
    "pd.set_option('display.max_columns', None)\n",
    "#pd.set_option('display.max_rows', None)\n",
    "pd.set_option('display.width', None)\n",
    "pd.set_option('display.float_format', lambda x: '%.3f' % x)"
   ]
  },
  {
   "cell_type": "markdown",
   "id": "e48f1fdb",
   "metadata": {
    "papermill": {
     "duration": 0.011395,
     "end_time": "2024-02-14T11:28:27.232146",
     "exception": false,
     "start_time": "2024-02-14T11:28:27.220751",
     "status": "completed"
    },
    "tags": []
   },
   "source": [
    "<a id='import-required-libraries'></a>\n",
    "# <b><div style='padding:15px;background-color:#004080;color:white;border-radius:15px;font-size:100%;text-align: center'>Loading the Data Set</div></b>"
   ]
  },
  {
   "cell_type": "code",
   "execution_count": 3,
   "id": "ef9f605a",
   "metadata": {
    "execution": {
     "iopub.execute_input": "2024-02-14T11:28:27.259446Z",
     "iopub.status.busy": "2024-02-14T11:28:27.258650Z",
     "iopub.status.idle": "2024-02-14T11:28:27.283724Z",
     "shell.execute_reply": "2024-02-14T11:28:27.282620Z"
    },
    "papermill": {
     "duration": 0.042124,
     "end_time": "2024-02-14T11:28:27.286136",
     "exception": false,
     "start_time": "2024-02-14T11:28:27.244012",
     "status": "completed"
    },
    "tags": []
   },
   "outputs": [],
   "source": [
    "df_17 = pd.read_csv(\"/kaggle/input/renewable-energy-world-wide-19652022/17 installed-geothermal-capacity.csv\")"
   ]
  },
  {
   "cell_type": "code",
   "execution_count": 4,
   "id": "c149b121",
   "metadata": {
    "execution": {
     "iopub.execute_input": "2024-02-14T11:28:27.313009Z",
     "iopub.status.busy": "2024-02-14T11:28:27.312029Z",
     "iopub.status.idle": "2024-02-14T11:28:27.330977Z",
     "shell.execute_reply": "2024-02-14T11:28:27.330125Z"
    },
    "papermill": {
     "duration": 0.034689,
     "end_time": "2024-02-14T11:28:27.333187",
     "exception": false,
     "start_time": "2024-02-14T11:28:27.298498",
     "status": "completed"
    },
    "tags": []
   },
   "outputs": [
    {
     "data": {
      "text/html": [
       "<div>\n",
       "<style scoped>\n",
       "    .dataframe tbody tr th:only-of-type {\n",
       "        vertical-align: middle;\n",
       "    }\n",
       "\n",
       "    .dataframe tbody tr th {\n",
       "        vertical-align: top;\n",
       "    }\n",
       "\n",
       "    .dataframe thead th {\n",
       "        text-align: right;\n",
       "    }\n",
       "</style>\n",
       "<table border=\"1\" class=\"dataframe\">\n",
       "  <thead>\n",
       "    <tr style=\"text-align: right;\">\n",
       "      <th></th>\n",
       "      <th>Entity</th>\n",
       "      <th>Code</th>\n",
       "      <th>Year</th>\n",
       "      <th>Geothermal Capacity</th>\n",
       "    </tr>\n",
       "  </thead>\n",
       "  <tbody>\n",
       "    <tr>\n",
       "      <th>0</th>\n",
       "      <td>Africa</td>\n",
       "      <td>NaN</td>\n",
       "      <td>1990</td>\n",
       "      <td>45.000</td>\n",
       "    </tr>\n",
       "    <tr>\n",
       "      <th>1</th>\n",
       "      <td>Africa</td>\n",
       "      <td>NaN</td>\n",
       "      <td>1995</td>\n",
       "      <td>45.000</td>\n",
       "    </tr>\n",
       "    <tr>\n",
       "      <th>2</th>\n",
       "      <td>Africa</td>\n",
       "      <td>NaN</td>\n",
       "      <td>2000</td>\n",
       "      <td>65.300</td>\n",
       "    </tr>\n",
       "    <tr>\n",
       "      <th>3</th>\n",
       "      <td>Africa</td>\n",
       "      <td>NaN</td>\n",
       "      <td>2001</td>\n",
       "      <td>65.300</td>\n",
       "    </tr>\n",
       "    <tr>\n",
       "      <th>4</th>\n",
       "      <td>Africa</td>\n",
       "      <td>NaN</td>\n",
       "      <td>2002</td>\n",
       "      <td>65.300</td>\n",
       "    </tr>\n",
       "  </tbody>\n",
       "</table>\n",
       "</div>"
      ],
      "text/plain": [
       "   Entity Code  Year  Geothermal Capacity\n",
       "0  Africa  NaN  1990               45.000\n",
       "1  Africa  NaN  1995               45.000\n",
       "2  Africa  NaN  2000               65.300\n",
       "3  Africa  NaN  2001               65.300\n",
       "4  Africa  NaN  2002               65.300"
      ]
     },
     "execution_count": 4,
     "metadata": {},
     "output_type": "execute_result"
    }
   ],
   "source": [
    "df_17.head()"
   ]
  },
  {
   "cell_type": "markdown",
   "id": "ea2f77b5",
   "metadata": {
    "papermill": {
     "duration": 0.011838,
     "end_time": "2024-02-14T11:28:27.357437",
     "exception": false,
     "start_time": "2024-02-14T11:28:27.345599",
     "status": "completed"
    },
    "tags": []
   },
   "source": [
    "<a id='import-required-libraries'></a>\n",
    "# <b><div style='padding:15px;background-color:#004080;color:white;border-radius:15px;font-size:100%;text-align: center'>Exploratory Data Analysis</div></b>"
   ]
  },
  {
   "cell_type": "code",
   "execution_count": 5,
   "id": "5f9a919d",
   "metadata": {
    "execution": {
     "iopub.execute_input": "2024-02-14T11:28:27.383726Z",
     "iopub.status.busy": "2024-02-14T11:28:27.382641Z",
     "iopub.status.idle": "2024-02-14T11:28:27.608470Z",
     "shell.execute_reply": "2024-02-14T11:28:27.607564Z"
    },
    "papermill": {
     "duration": 0.241415,
     "end_time": "2024-02-14T11:28:27.610570",
     "exception": false,
     "start_time": "2024-02-14T11:28:27.369155",
     "status": "completed"
    },
    "tags": []
   },
   "outputs": [
    {
     "name": "stdout",
     "output_type": "stream",
     "text": [
      "\u001b[4m\u001b[1m\u001b[34mShape\u001b[0m\n",
      "(758, 4)\n",
      "\u001b[4m\u001b[1m\u001b[34mTypes\u001b[0m\n",
      "<pandas.io.formats.style.Styler object at 0x78d9cf4b6890>\n",
      "\u001b[4m\u001b[1m\u001b[34mHead & Tail\u001b[0m\n"
     ]
    },
    {
     "data": {
      "text/html": [
       "<style type=\"text/css\">\n",
       "</style>\n",
       "<table id=\"T_1ae1e\">\n",
       "  <caption>Head</caption>\n",
       "  <thead>\n",
       "    <tr>\n",
       "      <th class=\"blank level0\" >&nbsp;</th>\n",
       "      <th id=\"T_1ae1e_level0_col0\" class=\"col_heading level0 col0\" >Entity</th>\n",
       "      <th id=\"T_1ae1e_level0_col1\" class=\"col_heading level0 col1\" >Code</th>\n",
       "      <th id=\"T_1ae1e_level0_col2\" class=\"col_heading level0 col2\" >Year</th>\n",
       "      <th id=\"T_1ae1e_level0_col3\" class=\"col_heading level0 col3\" >Geothermal Capacity</th>\n",
       "    </tr>\n",
       "  </thead>\n",
       "  <tbody>\n",
       "    <tr>\n",
       "      <th id=\"T_1ae1e_level0_row0\" class=\"row_heading level0 row0\" >0</th>\n",
       "      <td id=\"T_1ae1e_row0_col0\" class=\"data row0 col0\" >Africa</td>\n",
       "      <td id=\"T_1ae1e_row0_col1\" class=\"data row0 col1\" >nan</td>\n",
       "      <td id=\"T_1ae1e_row0_col2\" class=\"data row0 col2\" >1990</td>\n",
       "      <td id=\"T_1ae1e_row0_col3\" class=\"data row0 col3\" >45.000000</td>\n",
       "    </tr>\n",
       "    <tr>\n",
       "      <th id=\"T_1ae1e_level0_row1\" class=\"row_heading level0 row1\" >1</th>\n",
       "      <td id=\"T_1ae1e_row1_col0\" class=\"data row1 col0\" >Africa</td>\n",
       "      <td id=\"T_1ae1e_row1_col1\" class=\"data row1 col1\" >nan</td>\n",
       "      <td id=\"T_1ae1e_row1_col2\" class=\"data row1 col2\" >1995</td>\n",
       "      <td id=\"T_1ae1e_row1_col3\" class=\"data row1 col3\" >45.000000</td>\n",
       "    </tr>\n",
       "    <tr>\n",
       "      <th id=\"T_1ae1e_level0_row2\" class=\"row_heading level0 row2\" >2</th>\n",
       "      <td id=\"T_1ae1e_row2_col0\" class=\"data row2 col0\" >Africa</td>\n",
       "      <td id=\"T_1ae1e_row2_col1\" class=\"data row2 col1\" >nan</td>\n",
       "      <td id=\"T_1ae1e_row2_col2\" class=\"data row2 col2\" >2000</td>\n",
       "      <td id=\"T_1ae1e_row2_col3\" class=\"data row2 col3\" >65.300000</td>\n",
       "    </tr>\n",
       "    <tr>\n",
       "      <th id=\"T_1ae1e_level0_row3\" class=\"row_heading level0 row3\" >3</th>\n",
       "      <td id=\"T_1ae1e_row3_col0\" class=\"data row3 col0\" >Africa</td>\n",
       "      <td id=\"T_1ae1e_row3_col1\" class=\"data row3 col1\" >nan</td>\n",
       "      <td id=\"T_1ae1e_row3_col2\" class=\"data row3 col2\" >2001</td>\n",
       "      <td id=\"T_1ae1e_row3_col3\" class=\"data row3 col3\" >65.300000</td>\n",
       "    </tr>\n",
       "    <tr>\n",
       "      <th id=\"T_1ae1e_level0_row4\" class=\"row_heading level0 row4\" >4</th>\n",
       "      <td id=\"T_1ae1e_row4_col0\" class=\"data row4 col0\" >Africa</td>\n",
       "      <td id=\"T_1ae1e_row4_col1\" class=\"data row4 col1\" >nan</td>\n",
       "      <td id=\"T_1ae1e_row4_col2\" class=\"data row4 col2\" >2002</td>\n",
       "      <td id=\"T_1ae1e_row4_col3\" class=\"data row4 col3\" >65.300000</td>\n",
       "    </tr>\n",
       "  </tbody>\n",
       "</table>\n"
      ],
      "text/plain": [
       "<pandas.io.formats.style.Styler at 0x78d9cf4b6890>"
      ]
     },
     "metadata": {},
     "output_type": "display_data"
    },
    {
     "data": {
      "text/html": [
       "<style type=\"text/css\">\n",
       "</style>\n",
       "<table id=\"T_5afbd\">\n",
       "  <caption>Tail</caption>\n",
       "  <thead>\n",
       "    <tr>\n",
       "      <th class=\"blank level0\" >&nbsp;</th>\n",
       "      <th id=\"T_5afbd_level0_col0\" class=\"col_heading level0 col0\" >Entity</th>\n",
       "      <th id=\"T_5afbd_level0_col1\" class=\"col_heading level0 col1\" >Code</th>\n",
       "      <th id=\"T_5afbd_level0_col2\" class=\"col_heading level0 col2\" >Year</th>\n",
       "      <th id=\"T_5afbd_level0_col3\" class=\"col_heading level0 col3\" >Geothermal Capacity</th>\n",
       "    </tr>\n",
       "  </thead>\n",
       "  <tbody>\n",
       "    <tr>\n",
       "      <th id=\"T_5afbd_level0_row0\" class=\"row_heading level0 row0\" >753</th>\n",
       "      <td id=\"T_5afbd_row0_col0\" class=\"data row0 col0\" >World</td>\n",
       "      <td id=\"T_5afbd_row0_col1\" class=\"data row0 col1\" >OWID_WRL</td>\n",
       "      <td id=\"T_5afbd_row0_col2\" class=\"data row0 col2\" >2016</td>\n",
       "      <td id=\"T_5afbd_row0_col3\" class=\"data row0 col3\" >12121.594000</td>\n",
       "    </tr>\n",
       "    <tr>\n",
       "      <th id=\"T_5afbd_level0_row1\" class=\"row_heading level0 row1\" >754</th>\n",
       "      <td id=\"T_5afbd_row1_col0\" class=\"data row1 col0\" >World</td>\n",
       "      <td id=\"T_5afbd_row1_col1\" class=\"data row1 col1\" >OWID_WRL</td>\n",
       "      <td id=\"T_5afbd_row1_col2\" class=\"data row1 col2\" >2017</td>\n",
       "      <td id=\"T_5afbd_row1_col3\" class=\"data row1 col3\" >12680.665000</td>\n",
       "    </tr>\n",
       "    <tr>\n",
       "      <th id=\"T_5afbd_level0_row2\" class=\"row_heading level0 row2\" >755</th>\n",
       "      <td id=\"T_5afbd_row2_col0\" class=\"data row2 col0\" >World</td>\n",
       "      <td id=\"T_5afbd_row2_col1\" class=\"data row2 col1\" >OWID_WRL</td>\n",
       "      <td id=\"T_5afbd_row2_col2\" class=\"data row2 col2\" >2018</td>\n",
       "      <td id=\"T_5afbd_row2_col3\" class=\"data row2 col3\" >13244.865000</td>\n",
       "    </tr>\n",
       "    <tr>\n",
       "      <th id=\"T_5afbd_level0_row3\" class=\"row_heading level0 row3\" >756</th>\n",
       "      <td id=\"T_5afbd_row3_col0\" class=\"data row3 col0\" >World</td>\n",
       "      <td id=\"T_5afbd_row3_col1\" class=\"data row3 col1\" >OWID_WRL</td>\n",
       "      <td id=\"T_5afbd_row3_col2\" class=\"data row3 col2\" >2019</td>\n",
       "      <td id=\"T_5afbd_row3_col3\" class=\"data row3 col3\" >13911.665000</td>\n",
       "    </tr>\n",
       "    <tr>\n",
       "      <th id=\"T_5afbd_level0_row4\" class=\"row_heading level0 row4\" >757</th>\n",
       "      <td id=\"T_5afbd_row4_col0\" class=\"data row4 col0\" >World</td>\n",
       "      <td id=\"T_5afbd_row4_col1\" class=\"data row4 col1\" >OWID_WRL</td>\n",
       "      <td id=\"T_5afbd_row4_col2\" class=\"data row4 col2\" >2020</td>\n",
       "      <td id=\"T_5afbd_row4_col3\" class=\"data row4 col3\" >14075.000000</td>\n",
       "    </tr>\n",
       "  </tbody>\n",
       "</table>\n"
      ],
      "text/plain": [
       "<pandas.io.formats.style.Styler at 0x78d9cf4b6890>"
      ]
     },
     "metadata": {},
     "output_type": "display_data"
    },
    {
     "name": "stdout",
     "output_type": "stream",
     "text": [
      "\u001b[4m\u001b[1m\u001b[34mNA Values\u001b[0m\n"
     ]
    },
    {
     "data": {
      "text/html": [
       "<style type=\"text/css\">\n",
       "</style>\n",
       "<table id=\"T_d85bc\">\n",
       "  <caption>Number of NA Values</caption>\n",
       "  <thead>\n",
       "    <tr>\n",
       "      <th class=\"blank level0\" >&nbsp;</th>\n",
       "      <th id=\"T_d85bc_level0_col0\" class=\"col_heading level0 col0\" >Column</th>\n",
       "      <th id=\"T_d85bc_level0_col1\" class=\"col_heading level0 col1\" >Number of NA</th>\n",
       "    </tr>\n",
       "  </thead>\n",
       "  <tbody>\n",
       "    <tr>\n",
       "      <th id=\"T_d85bc_level0_row0\" class=\"row_heading level0 row0\" >0</th>\n",
       "      <td id=\"T_d85bc_row0_col0\" class=\"data row0 col0\" >Entity</td>\n",
       "      <td id=\"T_d85bc_row0_col1\" class=\"data row0 col1\" >0</td>\n",
       "    </tr>\n",
       "    <tr>\n",
       "      <th id=\"T_d85bc_level0_row1\" class=\"row_heading level0 row1\" >1</th>\n",
       "      <td id=\"T_d85bc_row1_col0\" class=\"data row1 col0\" >Code</td>\n",
       "      <td id=\"T_d85bc_row1_col1\" class=\"data row1 col1\" >182</td>\n",
       "    </tr>\n",
       "    <tr>\n",
       "      <th id=\"T_d85bc_level0_row2\" class=\"row_heading level0 row2\" >2</th>\n",
       "      <td id=\"T_d85bc_row2_col0\" class=\"data row2 col0\" >Year</td>\n",
       "      <td id=\"T_d85bc_row2_col1\" class=\"data row2 col1\" >0</td>\n",
       "    </tr>\n",
       "    <tr>\n",
       "      <th id=\"T_d85bc_level0_row3\" class=\"row_heading level0 row3\" >3</th>\n",
       "      <td id=\"T_d85bc_row3_col0\" class=\"data row3 col0\" >Geothermal Capacity</td>\n",
       "      <td id=\"T_d85bc_row3_col1\" class=\"data row3 col1\" >0</td>\n",
       "    </tr>\n",
       "  </tbody>\n",
       "</table>\n"
      ],
      "text/plain": [
       "<pandas.io.formats.style.Styler at 0x78d9f055f430>"
      ]
     },
     "metadata": {},
     "output_type": "display_data"
    },
    {
     "name": "stdout",
     "output_type": "stream",
     "text": [
      "\u001b[4m\u001b[1m\u001b[34mQuantiles\u001b[0m\n"
     ]
    },
    {
     "data": {
      "text/html": [
       "<style type=\"text/css\">\n",
       "</style>\n",
       "<table id=\"T_bff54\">\n",
       "  <caption>Quantiles</caption>\n",
       "  <thead>\n",
       "    <tr>\n",
       "      <th class=\"blank level0\" >&nbsp;</th>\n",
       "      <th id=\"T_bff54_level0_col0\" class=\"col_heading level0 col0\" >count</th>\n",
       "      <th id=\"T_bff54_level0_col1\" class=\"col_heading level0 col1\" >mean</th>\n",
       "      <th id=\"T_bff54_level0_col2\" class=\"col_heading level0 col2\" >std</th>\n",
       "      <th id=\"T_bff54_level0_col3\" class=\"col_heading level0 col3\" >min</th>\n",
       "      <th id=\"T_bff54_level0_col4\" class=\"col_heading level0 col4\" >0%</th>\n",
       "      <th id=\"T_bff54_level0_col5\" class=\"col_heading level0 col5\" >5%</th>\n",
       "      <th id=\"T_bff54_level0_col6\" class=\"col_heading level0 col6\" >50%</th>\n",
       "      <th id=\"T_bff54_level0_col7\" class=\"col_heading level0 col7\" >95%</th>\n",
       "      <th id=\"T_bff54_level0_col8\" class=\"col_heading level0 col8\" >99%</th>\n",
       "      <th id=\"T_bff54_level0_col9\" class=\"col_heading level0 col9\" >100%</th>\n",
       "      <th id=\"T_bff54_level0_col10\" class=\"col_heading level0 col10\" >max</th>\n",
       "    </tr>\n",
       "  </thead>\n",
       "  <tbody>\n",
       "    <tr>\n",
       "      <th id=\"T_bff54_level0_row0\" class=\"row_heading level0 row0\" >Year</th>\n",
       "      <td id=\"T_bff54_row0_col0\" class=\"data row0 col0\" >758.00</td>\n",
       "      <td id=\"T_bff54_row0_col1\" class=\"data row0 col1\" >2008.45</td>\n",
       "      <td id=\"T_bff54_row0_col2\" class=\"data row0 col2\" >7.77</td>\n",
       "      <td id=\"T_bff54_row0_col3\" class=\"data row0 col3\" >1975.00</td>\n",
       "      <td id=\"T_bff54_row0_col4\" class=\"data row0 col4\" >1975.00</td>\n",
       "      <td id=\"T_bff54_row0_col5\" class=\"data row0 col5\" >1995.00</td>\n",
       "      <td id=\"T_bff54_row0_col6\" class=\"data row0 col6\" >2009.00</td>\n",
       "      <td id=\"T_bff54_row0_col7\" class=\"data row0 col7\" >2019.00</td>\n",
       "      <td id=\"T_bff54_row0_col8\" class=\"data row0 col8\" >2020.00</td>\n",
       "      <td id=\"T_bff54_row0_col9\" class=\"data row0 col9\" >2020.00</td>\n",
       "      <td id=\"T_bff54_row0_col10\" class=\"data row0 col10\" >2020.00</td>\n",
       "    </tr>\n",
       "    <tr>\n",
       "      <th id=\"T_bff54_level0_row1\" class=\"row_heading level0 row1\" >Geothermal Capacity</th>\n",
       "      <td id=\"T_bff54_row1_col0\" class=\"data row1 col0\" >758.00</td>\n",
       "      <td id=\"T_bff54_row1_col1\" class=\"data row1 col1\" >919.94</td>\n",
       "      <td id=\"T_bff54_row1_col2\" class=\"data row1 col2\" >1948.33</td>\n",
       "      <td id=\"T_bff54_row1_col3\" class=\"data row1 col3\" >0.00</td>\n",
       "      <td id=\"T_bff54_row1_col4\" class=\"data row1 col4\" >0.00</td>\n",
       "      <td id=\"T_bff54_row1_col5\" class=\"data row1 col5\" >0.00</td>\n",
       "      <td id=\"T_bff54_row1_col6\" class=\"data row1 col6\" >145.00</td>\n",
       "      <td id=\"T_bff54_row1_col7\" class=\"data row1 col7\" >3891.55</td>\n",
       "      <td id=\"T_bff54_row1_col8\" class=\"data row1 col8\" >10582.34</td>\n",
       "      <td id=\"T_bff54_row1_col9\" class=\"data row1 col9\" >14075.00</td>\n",
       "      <td id=\"T_bff54_row1_col10\" class=\"data row1 col10\" >14075.00</td>\n",
       "    </tr>\n",
       "  </tbody>\n",
       "</table>\n"
      ],
      "text/plain": [
       "<pandas.io.formats.style.Styler at 0x78d9f055f430>"
      ]
     },
     "metadata": {},
     "output_type": "display_data"
    }
   ],
   "source": [
    "def print_section_title(title):\n",
    "    print(colored(title, 'blue', attrs=['bold', 'underline']))\n",
    "\n",
    "def display_head_and_tail(dataframe, head=5):\n",
    "    display(dataframe.head(head).style.set_caption(\"Head\"))\n",
    "    display(dataframe.tail(head).style.set_caption(\"Tail\"))\n",
    "\n",
    "def display_na(dataframe):\n",
    "    na_df = dataframe.isnull().sum().reset_index()\n",
    "    na_df.columns = ['Column', 'Number of NA']\n",
    "    display(na_df.style.set_caption(\"Number of NA Values\"))\n",
    "\n",
    "def display_quantiles(dataframe):\n",
    "    quantiles_df = dataframe.describe([0, 0.05, 0.50, 0.95, 0.99, 1]).T\n",
    "    display(quantiles_df.style.format(\"{:.2f}\").set_caption(\"Quantiles\"))\n",
    "\n",
    "def check_df(dataframe, head=5):\n",
    "    print_section_title('Shape')\n",
    "    print(dataframe.shape)\n",
    "    print_section_title('Types')\n",
    "    print(dataframe.dtypes.to_frame('Data Type').style.set_caption(\"Data Types\"))\n",
    "    print_section_title('Head & Tail')\n",
    "    display_head_and_tail(dataframe, head)\n",
    "    print_section_title('NA Values')\n",
    "    display_na(dataframe)\n",
    "    print_section_title('Quantiles')\n",
    "    display_quantiles(dataframe)\n",
    "\n",
    "check_df(df_17)"
   ]
  },
  {
   "cell_type": "code",
   "execution_count": 6,
   "id": "6e7d5f26",
   "metadata": {
    "execution": {
     "iopub.execute_input": "2024-02-14T11:28:27.642310Z",
     "iopub.status.busy": "2024-02-14T11:28:27.641884Z",
     "iopub.status.idle": "2024-02-14T11:28:27.653029Z",
     "shell.execute_reply": "2024-02-14T11:28:27.651678Z"
    },
    "papermill": {
     "duration": 0.030429,
     "end_time": "2024-02-14T11:28:27.655932",
     "exception": false,
     "start_time": "2024-02-14T11:28:27.625503",
     "status": "completed"
    },
    "tags": []
   },
   "outputs": [],
   "source": [
    "df_17 = df_17.drop(columns=['Code'])"
   ]
  },
  {
   "cell_type": "code",
   "execution_count": 7,
   "id": "91d9c33d",
   "metadata": {
    "execution": {
     "iopub.execute_input": "2024-02-14T11:28:27.686652Z",
     "iopub.status.busy": "2024-02-14T11:28:27.685554Z",
     "iopub.status.idle": "2024-02-14T11:28:27.697174Z",
     "shell.execute_reply": "2024-02-14T11:28:27.695632Z"
    },
    "papermill": {
     "duration": 0.030889,
     "end_time": "2024-02-14T11:28:27.700892",
     "exception": false,
     "start_time": "2024-02-14T11:28:27.670003",
     "status": "completed"
    },
    "tags": []
   },
   "outputs": [
    {
     "data": {
      "text/html": [
       "<div>\n",
       "<style scoped>\n",
       "    .dataframe tbody tr th:only-of-type {\n",
       "        vertical-align: middle;\n",
       "    }\n",
       "\n",
       "    .dataframe tbody tr th {\n",
       "        vertical-align: top;\n",
       "    }\n",
       "\n",
       "    .dataframe thead th {\n",
       "        text-align: right;\n",
       "    }\n",
       "</style>\n",
       "<table border=\"1\" class=\"dataframe\">\n",
       "  <thead>\n",
       "    <tr style=\"text-align: right;\">\n",
       "      <th></th>\n",
       "      <th>Entity</th>\n",
       "      <th>Year</th>\n",
       "      <th>Geothermal Capacity</th>\n",
       "    </tr>\n",
       "  </thead>\n",
       "  <tbody>\n",
       "    <tr>\n",
       "      <th>0</th>\n",
       "      <td>Africa</td>\n",
       "      <td>1990</td>\n",
       "      <td>45.000</td>\n",
       "    </tr>\n",
       "    <tr>\n",
       "      <th>1</th>\n",
       "      <td>Africa</td>\n",
       "      <td>1995</td>\n",
       "      <td>45.000</td>\n",
       "    </tr>\n",
       "    <tr>\n",
       "      <th>2</th>\n",
       "      <td>Africa</td>\n",
       "      <td>2000</td>\n",
       "      <td>65.300</td>\n",
       "    </tr>\n",
       "    <tr>\n",
       "      <th>3</th>\n",
       "      <td>Africa</td>\n",
       "      <td>2001</td>\n",
       "      <td>65.300</td>\n",
       "    </tr>\n",
       "    <tr>\n",
       "      <th>4</th>\n",
       "      <td>Africa</td>\n",
       "      <td>2002</td>\n",
       "      <td>65.300</td>\n",
       "    </tr>\n",
       "  </tbody>\n",
       "</table>\n",
       "</div>"
      ],
      "text/plain": [
       "   Entity  Year  Geothermal Capacity\n",
       "0  Africa  1990               45.000\n",
       "1  Africa  1995               45.000\n",
       "2  Africa  2000               65.300\n",
       "3  Africa  2001               65.300\n",
       "4  Africa  2002               65.300"
      ]
     },
     "execution_count": 7,
     "metadata": {},
     "output_type": "execute_result"
    }
   ],
   "source": [
    "df_17.head()"
   ]
  },
  {
   "cell_type": "markdown",
   "id": "b42e3e38",
   "metadata": {
    "papermill": {
     "duration": 0.013844,
     "end_time": "2024-02-14T11:28:27.727871",
     "exception": false,
     "start_time": "2024-02-14T11:28:27.714027",
     "status": "completed"
    },
    "tags": []
   },
   "source": [
    "<a id='GlobalGeothermalEnergyCapacityOverYears'></a>\n",
    "# <b><div style='padding:15px;background-color:#004080;color:white;border-radius:15px;font-size:100%;text-align: center'>Global Geothermal Energy Capacity Over Years</div></b>"
   ]
  },
  {
   "cell_type": "code",
   "execution_count": 8,
   "id": "763cde2a",
   "metadata": {
    "_kg_hide-input": true,
    "execution": {
     "iopub.execute_input": "2024-02-14T11:28:27.758624Z",
     "iopub.status.busy": "2024-02-14T11:28:27.758118Z",
     "iopub.status.idle": "2024-02-14T11:28:28.208277Z",
     "shell.execute_reply": "2024-02-14T11:28:28.206904Z"
    },
    "papermill": {
     "duration": 0.469088,
     "end_time": "2024-02-14T11:28:28.211008",
     "exception": false,
     "start_time": "2024-02-14T11:28:27.741920",
     "status": "completed"
    },
    "tags": []
   },
   "outputs": [
    {
     "data": {
      "text/html": [
       "        <script type=\"text/javascript\">\n",
       "        window.PlotlyConfig = {MathJaxConfig: 'local'};\n",
       "        if (window.MathJax && window.MathJax.Hub && window.MathJax.Hub.Config) {window.MathJax.Hub.Config({SVG: {font: \"STIX-Web\"}});}\n",
       "        if (typeof require !== 'undefined') {\n",
       "        require.undef(\"plotly\");\n",
       "        requirejs.config({\n",
       "            paths: {\n",
       "                'plotly': ['https://cdn.plot.ly/plotly-2.27.0.min']\n",
       "            }\n",
       "        });\n",
       "        require(['plotly'], function(Plotly) {\n",
       "            window._Plotly = Plotly;\n",
       "        });\n",
       "        }\n",
       "        </script>\n",
       "        "
      ]
     },
     "metadata": {},
     "output_type": "display_data"
    },
    {
     "data": {
      "text/html": [
       "<div>                            <div id=\"d114214f-afe2-450e-a64c-489070b26fa3\" class=\"plotly-graph-div\" style=\"height:525px; width:100%;\"></div>            <script type=\"text/javascript\">                require([\"plotly\"], function(Plotly) {                    window.PLOTLYENV=window.PLOTLYENV || {};                                    if (document.getElementById(\"d114214f-afe2-450e-a64c-489070b26fa3\")) {                    Plotly.newPlot(                        \"d114214f-afe2-450e-a64c-489070b26fa3\",                        [{\"mode\":\"lines+markers\",\"x\":[1975,1980,1985,1990,1995,2000,2001,2002,2003,2004,2005,2006,2007,2008,2009,2010,2011,2012,2013,2014,2015,2016,2017,2018,2019,2020],\"y\":[1300.0,3887.0,4764.0,17549.0,20299.58,24706.9,23749.9,24326.5,24587.3,24641.9,25691.8,26376.2,27066.2,28032.5,29371.7,29993.6,30400.2,31440.9,32152.800000000003,33485.445,35396.625,36364.782,38037.995,39730.595,41734.995,42225.0],\"type\":\"scatter\"}],                        {\"title\":{\"text\":\"Global Geothermal Energy Capacity Over Years\"},\"updatemenus\":[{\"buttons\":[{\"args\":[null],\"label\":\"Play\",\"method\":\"animate\"}],\"type\":\"buttons\"}],\"xaxis\":{\"autorange\":false,\"range\":[1975,2020]},\"yaxis\":{\"autorange\":false,\"range\":[1300.0,42225.0]},\"template\":{\"data\":{\"histogram2dcontour\":[{\"type\":\"histogram2dcontour\",\"colorbar\":{\"outlinewidth\":0,\"ticks\":\"\"},\"colorscale\":[[0.0,\"#0d0887\"],[0.1111111111111111,\"#46039f\"],[0.2222222222222222,\"#7201a8\"],[0.3333333333333333,\"#9c179e\"],[0.4444444444444444,\"#bd3786\"],[0.5555555555555556,\"#d8576b\"],[0.6666666666666666,\"#ed7953\"],[0.7777777777777778,\"#fb9f3a\"],[0.8888888888888888,\"#fdca26\"],[1.0,\"#f0f921\"]]}],\"choropleth\":[{\"type\":\"choropleth\",\"colorbar\":{\"outlinewidth\":0,\"ticks\":\"\"}}],\"histogram2d\":[{\"type\":\"histogram2d\",\"colorbar\":{\"outlinewidth\":0,\"ticks\":\"\"},\"colorscale\":[[0.0,\"#0d0887\"],[0.1111111111111111,\"#46039f\"],[0.2222222222222222,\"#7201a8\"],[0.3333333333333333,\"#9c179e\"],[0.4444444444444444,\"#bd3786\"],[0.5555555555555556,\"#d8576b\"],[0.6666666666666666,\"#ed7953\"],[0.7777777777777778,\"#fb9f3a\"],[0.8888888888888888,\"#fdca26\"],[1.0,\"#f0f921\"]]}],\"heatmap\":[{\"type\":\"heatmap\",\"colorbar\":{\"outlinewidth\":0,\"ticks\":\"\"},\"colorscale\":[[0.0,\"#0d0887\"],[0.1111111111111111,\"#46039f\"],[0.2222222222222222,\"#7201a8\"],[0.3333333333333333,\"#9c179e\"],[0.4444444444444444,\"#bd3786\"],[0.5555555555555556,\"#d8576b\"],[0.6666666666666666,\"#ed7953\"],[0.7777777777777778,\"#fb9f3a\"],[0.8888888888888888,\"#fdca26\"],[1.0,\"#f0f921\"]]}],\"heatmapgl\":[{\"type\":\"heatmapgl\",\"colorbar\":{\"outlinewidth\":0,\"ticks\":\"\"},\"colorscale\":[[0.0,\"#0d0887\"],[0.1111111111111111,\"#46039f\"],[0.2222222222222222,\"#7201a8\"],[0.3333333333333333,\"#9c179e\"],[0.4444444444444444,\"#bd3786\"],[0.5555555555555556,\"#d8576b\"],[0.6666666666666666,\"#ed7953\"],[0.7777777777777778,\"#fb9f3a\"],[0.8888888888888888,\"#fdca26\"],[1.0,\"#f0f921\"]]}],\"contourcarpet\":[{\"type\":\"contourcarpet\",\"colorbar\":{\"outlinewidth\":0,\"ticks\":\"\"}}],\"contour\":[{\"type\":\"contour\",\"colorbar\":{\"outlinewidth\":0,\"ticks\":\"\"},\"colorscale\":[[0.0,\"#0d0887\"],[0.1111111111111111,\"#46039f\"],[0.2222222222222222,\"#7201a8\"],[0.3333333333333333,\"#9c179e\"],[0.4444444444444444,\"#bd3786\"],[0.5555555555555556,\"#d8576b\"],[0.6666666666666666,\"#ed7953\"],[0.7777777777777778,\"#fb9f3a\"],[0.8888888888888888,\"#fdca26\"],[1.0,\"#f0f921\"]]}],\"surface\":[{\"type\":\"surface\",\"colorbar\":{\"outlinewidth\":0,\"ticks\":\"\"},\"colorscale\":[[0.0,\"#0d0887\"],[0.1111111111111111,\"#46039f\"],[0.2222222222222222,\"#7201a8\"],[0.3333333333333333,\"#9c179e\"],[0.4444444444444444,\"#bd3786\"],[0.5555555555555556,\"#d8576b\"],[0.6666666666666666,\"#ed7953\"],[0.7777777777777778,\"#fb9f3a\"],[0.8888888888888888,\"#fdca26\"],[1.0,\"#f0f921\"]]}],\"mesh3d\":[{\"type\":\"mesh3d\",\"colorbar\":{\"outlinewidth\":0,\"ticks\":\"\"}}],\"scatter\":[{\"fillpattern\":{\"fillmode\":\"overlay\",\"size\":10,\"solidity\":0.2},\"type\":\"scatter\"}],\"parcoords\":[{\"type\":\"parcoords\",\"line\":{\"colorbar\":{\"outlinewidth\":0,\"ticks\":\"\"}}}],\"scatterpolargl\":[{\"type\":\"scatterpolargl\",\"marker\":{\"colorbar\":{\"outlinewidth\":0,\"ticks\":\"\"}}}],\"bar\":[{\"error_x\":{\"color\":\"#2a3f5f\"},\"error_y\":{\"color\":\"#2a3f5f\"},\"marker\":{\"line\":{\"color\":\"#E5ECF6\",\"width\":0.5},\"pattern\":{\"fillmode\":\"overlay\",\"size\":10,\"solidity\":0.2}},\"type\":\"bar\"}],\"scattergeo\":[{\"type\":\"scattergeo\",\"marker\":{\"colorbar\":{\"outlinewidth\":0,\"ticks\":\"\"}}}],\"scatterpolar\":[{\"type\":\"scatterpolar\",\"marker\":{\"colorbar\":{\"outlinewidth\":0,\"ticks\":\"\"}}}],\"histogram\":[{\"marker\":{\"pattern\":{\"fillmode\":\"overlay\",\"size\":10,\"solidity\":0.2}},\"type\":\"histogram\"}],\"scattergl\":[{\"type\":\"scattergl\",\"marker\":{\"colorbar\":{\"outlinewidth\":0,\"ticks\":\"\"}}}],\"scatter3d\":[{\"type\":\"scatter3d\",\"line\":{\"colorbar\":{\"outlinewidth\":0,\"ticks\":\"\"}},\"marker\":{\"colorbar\":{\"outlinewidth\":0,\"ticks\":\"\"}}}],\"scattermapbox\":[{\"type\":\"scattermapbox\",\"marker\":{\"colorbar\":{\"outlinewidth\":0,\"ticks\":\"\"}}}],\"scatterternary\":[{\"type\":\"scatterternary\",\"marker\":{\"colorbar\":{\"outlinewidth\":0,\"ticks\":\"\"}}}],\"scattercarpet\":[{\"type\":\"scattercarpet\",\"marker\":{\"colorbar\":{\"outlinewidth\":0,\"ticks\":\"\"}}}],\"carpet\":[{\"aaxis\":{\"endlinecolor\":\"#2a3f5f\",\"gridcolor\":\"white\",\"linecolor\":\"white\",\"minorgridcolor\":\"white\",\"startlinecolor\":\"#2a3f5f\"},\"baxis\":{\"endlinecolor\":\"#2a3f5f\",\"gridcolor\":\"white\",\"linecolor\":\"white\",\"minorgridcolor\":\"white\",\"startlinecolor\":\"#2a3f5f\"},\"type\":\"carpet\"}],\"table\":[{\"cells\":{\"fill\":{\"color\":\"#EBF0F8\"},\"line\":{\"color\":\"white\"}},\"header\":{\"fill\":{\"color\":\"#C8D4E3\"},\"line\":{\"color\":\"white\"}},\"type\":\"table\"}],\"barpolar\":[{\"marker\":{\"line\":{\"color\":\"#E5ECF6\",\"width\":0.5},\"pattern\":{\"fillmode\":\"overlay\",\"size\":10,\"solidity\":0.2}},\"type\":\"barpolar\"}],\"pie\":[{\"automargin\":true,\"type\":\"pie\"}]},\"layout\":{\"autotypenumbers\":\"strict\",\"colorway\":[\"#636efa\",\"#EF553B\",\"#00cc96\",\"#ab63fa\",\"#FFA15A\",\"#19d3f3\",\"#FF6692\",\"#B6E880\",\"#FF97FF\",\"#FECB52\"],\"font\":{\"color\":\"#2a3f5f\"},\"hovermode\":\"closest\",\"hoverlabel\":{\"align\":\"left\"},\"paper_bgcolor\":\"white\",\"plot_bgcolor\":\"#E5ECF6\",\"polar\":{\"bgcolor\":\"#E5ECF6\",\"angularaxis\":{\"gridcolor\":\"white\",\"linecolor\":\"white\",\"ticks\":\"\"},\"radialaxis\":{\"gridcolor\":\"white\",\"linecolor\":\"white\",\"ticks\":\"\"}},\"ternary\":{\"bgcolor\":\"#E5ECF6\",\"aaxis\":{\"gridcolor\":\"white\",\"linecolor\":\"white\",\"ticks\":\"\"},\"baxis\":{\"gridcolor\":\"white\",\"linecolor\":\"white\",\"ticks\":\"\"},\"caxis\":{\"gridcolor\":\"white\",\"linecolor\":\"white\",\"ticks\":\"\"}},\"coloraxis\":{\"colorbar\":{\"outlinewidth\":0,\"ticks\":\"\"}},\"colorscale\":{\"sequential\":[[0.0,\"#0d0887\"],[0.1111111111111111,\"#46039f\"],[0.2222222222222222,\"#7201a8\"],[0.3333333333333333,\"#9c179e\"],[0.4444444444444444,\"#bd3786\"],[0.5555555555555556,\"#d8576b\"],[0.6666666666666666,\"#ed7953\"],[0.7777777777777778,\"#fb9f3a\"],[0.8888888888888888,\"#fdca26\"],[1.0,\"#f0f921\"]],\"sequentialminus\":[[0.0,\"#0d0887\"],[0.1111111111111111,\"#46039f\"],[0.2222222222222222,\"#7201a8\"],[0.3333333333333333,\"#9c179e\"],[0.4444444444444444,\"#bd3786\"],[0.5555555555555556,\"#d8576b\"],[0.6666666666666666,\"#ed7953\"],[0.7777777777777778,\"#fb9f3a\"],[0.8888888888888888,\"#fdca26\"],[1.0,\"#f0f921\"]],\"diverging\":[[0,\"#8e0152\"],[0.1,\"#c51b7d\"],[0.2,\"#de77ae\"],[0.3,\"#f1b6da\"],[0.4,\"#fde0ef\"],[0.5,\"#f7f7f7\"],[0.6,\"#e6f5d0\"],[0.7,\"#b8e186\"],[0.8,\"#7fbc41\"],[0.9,\"#4d9221\"],[1,\"#276419\"]]},\"xaxis\":{\"gridcolor\":\"white\",\"linecolor\":\"white\",\"ticks\":\"\",\"title\":{\"standoff\":15},\"zerolinecolor\":\"white\",\"automargin\":true,\"zerolinewidth\":2},\"yaxis\":{\"gridcolor\":\"white\",\"linecolor\":\"white\",\"ticks\":\"\",\"title\":{\"standoff\":15},\"zerolinecolor\":\"white\",\"automargin\":true,\"zerolinewidth\":2},\"scene\":{\"xaxis\":{\"backgroundcolor\":\"#E5ECF6\",\"gridcolor\":\"white\",\"linecolor\":\"white\",\"showbackground\":true,\"ticks\":\"\",\"zerolinecolor\":\"white\",\"gridwidth\":2},\"yaxis\":{\"backgroundcolor\":\"#E5ECF6\",\"gridcolor\":\"white\",\"linecolor\":\"white\",\"showbackground\":true,\"ticks\":\"\",\"zerolinecolor\":\"white\",\"gridwidth\":2},\"zaxis\":{\"backgroundcolor\":\"#E5ECF6\",\"gridcolor\":\"white\",\"linecolor\":\"white\",\"showbackground\":true,\"ticks\":\"\",\"zerolinecolor\":\"white\",\"gridwidth\":2}},\"shapedefaults\":{\"line\":{\"color\":\"#2a3f5f\"}},\"annotationdefaults\":{\"arrowcolor\":\"#2a3f5f\",\"arrowhead\":0,\"arrowwidth\":1},\"geo\":{\"bgcolor\":\"white\",\"landcolor\":\"#E5ECF6\",\"subunitcolor\":\"white\",\"showland\":true,\"showlakes\":true,\"lakecolor\":\"white\"},\"title\":{\"x\":0.05},\"mapbox\":{\"style\":\"light\"}}}},                        {\"responsive\": true}                    ).then(function(){\n",
       "                            Plotly.addFrames('d114214f-afe2-450e-a64c-489070b26fa3', [{\"data\":[{\"mode\":\"markers\",\"x\":[1975],\"y\":[1300.0],\"type\":\"scatter\"}],\"layout\":{\"title\":{\"text\":\"Global Geothermal Energy Capacity (Initial Year)\"}}},{\"data\":[{\"mode\":\"lines+markers\",\"x\":[1975],\"y\":[1300.0],\"type\":\"scatter\"}],\"layout\":{\"title\":{\"text\":\"Global Geothermal Energy Capacity Until 1975\"}}},{\"data\":[{\"mode\":\"lines+markers\",\"x\":[1975,1980],\"y\":[1300.0,3887.0],\"type\":\"scatter\"}],\"layout\":{\"title\":{\"text\":\"Global Geothermal Energy Capacity Until 1980\"}}},{\"data\":[{\"mode\":\"lines+markers\",\"x\":[1975,1980,1985],\"y\":[1300.0,3887.0,4764.0],\"type\":\"scatter\"}],\"layout\":{\"title\":{\"text\":\"Global Geothermal Energy Capacity Until 1985\"}}},{\"data\":[{\"mode\":\"lines+markers\",\"x\":[1975,1980,1985,1990],\"y\":[1300.0,3887.0,4764.0,17549.0],\"type\":\"scatter\"}],\"layout\":{\"title\":{\"text\":\"Global Geothermal Energy Capacity Until 1990\"}}},{\"data\":[{\"mode\":\"lines+markers\",\"x\":[1975,1980,1985,1990,1995],\"y\":[1300.0,3887.0,4764.0,17549.0,20299.58],\"type\":\"scatter\"}],\"layout\":{\"title\":{\"text\":\"Global Geothermal Energy Capacity Until 1995\"}}},{\"data\":[{\"mode\":\"lines+markers\",\"x\":[1975,1980,1985,1990,1995,2000],\"y\":[1300.0,3887.0,4764.0,17549.0,20299.58,24706.9],\"type\":\"scatter\"}],\"layout\":{\"title\":{\"text\":\"Global Geothermal Energy Capacity Until 2000\"}}},{\"data\":[{\"mode\":\"lines+markers\",\"x\":[1975,1980,1985,1990,1995,2000,2001],\"y\":[1300.0,3887.0,4764.0,17549.0,20299.58,24706.9,23749.9],\"type\":\"scatter\"}],\"layout\":{\"title\":{\"text\":\"Global Geothermal Energy Capacity Until 2001\"}}},{\"data\":[{\"mode\":\"lines+markers\",\"x\":[1975,1980,1985,1990,1995,2000,2001,2002],\"y\":[1300.0,3887.0,4764.0,17549.0,20299.58,24706.9,23749.9,24326.5],\"type\":\"scatter\"}],\"layout\":{\"title\":{\"text\":\"Global Geothermal Energy Capacity Until 2002\"}}},{\"data\":[{\"mode\":\"lines+markers\",\"x\":[1975,1980,1985,1990,1995,2000,2001,2002,2003],\"y\":[1300.0,3887.0,4764.0,17549.0,20299.58,24706.9,23749.9,24326.5,24587.3],\"type\":\"scatter\"}],\"layout\":{\"title\":{\"text\":\"Global Geothermal Energy Capacity Until 2003\"}}},{\"data\":[{\"mode\":\"lines+markers\",\"x\":[1975,1980,1985,1990,1995,2000,2001,2002,2003,2004],\"y\":[1300.0,3887.0,4764.0,17549.0,20299.58,24706.9,23749.9,24326.5,24587.3,24641.9],\"type\":\"scatter\"}],\"layout\":{\"title\":{\"text\":\"Global Geothermal Energy Capacity Until 2004\"}}},{\"data\":[{\"mode\":\"lines+markers\",\"x\":[1975,1980,1985,1990,1995,2000,2001,2002,2003,2004,2005],\"y\":[1300.0,3887.0,4764.0,17549.0,20299.58,24706.9,23749.9,24326.5,24587.3,24641.9,25691.8],\"type\":\"scatter\"}],\"layout\":{\"title\":{\"text\":\"Global Geothermal Energy Capacity Until 2005\"}}},{\"data\":[{\"mode\":\"lines+markers\",\"x\":[1975,1980,1985,1990,1995,2000,2001,2002,2003,2004,2005,2006],\"y\":[1300.0,3887.0,4764.0,17549.0,20299.58,24706.9,23749.9,24326.5,24587.3,24641.9,25691.8,26376.2],\"type\":\"scatter\"}],\"layout\":{\"title\":{\"text\":\"Global Geothermal Energy Capacity Until 2006\"}}},{\"data\":[{\"mode\":\"lines+markers\",\"x\":[1975,1980,1985,1990,1995,2000,2001,2002,2003,2004,2005,2006,2007],\"y\":[1300.0,3887.0,4764.0,17549.0,20299.58,24706.9,23749.9,24326.5,24587.3,24641.9,25691.8,26376.2,27066.2],\"type\":\"scatter\"}],\"layout\":{\"title\":{\"text\":\"Global Geothermal Energy Capacity Until 2007\"}}},{\"data\":[{\"mode\":\"lines+markers\",\"x\":[1975,1980,1985,1990,1995,2000,2001,2002,2003,2004,2005,2006,2007,2008],\"y\":[1300.0,3887.0,4764.0,17549.0,20299.58,24706.9,23749.9,24326.5,24587.3,24641.9,25691.8,26376.2,27066.2,28032.5],\"type\":\"scatter\"}],\"layout\":{\"title\":{\"text\":\"Global Geothermal Energy Capacity Until 2008\"}}},{\"data\":[{\"mode\":\"lines+markers\",\"x\":[1975,1980,1985,1990,1995,2000,2001,2002,2003,2004,2005,2006,2007,2008,2009],\"y\":[1300.0,3887.0,4764.0,17549.0,20299.58,24706.9,23749.9,24326.5,24587.3,24641.9,25691.8,26376.2,27066.2,28032.5,29371.7],\"type\":\"scatter\"}],\"layout\":{\"title\":{\"text\":\"Global Geothermal Energy Capacity Until 2009\"}}},{\"data\":[{\"mode\":\"lines+markers\",\"x\":[1975,1980,1985,1990,1995,2000,2001,2002,2003,2004,2005,2006,2007,2008,2009,2010],\"y\":[1300.0,3887.0,4764.0,17549.0,20299.58,24706.9,23749.9,24326.5,24587.3,24641.9,25691.8,26376.2,27066.2,28032.5,29371.7,29993.6],\"type\":\"scatter\"}],\"layout\":{\"title\":{\"text\":\"Global Geothermal Energy Capacity Until 2010\"}}},{\"data\":[{\"mode\":\"lines+markers\",\"x\":[1975,1980,1985,1990,1995,2000,2001,2002,2003,2004,2005,2006,2007,2008,2009,2010,2011],\"y\":[1300.0,3887.0,4764.0,17549.0,20299.58,24706.9,23749.9,24326.5,24587.3,24641.9,25691.8,26376.2,27066.2,28032.5,29371.7,29993.6,30400.2],\"type\":\"scatter\"}],\"layout\":{\"title\":{\"text\":\"Global Geothermal Energy Capacity Until 2011\"}}},{\"data\":[{\"mode\":\"lines+markers\",\"x\":[1975,1980,1985,1990,1995,2000,2001,2002,2003,2004,2005,2006,2007,2008,2009,2010,2011,2012],\"y\":[1300.0,3887.0,4764.0,17549.0,20299.58,24706.9,23749.9,24326.5,24587.3,24641.9,25691.8,26376.2,27066.2,28032.5,29371.7,29993.6,30400.2,31440.9],\"type\":\"scatter\"}],\"layout\":{\"title\":{\"text\":\"Global Geothermal Energy Capacity Until 2012\"}}},{\"data\":[{\"mode\":\"lines+markers\",\"x\":[1975,1980,1985,1990,1995,2000,2001,2002,2003,2004,2005,2006,2007,2008,2009,2010,2011,2012,2013],\"y\":[1300.0,3887.0,4764.0,17549.0,20299.58,24706.9,23749.9,24326.5,24587.3,24641.9,25691.8,26376.2,27066.2,28032.5,29371.7,29993.6,30400.2,31440.9,32152.800000000003],\"type\":\"scatter\"}],\"layout\":{\"title\":{\"text\":\"Global Geothermal Energy Capacity Until 2013\"}}},{\"data\":[{\"mode\":\"lines+markers\",\"x\":[1975,1980,1985,1990,1995,2000,2001,2002,2003,2004,2005,2006,2007,2008,2009,2010,2011,2012,2013,2014],\"y\":[1300.0,3887.0,4764.0,17549.0,20299.58,24706.9,23749.9,24326.5,24587.3,24641.9,25691.8,26376.2,27066.2,28032.5,29371.7,29993.6,30400.2,31440.9,32152.800000000003,33485.445],\"type\":\"scatter\"}],\"layout\":{\"title\":{\"text\":\"Global Geothermal Energy Capacity Until 2014\"}}},{\"data\":[{\"mode\":\"lines+markers\",\"x\":[1975,1980,1985,1990,1995,2000,2001,2002,2003,2004,2005,2006,2007,2008,2009,2010,2011,2012,2013,2014,2015],\"y\":[1300.0,3887.0,4764.0,17549.0,20299.58,24706.9,23749.9,24326.5,24587.3,24641.9,25691.8,26376.2,27066.2,28032.5,29371.7,29993.6,30400.2,31440.9,32152.800000000003,33485.445,35396.625],\"type\":\"scatter\"}],\"layout\":{\"title\":{\"text\":\"Global Geothermal Energy Capacity Until 2015\"}}},{\"data\":[{\"mode\":\"lines+markers\",\"x\":[1975,1980,1985,1990,1995,2000,2001,2002,2003,2004,2005,2006,2007,2008,2009,2010,2011,2012,2013,2014,2015,2016],\"y\":[1300.0,3887.0,4764.0,17549.0,20299.58,24706.9,23749.9,24326.5,24587.3,24641.9,25691.8,26376.2,27066.2,28032.5,29371.7,29993.6,30400.2,31440.9,32152.800000000003,33485.445,35396.625,36364.782],\"type\":\"scatter\"}],\"layout\":{\"title\":{\"text\":\"Global Geothermal Energy Capacity Until 2016\"}}},{\"data\":[{\"mode\":\"lines+markers\",\"x\":[1975,1980,1985,1990,1995,2000,2001,2002,2003,2004,2005,2006,2007,2008,2009,2010,2011,2012,2013,2014,2015,2016,2017],\"y\":[1300.0,3887.0,4764.0,17549.0,20299.58,24706.9,23749.9,24326.5,24587.3,24641.9,25691.8,26376.2,27066.2,28032.5,29371.7,29993.6,30400.2,31440.9,32152.800000000003,33485.445,35396.625,36364.782,38037.995],\"type\":\"scatter\"}],\"layout\":{\"title\":{\"text\":\"Global Geothermal Energy Capacity Until 2017\"}}},{\"data\":[{\"mode\":\"lines+markers\",\"x\":[1975,1980,1985,1990,1995,2000,2001,2002,2003,2004,2005,2006,2007,2008,2009,2010,2011,2012,2013,2014,2015,2016,2017,2018],\"y\":[1300.0,3887.0,4764.0,17549.0,20299.58,24706.9,23749.9,24326.5,24587.3,24641.9,25691.8,26376.2,27066.2,28032.5,29371.7,29993.6,30400.2,31440.9,32152.800000000003,33485.445,35396.625,36364.782,38037.995,39730.595],\"type\":\"scatter\"}],\"layout\":{\"title\":{\"text\":\"Global Geothermal Energy Capacity Until 2018\"}}},{\"data\":[{\"mode\":\"lines+markers\",\"x\":[1975,1980,1985,1990,1995,2000,2001,2002,2003,2004,2005,2006,2007,2008,2009,2010,2011,2012,2013,2014,2015,2016,2017,2018,2019],\"y\":[1300.0,3887.0,4764.0,17549.0,20299.58,24706.9,23749.9,24326.5,24587.3,24641.9,25691.8,26376.2,27066.2,28032.5,29371.7,29993.6,30400.2,31440.9,32152.800000000003,33485.445,35396.625,36364.782,38037.995,39730.595,41734.995],\"type\":\"scatter\"}],\"layout\":{\"title\":{\"text\":\"Global Geothermal Energy Capacity Until 2019\"}}},{\"data\":[{\"mode\":\"lines+markers\",\"x\":[1975,1980,1985,1990,1995,2000,2001,2002,2003,2004,2005,2006,2007,2008,2009,2010,2011,2012,2013,2014,2015,2016,2017,2018,2019,2020],\"y\":[1300.0,3887.0,4764.0,17549.0,20299.58,24706.9,23749.9,24326.5,24587.3,24641.9,25691.8,26376.2,27066.2,28032.5,29371.7,29993.6,30400.2,31440.9,32152.800000000003,33485.445,35396.625,36364.782,38037.995,39730.595,41734.995,42225.0],\"type\":\"scatter\"}],\"layout\":{\"title\":{\"text\":\"Global Geothermal Energy Capacity Until 2020\"}}}]);\n",
       "                        }).then(function(){\n",
       "                            \n",
       "var gd = document.getElementById('d114214f-afe2-450e-a64c-489070b26fa3');\n",
       "var x = new MutationObserver(function (mutations, observer) {{\n",
       "        var display = window.getComputedStyle(gd).display;\n",
       "        if (!display || display === 'none') {{\n",
       "            console.log([gd, 'removed!']);\n",
       "            Plotly.purge(gd);\n",
       "            observer.disconnect();\n",
       "        }}\n",
       "}});\n",
       "\n",
       "// Listen for the removal of the full notebook cells\n",
       "var notebookContainer = gd.closest('#notebook-container');\n",
       "if (notebookContainer) {{\n",
       "    x.observe(notebookContainer, {childList: true});\n",
       "}}\n",
       "\n",
       "// Listen for the clearing of the current output cell\n",
       "var outputEl = gd.closest('.output');\n",
       "if (outputEl) {{\n",
       "    x.observe(outputEl, {childList: true});\n",
       "}}\n",
       "\n",
       "                        })                };                });            </script>        </div>"
      ]
     },
     "metadata": {},
     "output_type": "display_data"
    }
   ],
   "source": [
    "global_trend = df_17.groupby('Year')['Geothermal Capacity'].sum().reset_index()\n",
    "\n",
    "frames = [go.Frame(\n",
    "    data=[go.Scatter(x=global_trend['Year'][:k+1], y=global_trend['Geothermal Capacity'][:k+1], mode='lines+markers')],\n",
    "    layout=go.Layout(title_text=f'Global Geothermal Energy Capacity Until {year}')\n",
    ") for k, year in enumerate(global_trend['Year'])]\n",
    "\n",
    "initial_frame = go.Frame(\n",
    "    data=[go.Scatter(x=[global_trend['Year'].iloc[0]], y=[global_trend['Geothermal Capacity'].iloc[0]], mode='markers')],\n",
    "    layout=go.Layout(title_text='Global Geothermal Energy Capacity (Initial Year)')\n",
    ")\n",
    "frames.insert(0, initial_frame)\n",
    "\n",
    "fig = go.Figure(\n",
    "    data=[go.Scatter(x=global_trend['Year'], y=global_trend['Geothermal Capacity'], mode='lines+markers')],\n",
    "    layout=go.Layout(\n",
    "        xaxis=dict(range=[global_trend['Year'].min(), global_trend['Year'].max()], autorange=False),\n",
    "        yaxis=dict(range=[global_trend['Geothermal Capacity'].min(), global_trend['Geothermal Capacity'].max()], autorange=False),\n",
    "        title=\"Global Geothermal Energy Capacity Over Years\",\n",
    "        updatemenus=[dict(\n",
    "            type=\"buttons\",\n",
    "            buttons=[dict(label=\"Play\",\n",
    "                          method=\"animate\",\n",
    "                          args=[None])])]\n",
    "    ),\n",
    "    frames=frames\n",
    ")\n",
    "\n",
    "fig.show()"
   ]
  },
  {
   "cell_type": "markdown",
   "id": "372c601a",
   "metadata": {
    "papermill": {
     "duration": 0.013119,
     "end_time": "2024-02-14T11:28:28.238682",
     "exception": false,
     "start_time": "2024-02-14T11:28:28.225563",
     "status": "completed"
    },
    "tags": []
   },
   "source": [
    "\n",
    "<div style=\"background-color: #f9f9f9; border-left: 5px solid #4CAF50; padding: 10px 15px; margin: 10px 0;\">\n",
    "  <p style=\"font-family: Arial, sans-serif; font-size: 14px; color: #333;\">\n",
    "    <strong>Graph Analysis:</strong> The animation presents a year-over-year progression of global geothermal energy capacity, encapsulating the growth from the initial year to the present. It commences with the initial data point, setting a foundational benchmark for geothermal capacity. As the animation unfolds, it sequentially reveals the annual increase in capacity, underscoring the consistent upward trajectory of geothermal energy adoption worldwide. The line graph, enhanced with markers for each year, serves to illustrate not only the incremental annual growth but also the accelerating pace at which geothermal energy is being harnessed. This visualization provides a compelling narrative of geothermal energy's expanding role in the global energy mix, emphasizing the cumulative capacity achieved over the years. The interactive 'Play' feature allows viewers to engage with the data dynamically, offering a temporal perspective on the geothermal energy landscape's evolution.\n",
    "  </p>\n",
    "</div>"
   ]
  },
  {
   "cell_type": "markdown",
   "id": "ca429599",
   "metadata": {
    "papermill": {
     "duration": 0.0148,
     "end_time": "2024-02-14T11:28:28.267831",
     "exception": false,
     "start_time": "2024-02-14T11:28:28.253031",
     "status": "completed"
    },
    "tags": []
   },
   "source": [
    "<a id='ProportionalDistributionofGeothermalCapacitybyContinent'></a>\n",
    "# <b><div style='padding:15px;background-color:#004080;color:white;border-radius:15px;font-size:100%;text-align: center'>Proportional Distribution of Geothermal Capacity by Continent</div></b>"
   ]
  },
  {
   "cell_type": "code",
   "execution_count": 9,
   "id": "c0b71dac",
   "metadata": {
    "_kg_hide-input": true,
    "execution": {
     "iopub.execute_input": "2024-02-14T11:28:28.302908Z",
     "iopub.status.busy": "2024-02-14T11:28:28.301915Z",
     "iopub.status.idle": "2024-02-14T11:28:30.039019Z",
     "shell.execute_reply": "2024-02-14T11:28:30.036945Z"
    },
    "papermill": {
     "duration": 1.758649,
     "end_time": "2024-02-14T11:28:30.041884",
     "exception": false,
     "start_time": "2024-02-14T11:28:28.283235",
     "status": "completed"
    },
    "tags": []
   },
   "outputs": [
    {
     "data": {
      "text/html": [
       "<div>                            <div id=\"458ae5d5-628b-458f-9483-d0491450a276\" class=\"plotly-graph-div\" style=\"height:525px; width:100%;\"></div>            <script type=\"text/javascript\">                require([\"plotly\"], function(Plotly) {                    window.PLOTLYENV=window.PLOTLYENV || {};                                    if (document.getElementById(\"458ae5d5-628b-458f-9483-d0491450a276\")) {                    Plotly.newPlot(                        \"458ae5d5-628b-458f-9483-d0491450a276\",                        [{\"domain\":{\"x\":[0.0,1.0],\"y\":[0.0,1.0]},\"hovertemplate\":\"Entity=%{label}\\u003cbr\\u003eGeothermal Capacity=%{value}\\u003cextra\\u003e\\u003c\\u002fextra\\u003e\",\"labels\":[\"Africa\",\"Europe\",\"North America\"],\"legendgroup\":\"\",\"name\":\"\",\"showlegend\":true,\"values\":[831.3,3265.0,3913.96],\"type\":\"pie\",\"textinfo\":\"percent+label\"}],                        {\"template\":{\"data\":{\"histogram2dcontour\":[{\"type\":\"histogram2dcontour\",\"colorbar\":{\"outlinewidth\":0,\"ticks\":\"\"},\"colorscale\":[[0.0,\"#0d0887\"],[0.1111111111111111,\"#46039f\"],[0.2222222222222222,\"#7201a8\"],[0.3333333333333333,\"#9c179e\"],[0.4444444444444444,\"#bd3786\"],[0.5555555555555556,\"#d8576b\"],[0.6666666666666666,\"#ed7953\"],[0.7777777777777778,\"#fb9f3a\"],[0.8888888888888888,\"#fdca26\"],[1.0,\"#f0f921\"]]}],\"choropleth\":[{\"type\":\"choropleth\",\"colorbar\":{\"outlinewidth\":0,\"ticks\":\"\"}}],\"histogram2d\":[{\"type\":\"histogram2d\",\"colorbar\":{\"outlinewidth\":0,\"ticks\":\"\"},\"colorscale\":[[0.0,\"#0d0887\"],[0.1111111111111111,\"#46039f\"],[0.2222222222222222,\"#7201a8\"],[0.3333333333333333,\"#9c179e\"],[0.4444444444444444,\"#bd3786\"],[0.5555555555555556,\"#d8576b\"],[0.6666666666666666,\"#ed7953\"],[0.7777777777777778,\"#fb9f3a\"],[0.8888888888888888,\"#fdca26\"],[1.0,\"#f0f921\"]]}],\"heatmap\":[{\"type\":\"heatmap\",\"colorbar\":{\"outlinewidth\":0,\"ticks\":\"\"},\"colorscale\":[[0.0,\"#0d0887\"],[0.1111111111111111,\"#46039f\"],[0.2222222222222222,\"#7201a8\"],[0.3333333333333333,\"#9c179e\"],[0.4444444444444444,\"#bd3786\"],[0.5555555555555556,\"#d8576b\"],[0.6666666666666666,\"#ed7953\"],[0.7777777777777778,\"#fb9f3a\"],[0.8888888888888888,\"#fdca26\"],[1.0,\"#f0f921\"]]}],\"heatmapgl\":[{\"type\":\"heatmapgl\",\"colorbar\":{\"outlinewidth\":0,\"ticks\":\"\"},\"colorscale\":[[0.0,\"#0d0887\"],[0.1111111111111111,\"#46039f\"],[0.2222222222222222,\"#7201a8\"],[0.3333333333333333,\"#9c179e\"],[0.4444444444444444,\"#bd3786\"],[0.5555555555555556,\"#d8576b\"],[0.6666666666666666,\"#ed7953\"],[0.7777777777777778,\"#fb9f3a\"],[0.8888888888888888,\"#fdca26\"],[1.0,\"#f0f921\"]]}],\"contourcarpet\":[{\"type\":\"contourcarpet\",\"colorbar\":{\"outlinewidth\":0,\"ticks\":\"\"}}],\"contour\":[{\"type\":\"contour\",\"colorbar\":{\"outlinewidth\":0,\"ticks\":\"\"},\"colorscale\":[[0.0,\"#0d0887\"],[0.1111111111111111,\"#46039f\"],[0.2222222222222222,\"#7201a8\"],[0.3333333333333333,\"#9c179e\"],[0.4444444444444444,\"#bd3786\"],[0.5555555555555556,\"#d8576b\"],[0.6666666666666666,\"#ed7953\"],[0.7777777777777778,\"#fb9f3a\"],[0.8888888888888888,\"#fdca26\"],[1.0,\"#f0f921\"]]}],\"surface\":[{\"type\":\"surface\",\"colorbar\":{\"outlinewidth\":0,\"ticks\":\"\"},\"colorscale\":[[0.0,\"#0d0887\"],[0.1111111111111111,\"#46039f\"],[0.2222222222222222,\"#7201a8\"],[0.3333333333333333,\"#9c179e\"],[0.4444444444444444,\"#bd3786\"],[0.5555555555555556,\"#d8576b\"],[0.6666666666666666,\"#ed7953\"],[0.7777777777777778,\"#fb9f3a\"],[0.8888888888888888,\"#fdca26\"],[1.0,\"#f0f921\"]]}],\"mesh3d\":[{\"type\":\"mesh3d\",\"colorbar\":{\"outlinewidth\":0,\"ticks\":\"\"}}],\"scatter\":[{\"fillpattern\":{\"fillmode\":\"overlay\",\"size\":10,\"solidity\":0.2},\"type\":\"scatter\"}],\"parcoords\":[{\"type\":\"parcoords\",\"line\":{\"colorbar\":{\"outlinewidth\":0,\"ticks\":\"\"}}}],\"scatterpolargl\":[{\"type\":\"scatterpolargl\",\"marker\":{\"colorbar\":{\"outlinewidth\":0,\"ticks\":\"\"}}}],\"bar\":[{\"error_x\":{\"color\":\"#2a3f5f\"},\"error_y\":{\"color\":\"#2a3f5f\"},\"marker\":{\"line\":{\"color\":\"#E5ECF6\",\"width\":0.5},\"pattern\":{\"fillmode\":\"overlay\",\"size\":10,\"solidity\":0.2}},\"type\":\"bar\"}],\"scattergeo\":[{\"type\":\"scattergeo\",\"marker\":{\"colorbar\":{\"outlinewidth\":0,\"ticks\":\"\"}}}],\"scatterpolar\":[{\"type\":\"scatterpolar\",\"marker\":{\"colorbar\":{\"outlinewidth\":0,\"ticks\":\"\"}}}],\"histogram\":[{\"marker\":{\"pattern\":{\"fillmode\":\"overlay\",\"size\":10,\"solidity\":0.2}},\"type\":\"histogram\"}],\"scattergl\":[{\"type\":\"scattergl\",\"marker\":{\"colorbar\":{\"outlinewidth\":0,\"ticks\":\"\"}}}],\"scatter3d\":[{\"type\":\"scatter3d\",\"line\":{\"colorbar\":{\"outlinewidth\":0,\"ticks\":\"\"}},\"marker\":{\"colorbar\":{\"outlinewidth\":0,\"ticks\":\"\"}}}],\"scattermapbox\":[{\"type\":\"scattermapbox\",\"marker\":{\"colorbar\":{\"outlinewidth\":0,\"ticks\":\"\"}}}],\"scatterternary\":[{\"type\":\"scatterternary\",\"marker\":{\"colorbar\":{\"outlinewidth\":0,\"ticks\":\"\"}}}],\"scattercarpet\":[{\"type\":\"scattercarpet\",\"marker\":{\"colorbar\":{\"outlinewidth\":0,\"ticks\":\"\"}}}],\"carpet\":[{\"aaxis\":{\"endlinecolor\":\"#2a3f5f\",\"gridcolor\":\"white\",\"linecolor\":\"white\",\"minorgridcolor\":\"white\",\"startlinecolor\":\"#2a3f5f\"},\"baxis\":{\"endlinecolor\":\"#2a3f5f\",\"gridcolor\":\"white\",\"linecolor\":\"white\",\"minorgridcolor\":\"white\",\"startlinecolor\":\"#2a3f5f\"},\"type\":\"carpet\"}],\"table\":[{\"cells\":{\"fill\":{\"color\":\"#EBF0F8\"},\"line\":{\"color\":\"white\"}},\"header\":{\"fill\":{\"color\":\"#C8D4E3\"},\"line\":{\"color\":\"white\"}},\"type\":\"table\"}],\"barpolar\":[{\"marker\":{\"line\":{\"color\":\"#E5ECF6\",\"width\":0.5},\"pattern\":{\"fillmode\":\"overlay\",\"size\":10,\"solidity\":0.2}},\"type\":\"barpolar\"}],\"pie\":[{\"automargin\":true,\"type\":\"pie\"}]},\"layout\":{\"autotypenumbers\":\"strict\",\"colorway\":[\"#636efa\",\"#EF553B\",\"#00cc96\",\"#ab63fa\",\"#FFA15A\",\"#19d3f3\",\"#FF6692\",\"#B6E880\",\"#FF97FF\",\"#FECB52\"],\"font\":{\"color\":\"#2a3f5f\"},\"hovermode\":\"closest\",\"hoverlabel\":{\"align\":\"left\"},\"paper_bgcolor\":\"white\",\"plot_bgcolor\":\"#E5ECF6\",\"polar\":{\"bgcolor\":\"#E5ECF6\",\"angularaxis\":{\"gridcolor\":\"white\",\"linecolor\":\"white\",\"ticks\":\"\"},\"radialaxis\":{\"gridcolor\":\"white\",\"linecolor\":\"white\",\"ticks\":\"\"}},\"ternary\":{\"bgcolor\":\"#E5ECF6\",\"aaxis\":{\"gridcolor\":\"white\",\"linecolor\":\"white\",\"ticks\":\"\"},\"baxis\":{\"gridcolor\":\"white\",\"linecolor\":\"white\",\"ticks\":\"\"},\"caxis\":{\"gridcolor\":\"white\",\"linecolor\":\"white\",\"ticks\":\"\"}},\"coloraxis\":{\"colorbar\":{\"outlinewidth\":0,\"ticks\":\"\"}},\"colorscale\":{\"sequential\":[[0.0,\"#0d0887\"],[0.1111111111111111,\"#46039f\"],[0.2222222222222222,\"#7201a8\"],[0.3333333333333333,\"#9c179e\"],[0.4444444444444444,\"#bd3786\"],[0.5555555555555556,\"#d8576b\"],[0.6666666666666666,\"#ed7953\"],[0.7777777777777778,\"#fb9f3a\"],[0.8888888888888888,\"#fdca26\"],[1.0,\"#f0f921\"]],\"sequentialminus\":[[0.0,\"#0d0887\"],[0.1111111111111111,\"#46039f\"],[0.2222222222222222,\"#7201a8\"],[0.3333333333333333,\"#9c179e\"],[0.4444444444444444,\"#bd3786\"],[0.5555555555555556,\"#d8576b\"],[0.6666666666666666,\"#ed7953\"],[0.7777777777777778,\"#fb9f3a\"],[0.8888888888888888,\"#fdca26\"],[1.0,\"#f0f921\"]],\"diverging\":[[0,\"#8e0152\"],[0.1,\"#c51b7d\"],[0.2,\"#de77ae\"],[0.3,\"#f1b6da\"],[0.4,\"#fde0ef\"],[0.5,\"#f7f7f7\"],[0.6,\"#e6f5d0\"],[0.7,\"#b8e186\"],[0.8,\"#7fbc41\"],[0.9,\"#4d9221\"],[1,\"#276419\"]]},\"xaxis\":{\"gridcolor\":\"white\",\"linecolor\":\"white\",\"ticks\":\"\",\"title\":{\"standoff\":15},\"zerolinecolor\":\"white\",\"automargin\":true,\"zerolinewidth\":2},\"yaxis\":{\"gridcolor\":\"white\",\"linecolor\":\"white\",\"ticks\":\"\",\"title\":{\"standoff\":15},\"zerolinecolor\":\"white\",\"automargin\":true,\"zerolinewidth\":2},\"scene\":{\"xaxis\":{\"backgroundcolor\":\"#E5ECF6\",\"gridcolor\":\"white\",\"linecolor\":\"white\",\"showbackground\":true,\"ticks\":\"\",\"zerolinecolor\":\"white\",\"gridwidth\":2},\"yaxis\":{\"backgroundcolor\":\"#E5ECF6\",\"gridcolor\":\"white\",\"linecolor\":\"white\",\"showbackground\":true,\"ticks\":\"\",\"zerolinecolor\":\"white\",\"gridwidth\":2},\"zaxis\":{\"backgroundcolor\":\"#E5ECF6\",\"gridcolor\":\"white\",\"linecolor\":\"white\",\"showbackground\":true,\"ticks\":\"\",\"zerolinecolor\":\"white\",\"gridwidth\":2}},\"shapedefaults\":{\"line\":{\"color\":\"#2a3f5f\"}},\"annotationdefaults\":{\"arrowcolor\":\"#2a3f5f\",\"arrowhead\":0,\"arrowwidth\":1},\"geo\":{\"bgcolor\":\"white\",\"landcolor\":\"#E5ECF6\",\"subunitcolor\":\"white\",\"showland\":true,\"showlakes\":true,\"lakecolor\":\"white\"},\"title\":{\"x\":0.05},\"mapbox\":{\"style\":\"light\"}}},\"legend\":{\"tracegroupgap\":0,\"title\":{\"text\":\"Continent\"}},\"title\":{\"text\":\"Proportional Distribution of Geothermal Capacity by Continent\"},\"piecolorway\":[\"rgb(103,0,31)\",\"rgb(178,24,43)\",\"rgb(214,96,77)\",\"rgb(244,165,130)\",\"rgb(253,219,199)\",\"rgb(247,247,247)\",\"rgb(209,229,240)\",\"rgb(146,197,222)\",\"rgb(67,147,195)\",\"rgb(33,102,172)\",\"rgb(5,48,97)\"]},                        {\"responsive\": true}                    ).then(function(){\n",
       "                            \n",
       "var gd = document.getElementById('458ae5d5-628b-458f-9483-d0491450a276');\n",
       "var x = new MutationObserver(function (mutations, observer) {{\n",
       "        var display = window.getComputedStyle(gd).display;\n",
       "        if (!display || display === 'none') {{\n",
       "            console.log([gd, 'removed!']);\n",
       "            Plotly.purge(gd);\n",
       "            observer.disconnect();\n",
       "        }}\n",
       "}});\n",
       "\n",
       "// Listen for the removal of the full notebook cells\n",
       "var notebookContainer = gd.closest('#notebook-container');\n",
       "if (notebookContainer) {{\n",
       "    x.observe(notebookContainer, {childList: true});\n",
       "}}\n",
       "\n",
       "// Listen for the clearing of the current output cell\n",
       "var outputEl = gd.closest('.output');\n",
       "if (outputEl) {{\n",
       "    x.observe(outputEl, {childList: true});\n",
       "}}\n",
       "\n",
       "                        })                };                });            </script>        </div>"
      ]
     },
     "metadata": {},
     "output_type": "display_data"
    }
   ],
   "source": [
    "continents = ['Africa', 'Asia', 'Europe', 'North America', 'South America', 'Oceania']\n",
    "df_continents = df_17[df_17['Entity'].isin(continents)]\n",
    "\n",
    "continent_totals = df_continents.groupby('Entity')['Geothermal Capacity'].max()\n",
    "\n",
    "fig = px.pie(continent_totals, values='Geothermal Capacity', names=continent_totals.index,\n",
    "             title='Proportional Distribution of Geothermal Capacity by Continent',\n",
    "             color_discrete_sequence=px.colors.sequential.RdBu)\n",
    "\n",
    "fig.update_traces(textinfo='percent+label')\n",
    "fig.update_layout(legend_title='Continent')\n",
    "\n",
    "fig.show()"
   ]
  },
  {
   "cell_type": "markdown",
   "id": "c75392cd",
   "metadata": {
    "papermill": {
     "duration": 0.014713,
     "end_time": "2024-02-14T11:28:30.071236",
     "exception": false,
     "start_time": "2024-02-14T11:28:30.056523",
     "status": "completed"
    },
    "tags": []
   },
   "source": [
    "<div style=\"background-color: #f9f9f9; border-left: 5px solid #FFA07A; padding: 10px 15px; margin: 10px 0;\">\n",
    "  <p style=\"font-family: Arial, sans-serif; font-size: 14px; color: #333;\">\n",
    "    <strong>Graph Analysis:</strong> This pie chart illustrates the proportional distribution of geothermal energy capacity across different continents, highlighting the geographical disparities in geothermal utilization. Each slice of the pie chart is color-coded to represent a continent, providing a visual segmentation that facilitates an immediate understanding of each continent's contribution to the global geothermal capacity. The use of percentage labels alongside the continent names allows for a straightforward interpretation of the data, offering insights into which continents are leading in geothermal energy production and which have untapped potential. The legend further aids in identifying each continent, making the chart both informative and accessible. This visualization underscores the varying degrees of geothermal energy adoption around the world and prompts discussions on the factors influencing these disparities, such as geological conditions, technological advancements, and policy frameworks.\n",
    "  </p>\n",
    "</div>\n"
   ]
  },
  {
   "cell_type": "markdown",
   "id": "a4d11884",
   "metadata": {
    "papermill": {
     "duration": 0.014976,
     "end_time": "2024-02-14T11:28:30.102090",
     "exception": false,
     "start_time": "2024-02-14T11:28:30.087114",
     "status": "completed"
    },
    "tags": []
   },
   "source": [
    "<a id='Top10GeothermalCapacityCountries'></a>\n",
    "# <b><div style='padding:15px;background-color:#004080;color:white;border-radius:15px;font-size:100%;text-align: center'>Top 10 Geothermal Capacity Countries</div></b>"
   ]
  },
  {
   "cell_type": "code",
   "execution_count": 10,
   "id": "c716fcce",
   "metadata": {
    "_kg_hide-input": true,
    "execution": {
     "iopub.execute_input": "2024-02-14T11:28:30.205447Z",
     "iopub.status.busy": "2024-02-14T11:28:30.204961Z",
     "iopub.status.idle": "2024-02-14T11:28:30.353358Z",
     "shell.execute_reply": "2024-02-14T11:28:30.351572Z"
    },
    "papermill": {
     "duration": 0.168281,
     "end_time": "2024-02-14T11:28:30.356531",
     "exception": false,
     "start_time": "2024-02-14T11:28:30.188250",
     "status": "completed"
    },
    "tags": []
   },
   "outputs": [
    {
     "data": {
      "text/html": [
       "<div>                            <div id=\"e2f8e940-0d1c-41c9-a676-f0be193c1887\" class=\"plotly-graph-div\" style=\"height:525px; width:100%;\"></div>            <script type=\"text/javascript\">                require([\"plotly\"], function(Plotly) {                    window.PLOTLYENV=window.PLOTLYENV || {};                                    if (document.getElementById(\"e2f8e940-0d1c-41c9-a676-f0be193c1887\")) {                    Plotly.newPlot(                        \"e2f8e940-0d1c-41c9-a676-f0be193c1887\",                        [{\"hovertemplate\":\"\\u003cb\\u003e%{hovertext}\\u003c\\u002fb\\u003e\\u003cbr\\u003e\\u003cbr\\u003eCountry=%{x}\\u003cbr\\u003eGeothermal Capacity (MW)=%{marker.color}\\u003cextra\\u003e\\u003c\\u002fextra\\u003e\",\"hovertext\":[\"Asia Pacific\",\"United States\",\"Indonesia\",\"Philippines\",\"Turkey\",\"New Zealand\",\"Mexico\",\"Kenya\",\"Italy\",\"South & Central America\"],\"legendgroup\":\"\",\"marker\":{\"color\":[5650.0,3170.96,2131.0,1928.1,1613.0,984.0,965.0,824.0,797.0,762.0],\"coloraxis\":\"coloraxis\",\"size\":[5650.0,3170.96,2131.0,1928.1,1613.0,984.0,965.0,824.0,797.0,762.0],\"sizemode\":\"area\",\"sizeref\":1.5694444444444444,\"symbol\":\"circle\"},\"mode\":\"markers\",\"name\":\"\",\"orientation\":\"v\",\"showlegend\":false,\"x\":[\"Asia Pacific\",\"United States\",\"Indonesia\",\"Philippines\",\"Turkey\",\"New Zealand\",\"Mexico\",\"Kenya\",\"Italy\",\"South & Central America\"],\"xaxis\":\"x\",\"y\":[5650.0,3170.96,2131.0,1928.1,1613.0,984.0,965.0,824.0,797.0,762.0],\"yaxis\":\"y\",\"type\":\"scatter\"}],                        {\"template\":{\"data\":{\"histogram2dcontour\":[{\"type\":\"histogram2dcontour\",\"colorbar\":{\"outlinewidth\":0,\"ticks\":\"\"},\"colorscale\":[[0.0,\"#0d0887\"],[0.1111111111111111,\"#46039f\"],[0.2222222222222222,\"#7201a8\"],[0.3333333333333333,\"#9c179e\"],[0.4444444444444444,\"#bd3786\"],[0.5555555555555556,\"#d8576b\"],[0.6666666666666666,\"#ed7953\"],[0.7777777777777778,\"#fb9f3a\"],[0.8888888888888888,\"#fdca26\"],[1.0,\"#f0f921\"]]}],\"choropleth\":[{\"type\":\"choropleth\",\"colorbar\":{\"outlinewidth\":0,\"ticks\":\"\"}}],\"histogram2d\":[{\"type\":\"histogram2d\",\"colorbar\":{\"outlinewidth\":0,\"ticks\":\"\"},\"colorscale\":[[0.0,\"#0d0887\"],[0.1111111111111111,\"#46039f\"],[0.2222222222222222,\"#7201a8\"],[0.3333333333333333,\"#9c179e\"],[0.4444444444444444,\"#bd3786\"],[0.5555555555555556,\"#d8576b\"],[0.6666666666666666,\"#ed7953\"],[0.7777777777777778,\"#fb9f3a\"],[0.8888888888888888,\"#fdca26\"],[1.0,\"#f0f921\"]]}],\"heatmap\":[{\"type\":\"heatmap\",\"colorbar\":{\"outlinewidth\":0,\"ticks\":\"\"},\"colorscale\":[[0.0,\"#0d0887\"],[0.1111111111111111,\"#46039f\"],[0.2222222222222222,\"#7201a8\"],[0.3333333333333333,\"#9c179e\"],[0.4444444444444444,\"#bd3786\"],[0.5555555555555556,\"#d8576b\"],[0.6666666666666666,\"#ed7953\"],[0.7777777777777778,\"#fb9f3a\"],[0.8888888888888888,\"#fdca26\"],[1.0,\"#f0f921\"]]}],\"heatmapgl\":[{\"type\":\"heatmapgl\",\"colorbar\":{\"outlinewidth\":0,\"ticks\":\"\"},\"colorscale\":[[0.0,\"#0d0887\"],[0.1111111111111111,\"#46039f\"],[0.2222222222222222,\"#7201a8\"],[0.3333333333333333,\"#9c179e\"],[0.4444444444444444,\"#bd3786\"],[0.5555555555555556,\"#d8576b\"],[0.6666666666666666,\"#ed7953\"],[0.7777777777777778,\"#fb9f3a\"],[0.8888888888888888,\"#fdca26\"],[1.0,\"#f0f921\"]]}],\"contourcarpet\":[{\"type\":\"contourcarpet\",\"colorbar\":{\"outlinewidth\":0,\"ticks\":\"\"}}],\"contour\":[{\"type\":\"contour\",\"colorbar\":{\"outlinewidth\":0,\"ticks\":\"\"},\"colorscale\":[[0.0,\"#0d0887\"],[0.1111111111111111,\"#46039f\"],[0.2222222222222222,\"#7201a8\"],[0.3333333333333333,\"#9c179e\"],[0.4444444444444444,\"#bd3786\"],[0.5555555555555556,\"#d8576b\"],[0.6666666666666666,\"#ed7953\"],[0.7777777777777778,\"#fb9f3a\"],[0.8888888888888888,\"#fdca26\"],[1.0,\"#f0f921\"]]}],\"surface\":[{\"type\":\"surface\",\"colorbar\":{\"outlinewidth\":0,\"ticks\":\"\"},\"colorscale\":[[0.0,\"#0d0887\"],[0.1111111111111111,\"#46039f\"],[0.2222222222222222,\"#7201a8\"],[0.3333333333333333,\"#9c179e\"],[0.4444444444444444,\"#bd3786\"],[0.5555555555555556,\"#d8576b\"],[0.6666666666666666,\"#ed7953\"],[0.7777777777777778,\"#fb9f3a\"],[0.8888888888888888,\"#fdca26\"],[1.0,\"#f0f921\"]]}],\"mesh3d\":[{\"type\":\"mesh3d\",\"colorbar\":{\"outlinewidth\":0,\"ticks\":\"\"}}],\"scatter\":[{\"fillpattern\":{\"fillmode\":\"overlay\",\"size\":10,\"solidity\":0.2},\"type\":\"scatter\"}],\"parcoords\":[{\"type\":\"parcoords\",\"line\":{\"colorbar\":{\"outlinewidth\":0,\"ticks\":\"\"}}}],\"scatterpolargl\":[{\"type\":\"scatterpolargl\",\"marker\":{\"colorbar\":{\"outlinewidth\":0,\"ticks\":\"\"}}}],\"bar\":[{\"error_x\":{\"color\":\"#2a3f5f\"},\"error_y\":{\"color\":\"#2a3f5f\"},\"marker\":{\"line\":{\"color\":\"#E5ECF6\",\"width\":0.5},\"pattern\":{\"fillmode\":\"overlay\",\"size\":10,\"solidity\":0.2}},\"type\":\"bar\"}],\"scattergeo\":[{\"type\":\"scattergeo\",\"marker\":{\"colorbar\":{\"outlinewidth\":0,\"ticks\":\"\"}}}],\"scatterpolar\":[{\"type\":\"scatterpolar\",\"marker\":{\"colorbar\":{\"outlinewidth\":0,\"ticks\":\"\"}}}],\"histogram\":[{\"marker\":{\"pattern\":{\"fillmode\":\"overlay\",\"size\":10,\"solidity\":0.2}},\"type\":\"histogram\"}],\"scattergl\":[{\"type\":\"scattergl\",\"marker\":{\"colorbar\":{\"outlinewidth\":0,\"ticks\":\"\"}}}],\"scatter3d\":[{\"type\":\"scatter3d\",\"line\":{\"colorbar\":{\"outlinewidth\":0,\"ticks\":\"\"}},\"marker\":{\"colorbar\":{\"outlinewidth\":0,\"ticks\":\"\"}}}],\"scattermapbox\":[{\"type\":\"scattermapbox\",\"marker\":{\"colorbar\":{\"outlinewidth\":0,\"ticks\":\"\"}}}],\"scatterternary\":[{\"type\":\"scatterternary\",\"marker\":{\"colorbar\":{\"outlinewidth\":0,\"ticks\":\"\"}}}],\"scattercarpet\":[{\"type\":\"scattercarpet\",\"marker\":{\"colorbar\":{\"outlinewidth\":0,\"ticks\":\"\"}}}],\"carpet\":[{\"aaxis\":{\"endlinecolor\":\"#2a3f5f\",\"gridcolor\":\"white\",\"linecolor\":\"white\",\"minorgridcolor\":\"white\",\"startlinecolor\":\"#2a3f5f\"},\"baxis\":{\"endlinecolor\":\"#2a3f5f\",\"gridcolor\":\"white\",\"linecolor\":\"white\",\"minorgridcolor\":\"white\",\"startlinecolor\":\"#2a3f5f\"},\"type\":\"carpet\"}],\"table\":[{\"cells\":{\"fill\":{\"color\":\"#EBF0F8\"},\"line\":{\"color\":\"white\"}},\"header\":{\"fill\":{\"color\":\"#C8D4E3\"},\"line\":{\"color\":\"white\"}},\"type\":\"table\"}],\"barpolar\":[{\"marker\":{\"line\":{\"color\":\"#E5ECF6\",\"width\":0.5},\"pattern\":{\"fillmode\":\"overlay\",\"size\":10,\"solidity\":0.2}},\"type\":\"barpolar\"}],\"pie\":[{\"automargin\":true,\"type\":\"pie\"}]},\"layout\":{\"autotypenumbers\":\"strict\",\"colorway\":[\"#636efa\",\"#EF553B\",\"#00cc96\",\"#ab63fa\",\"#FFA15A\",\"#19d3f3\",\"#FF6692\",\"#B6E880\",\"#FF97FF\",\"#FECB52\"],\"font\":{\"color\":\"#2a3f5f\"},\"hovermode\":\"closest\",\"hoverlabel\":{\"align\":\"left\"},\"paper_bgcolor\":\"white\",\"plot_bgcolor\":\"#E5ECF6\",\"polar\":{\"bgcolor\":\"#E5ECF6\",\"angularaxis\":{\"gridcolor\":\"white\",\"linecolor\":\"white\",\"ticks\":\"\"},\"radialaxis\":{\"gridcolor\":\"white\",\"linecolor\":\"white\",\"ticks\":\"\"}},\"ternary\":{\"bgcolor\":\"#E5ECF6\",\"aaxis\":{\"gridcolor\":\"white\",\"linecolor\":\"white\",\"ticks\":\"\"},\"baxis\":{\"gridcolor\":\"white\",\"linecolor\":\"white\",\"ticks\":\"\"},\"caxis\":{\"gridcolor\":\"white\",\"linecolor\":\"white\",\"ticks\":\"\"}},\"coloraxis\":{\"colorbar\":{\"outlinewidth\":0,\"ticks\":\"\"}},\"colorscale\":{\"sequential\":[[0.0,\"#0d0887\"],[0.1111111111111111,\"#46039f\"],[0.2222222222222222,\"#7201a8\"],[0.3333333333333333,\"#9c179e\"],[0.4444444444444444,\"#bd3786\"],[0.5555555555555556,\"#d8576b\"],[0.6666666666666666,\"#ed7953\"],[0.7777777777777778,\"#fb9f3a\"],[0.8888888888888888,\"#fdca26\"],[1.0,\"#f0f921\"]],\"sequentialminus\":[[0.0,\"#0d0887\"],[0.1111111111111111,\"#46039f\"],[0.2222222222222222,\"#7201a8\"],[0.3333333333333333,\"#9c179e\"],[0.4444444444444444,\"#bd3786\"],[0.5555555555555556,\"#d8576b\"],[0.6666666666666666,\"#ed7953\"],[0.7777777777777778,\"#fb9f3a\"],[0.8888888888888888,\"#fdca26\"],[1.0,\"#f0f921\"]],\"diverging\":[[0,\"#8e0152\"],[0.1,\"#c51b7d\"],[0.2,\"#de77ae\"],[0.3,\"#f1b6da\"],[0.4,\"#fde0ef\"],[0.5,\"#f7f7f7\"],[0.6,\"#e6f5d0\"],[0.7,\"#b8e186\"],[0.8,\"#7fbc41\"],[0.9,\"#4d9221\"],[1,\"#276419\"]]},\"xaxis\":{\"gridcolor\":\"white\",\"linecolor\":\"white\",\"ticks\":\"\",\"title\":{\"standoff\":15},\"zerolinecolor\":\"white\",\"automargin\":true,\"zerolinewidth\":2},\"yaxis\":{\"gridcolor\":\"white\",\"linecolor\":\"white\",\"ticks\":\"\",\"title\":{\"standoff\":15},\"zerolinecolor\":\"white\",\"automargin\":true,\"zerolinewidth\":2},\"scene\":{\"xaxis\":{\"backgroundcolor\":\"#E5ECF6\",\"gridcolor\":\"white\",\"linecolor\":\"white\",\"showbackground\":true,\"ticks\":\"\",\"zerolinecolor\":\"white\",\"gridwidth\":2},\"yaxis\":{\"backgroundcolor\":\"#E5ECF6\",\"gridcolor\":\"white\",\"linecolor\":\"white\",\"showbackground\":true,\"ticks\":\"\",\"zerolinecolor\":\"white\",\"gridwidth\":2},\"zaxis\":{\"backgroundcolor\":\"#E5ECF6\",\"gridcolor\":\"white\",\"linecolor\":\"white\",\"showbackground\":true,\"ticks\":\"\",\"zerolinecolor\":\"white\",\"gridwidth\":2}},\"shapedefaults\":{\"line\":{\"color\":\"#2a3f5f\"}},\"annotationdefaults\":{\"arrowcolor\":\"#2a3f5f\",\"arrowhead\":0,\"arrowwidth\":1},\"geo\":{\"bgcolor\":\"white\",\"landcolor\":\"#E5ECF6\",\"subunitcolor\":\"white\",\"showland\":true,\"showlakes\":true,\"lakecolor\":\"white\"},\"title\":{\"x\":0.05},\"mapbox\":{\"style\":\"light\"}}},\"xaxis\":{\"anchor\":\"y\",\"domain\":[0.0,1.0],\"title\":{\"text\":\"Country\"},\"categoryorder\":\"total descending\"},\"yaxis\":{\"anchor\":\"x\",\"domain\":[0.0,1.0],\"title\":{\"text\":\"Geothermal Capacity (MW)\"}},\"coloraxis\":{\"colorbar\":{\"title\":{\"text\":\"Geothermal Capacity (MW)\"}},\"colorscale\":[[0.0,\"#0d0887\"],[0.1111111111111111,\"#46039f\"],[0.2222222222222222,\"#7201a8\"],[0.3333333333333333,\"#9c179e\"],[0.4444444444444444,\"#bd3786\"],[0.5555555555555556,\"#d8576b\"],[0.6666666666666666,\"#ed7953\"],[0.7777777777777778,\"#fb9f3a\"],[0.8888888888888888,\"#fdca26\"],[1.0,\"#f0f921\"]]},\"legend\":{\"tracegroupgap\":0,\"itemsizing\":\"constant\"},\"title\":{\"text\":\"Top 10 Geothermal Capacity Countries\"},\"plot_bgcolor\":\"rgba(0,0,0,0)\"},                        {\"responsive\": true}                    ).then(function(){\n",
       "                            \n",
       "var gd = document.getElementById('e2f8e940-0d1c-41c9-a676-f0be193c1887');\n",
       "var x = new MutationObserver(function (mutations, observer) {{\n",
       "        var display = window.getComputedStyle(gd).display;\n",
       "        if (!display || display === 'none') {{\n",
       "            console.log([gd, 'removed!']);\n",
       "            Plotly.purge(gd);\n",
       "            observer.disconnect();\n",
       "        }}\n",
       "}});\n",
       "\n",
       "// Listen for the removal of the full notebook cells\n",
       "var notebookContainer = gd.closest('#notebook-container');\n",
       "if (notebookContainer) {{\n",
       "    x.observe(notebookContainer, {childList: true});\n",
       "}}\n",
       "\n",
       "// Listen for the clearing of the current output cell\n",
       "var outputEl = gd.closest('.output');\n",
       "if (outputEl) {{\n",
       "    x.observe(outputEl, {childList: true});\n",
       "}}\n",
       "\n",
       "                        })                };                });            </script>        </div>"
      ]
     },
     "metadata": {},
     "output_type": "display_data"
    }
   ],
   "source": [
    "df_countries = df_17[~df_17['Entity'].isin(continents + ['World'])]\n",
    "\n",
    "latest_geothermal_capacity = df_countries.groupby('Entity')['Geothermal Capacity'].max().sort_values(ascending=False)\n",
    "\n",
    "top_10_geothermal_countries = latest_geothermal_capacity.head(10).reset_index()\n",
    "\n",
    "fig = px.scatter(top_10_geothermal_countries, x='Entity', y='Geothermal Capacity', size='Geothermal Capacity', \n",
    "                 color='Geothermal Capacity', hover_name='Entity', size_max=60,\n",
    "                 title='Top 10 Geothermal Capacity Countries',\n",
    "                 labels={'Entity': 'Country', 'Geothermal Capacity': 'Geothermal Capacity (MW)'})\n",
    "\n",
    "fig.update_layout(xaxis_title=\"Country\", yaxis_title=\"Geothermal Capacity (MW)\", \n",
    "                  xaxis={'categoryorder':'total descending'}, plot_bgcolor='rgba(0,0,0,0)')\n",
    "\n",
    "fig.show()"
   ]
  },
  {
   "cell_type": "markdown",
   "id": "9e4f6f5c",
   "metadata": {
    "papermill": {
     "duration": 0.014865,
     "end_time": "2024-02-14T11:28:30.387792",
     "exception": false,
     "start_time": "2024-02-14T11:28:30.372927",
     "status": "completed"
    },
    "tags": []
   },
   "source": [
    "<div style=\"background-color: #f9f9f9; border-left: 5px solid #20B2AA; padding: 10px 15px; margin: 10px 0;\">\n",
    "  <p style=\"font-family: Arial, sans-serif; font-size: 14px; color: #333;\">\n",
    "    <strong>Graph Analysis:</strong> This scatter plot delineates the top 10 countries leading in geothermal energy capacity, offering a comparative snapshot of their contributions to the global geothermal landscape. Each country is represented by a bubble, whose size and color intensity correspond to its geothermal capacity, visually emphasizing the higher capacity countries. The hover feature provides additional details, enriching the user's interaction with the graph by revealing exact capacity figures upon cursor placement. The descending order of the x-axis ensures that the countries with the greatest geothermal capacity are immediately noticeable, facilitating a quick comprehension of global leaders in this renewable energy sector. This graphical representation serves not only to acknowledge the contributions of these top-performing countries but also to inspire further analysis into the policies, technologies, and geographical advantages that have propelled them to the forefront of geothermal energy production.\n",
    "  </p>\n",
    "</div>\n"
   ]
  },
  {
   "cell_type": "markdown",
   "id": "349fce99",
   "metadata": {
    "papermill": {
     "duration": 0.014368,
     "end_time": "2024-02-14T11:28:30.418126",
     "exception": false,
     "start_time": "2024-02-14T11:28:30.403758",
     "status": "completed"
    },
    "tags": []
   },
   "source": [
    "<a id='AnnualGeothermalCapacityGrowthRate'></a>\n",
    "# <b><div style='padding:15px;background-color:#004080;color:white;border-radius:15px;font-size:100%;text-align: center'>Annual Geothermal Capacity Growth Rate</div></b>"
   ]
  },
  {
   "cell_type": "code",
   "execution_count": 11,
   "id": "7487c4e0",
   "metadata": {
    "_kg_hide-input": true,
    "execution": {
     "iopub.execute_input": "2024-02-14T11:28:30.449120Z",
     "iopub.status.busy": "2024-02-14T11:28:30.448697Z",
     "iopub.status.idle": "2024-02-14T11:28:30.533907Z",
     "shell.execute_reply": "2024-02-14T11:28:30.532430Z"
    },
    "papermill": {
     "duration": 0.103736,
     "end_time": "2024-02-14T11:28:30.536459",
     "exception": false,
     "start_time": "2024-02-14T11:28:30.432723",
     "status": "completed"
    },
    "tags": []
   },
   "outputs": [
    {
     "data": {
      "text/html": [
       "<div>                            <div id=\"afce664f-7172-43eb-8017-f5ad5b73f92b\" class=\"plotly-graph-div\" style=\"height:525px; width:100%;\"></div>            <script type=\"text/javascript\">                require([\"plotly\"], function(Plotly) {                    window.PLOTLYENV=window.PLOTLYENV || {};                                    if (document.getElementById(\"afce664f-7172-43eb-8017-f5ad5b73f92b\")) {                    Plotly.newPlot(                        \"afce664f-7172-43eb-8017-f5ad5b73f92b\",                        [{\"hovertemplate\":\"Year=%{x}\\u003cbr\\u003eAnnual Increase in Geothermal Capacity (MW)=%{y}\\u003cextra\\u003e\\u003c\\u002fextra\\u003e\",\"legendgroup\":\"\",\"line\":{\"color\":\"#636efa\",\"dash\":\"solid\"},\"marker\":{\"symbol\":\"circle\"},\"mode\":\"lines\",\"name\":\"\",\"orientation\":\"v\",\"showlegend\":false,\"x\":[1975,1980,1985,1990,1995,2000,2001,2002,2003,2004,2005,2006,2007,2008,2009,2010,2011,2012,2013,2014,2015,2016,2017,2018,2019,2020],\"xaxis\":\"x\",\"y\":[null,2587.0,877.0,1089.5,916.8599999999997,1465.4399999999996,-318.9999999999991,192.19999999999982,86.89999999999964,18.200000000000728,350.0,228.10000000000036,230.0,322.09999999999854,446.40000000000146,207.29999999999927,135.39999999999964,346.89999999999964,237.3000000000011,444.21500000000015,637.0599999999995,322.71899999999914,559.0710000000017,564.1999999999989,666.8000000000011,163.33499999999913],\"yaxis\":\"y\",\"type\":\"scatter\"}],                        {\"template\":{\"data\":{\"histogram2dcontour\":[{\"type\":\"histogram2dcontour\",\"colorbar\":{\"outlinewidth\":0,\"ticks\":\"\"},\"colorscale\":[[0.0,\"#0d0887\"],[0.1111111111111111,\"#46039f\"],[0.2222222222222222,\"#7201a8\"],[0.3333333333333333,\"#9c179e\"],[0.4444444444444444,\"#bd3786\"],[0.5555555555555556,\"#d8576b\"],[0.6666666666666666,\"#ed7953\"],[0.7777777777777778,\"#fb9f3a\"],[0.8888888888888888,\"#fdca26\"],[1.0,\"#f0f921\"]]}],\"choropleth\":[{\"type\":\"choropleth\",\"colorbar\":{\"outlinewidth\":0,\"ticks\":\"\"}}],\"histogram2d\":[{\"type\":\"histogram2d\",\"colorbar\":{\"outlinewidth\":0,\"ticks\":\"\"},\"colorscale\":[[0.0,\"#0d0887\"],[0.1111111111111111,\"#46039f\"],[0.2222222222222222,\"#7201a8\"],[0.3333333333333333,\"#9c179e\"],[0.4444444444444444,\"#bd3786\"],[0.5555555555555556,\"#d8576b\"],[0.6666666666666666,\"#ed7953\"],[0.7777777777777778,\"#fb9f3a\"],[0.8888888888888888,\"#fdca26\"],[1.0,\"#f0f921\"]]}],\"heatmap\":[{\"type\":\"heatmap\",\"colorbar\":{\"outlinewidth\":0,\"ticks\":\"\"},\"colorscale\":[[0.0,\"#0d0887\"],[0.1111111111111111,\"#46039f\"],[0.2222222222222222,\"#7201a8\"],[0.3333333333333333,\"#9c179e\"],[0.4444444444444444,\"#bd3786\"],[0.5555555555555556,\"#d8576b\"],[0.6666666666666666,\"#ed7953\"],[0.7777777777777778,\"#fb9f3a\"],[0.8888888888888888,\"#fdca26\"],[1.0,\"#f0f921\"]]}],\"heatmapgl\":[{\"type\":\"heatmapgl\",\"colorbar\":{\"outlinewidth\":0,\"ticks\":\"\"},\"colorscale\":[[0.0,\"#0d0887\"],[0.1111111111111111,\"#46039f\"],[0.2222222222222222,\"#7201a8\"],[0.3333333333333333,\"#9c179e\"],[0.4444444444444444,\"#bd3786\"],[0.5555555555555556,\"#d8576b\"],[0.6666666666666666,\"#ed7953\"],[0.7777777777777778,\"#fb9f3a\"],[0.8888888888888888,\"#fdca26\"],[1.0,\"#f0f921\"]]}],\"contourcarpet\":[{\"type\":\"contourcarpet\",\"colorbar\":{\"outlinewidth\":0,\"ticks\":\"\"}}],\"contour\":[{\"type\":\"contour\",\"colorbar\":{\"outlinewidth\":0,\"ticks\":\"\"},\"colorscale\":[[0.0,\"#0d0887\"],[0.1111111111111111,\"#46039f\"],[0.2222222222222222,\"#7201a8\"],[0.3333333333333333,\"#9c179e\"],[0.4444444444444444,\"#bd3786\"],[0.5555555555555556,\"#d8576b\"],[0.6666666666666666,\"#ed7953\"],[0.7777777777777778,\"#fb9f3a\"],[0.8888888888888888,\"#fdca26\"],[1.0,\"#f0f921\"]]}],\"surface\":[{\"type\":\"surface\",\"colorbar\":{\"outlinewidth\":0,\"ticks\":\"\"},\"colorscale\":[[0.0,\"#0d0887\"],[0.1111111111111111,\"#46039f\"],[0.2222222222222222,\"#7201a8\"],[0.3333333333333333,\"#9c179e\"],[0.4444444444444444,\"#bd3786\"],[0.5555555555555556,\"#d8576b\"],[0.6666666666666666,\"#ed7953\"],[0.7777777777777778,\"#fb9f3a\"],[0.8888888888888888,\"#fdca26\"],[1.0,\"#f0f921\"]]}],\"mesh3d\":[{\"type\":\"mesh3d\",\"colorbar\":{\"outlinewidth\":0,\"ticks\":\"\"}}],\"scatter\":[{\"fillpattern\":{\"fillmode\":\"overlay\",\"size\":10,\"solidity\":0.2},\"type\":\"scatter\"}],\"parcoords\":[{\"type\":\"parcoords\",\"line\":{\"colorbar\":{\"outlinewidth\":0,\"ticks\":\"\"}}}],\"scatterpolargl\":[{\"type\":\"scatterpolargl\",\"marker\":{\"colorbar\":{\"outlinewidth\":0,\"ticks\":\"\"}}}],\"bar\":[{\"error_x\":{\"color\":\"#2a3f5f\"},\"error_y\":{\"color\":\"#2a3f5f\"},\"marker\":{\"line\":{\"color\":\"#E5ECF6\",\"width\":0.5},\"pattern\":{\"fillmode\":\"overlay\",\"size\":10,\"solidity\":0.2}},\"type\":\"bar\"}],\"scattergeo\":[{\"type\":\"scattergeo\",\"marker\":{\"colorbar\":{\"outlinewidth\":0,\"ticks\":\"\"}}}],\"scatterpolar\":[{\"type\":\"scatterpolar\",\"marker\":{\"colorbar\":{\"outlinewidth\":0,\"ticks\":\"\"}}}],\"histogram\":[{\"marker\":{\"pattern\":{\"fillmode\":\"overlay\",\"size\":10,\"solidity\":0.2}},\"type\":\"histogram\"}],\"scattergl\":[{\"type\":\"scattergl\",\"marker\":{\"colorbar\":{\"outlinewidth\":0,\"ticks\":\"\"}}}],\"scatter3d\":[{\"type\":\"scatter3d\",\"line\":{\"colorbar\":{\"outlinewidth\":0,\"ticks\":\"\"}},\"marker\":{\"colorbar\":{\"outlinewidth\":0,\"ticks\":\"\"}}}],\"scattermapbox\":[{\"type\":\"scattermapbox\",\"marker\":{\"colorbar\":{\"outlinewidth\":0,\"ticks\":\"\"}}}],\"scatterternary\":[{\"type\":\"scatterternary\",\"marker\":{\"colorbar\":{\"outlinewidth\":0,\"ticks\":\"\"}}}],\"scattercarpet\":[{\"type\":\"scattercarpet\",\"marker\":{\"colorbar\":{\"outlinewidth\":0,\"ticks\":\"\"}}}],\"carpet\":[{\"aaxis\":{\"endlinecolor\":\"#2a3f5f\",\"gridcolor\":\"white\",\"linecolor\":\"white\",\"minorgridcolor\":\"white\",\"startlinecolor\":\"#2a3f5f\"},\"baxis\":{\"endlinecolor\":\"#2a3f5f\",\"gridcolor\":\"white\",\"linecolor\":\"white\",\"minorgridcolor\":\"white\",\"startlinecolor\":\"#2a3f5f\"},\"type\":\"carpet\"}],\"table\":[{\"cells\":{\"fill\":{\"color\":\"#EBF0F8\"},\"line\":{\"color\":\"white\"}},\"header\":{\"fill\":{\"color\":\"#C8D4E3\"},\"line\":{\"color\":\"white\"}},\"type\":\"table\"}],\"barpolar\":[{\"marker\":{\"line\":{\"color\":\"#E5ECF6\",\"width\":0.5},\"pattern\":{\"fillmode\":\"overlay\",\"size\":10,\"solidity\":0.2}},\"type\":\"barpolar\"}],\"pie\":[{\"automargin\":true,\"type\":\"pie\"}]},\"layout\":{\"autotypenumbers\":\"strict\",\"colorway\":[\"#636efa\",\"#EF553B\",\"#00cc96\",\"#ab63fa\",\"#FFA15A\",\"#19d3f3\",\"#FF6692\",\"#B6E880\",\"#FF97FF\",\"#FECB52\"],\"font\":{\"color\":\"#2a3f5f\"},\"hovermode\":\"closest\",\"hoverlabel\":{\"align\":\"left\"},\"paper_bgcolor\":\"white\",\"plot_bgcolor\":\"#E5ECF6\",\"polar\":{\"bgcolor\":\"#E5ECF6\",\"angularaxis\":{\"gridcolor\":\"white\",\"linecolor\":\"white\",\"ticks\":\"\"},\"radialaxis\":{\"gridcolor\":\"white\",\"linecolor\":\"white\",\"ticks\":\"\"}},\"ternary\":{\"bgcolor\":\"#E5ECF6\",\"aaxis\":{\"gridcolor\":\"white\",\"linecolor\":\"white\",\"ticks\":\"\"},\"baxis\":{\"gridcolor\":\"white\",\"linecolor\":\"white\",\"ticks\":\"\"},\"caxis\":{\"gridcolor\":\"white\",\"linecolor\":\"white\",\"ticks\":\"\"}},\"coloraxis\":{\"colorbar\":{\"outlinewidth\":0,\"ticks\":\"\"}},\"colorscale\":{\"sequential\":[[0.0,\"#0d0887\"],[0.1111111111111111,\"#46039f\"],[0.2222222222222222,\"#7201a8\"],[0.3333333333333333,\"#9c179e\"],[0.4444444444444444,\"#bd3786\"],[0.5555555555555556,\"#d8576b\"],[0.6666666666666666,\"#ed7953\"],[0.7777777777777778,\"#fb9f3a\"],[0.8888888888888888,\"#fdca26\"],[1.0,\"#f0f921\"]],\"sequentialminus\":[[0.0,\"#0d0887\"],[0.1111111111111111,\"#46039f\"],[0.2222222222222222,\"#7201a8\"],[0.3333333333333333,\"#9c179e\"],[0.4444444444444444,\"#bd3786\"],[0.5555555555555556,\"#d8576b\"],[0.6666666666666666,\"#ed7953\"],[0.7777777777777778,\"#fb9f3a\"],[0.8888888888888888,\"#fdca26\"],[1.0,\"#f0f921\"]],\"diverging\":[[0,\"#8e0152\"],[0.1,\"#c51b7d\"],[0.2,\"#de77ae\"],[0.3,\"#f1b6da\"],[0.4,\"#fde0ef\"],[0.5,\"#f7f7f7\"],[0.6,\"#e6f5d0\"],[0.7,\"#b8e186\"],[0.8,\"#7fbc41\"],[0.9,\"#4d9221\"],[1,\"#276419\"]]},\"xaxis\":{\"gridcolor\":\"white\",\"linecolor\":\"white\",\"ticks\":\"\",\"title\":{\"standoff\":15},\"zerolinecolor\":\"white\",\"automargin\":true,\"zerolinewidth\":2},\"yaxis\":{\"gridcolor\":\"white\",\"linecolor\":\"white\",\"ticks\":\"\",\"title\":{\"standoff\":15},\"zerolinecolor\":\"white\",\"automargin\":true,\"zerolinewidth\":2},\"scene\":{\"xaxis\":{\"backgroundcolor\":\"#E5ECF6\",\"gridcolor\":\"white\",\"linecolor\":\"white\",\"showbackground\":true,\"ticks\":\"\",\"zerolinecolor\":\"white\",\"gridwidth\":2},\"yaxis\":{\"backgroundcolor\":\"#E5ECF6\",\"gridcolor\":\"white\",\"linecolor\":\"white\",\"showbackground\":true,\"ticks\":\"\",\"zerolinecolor\":\"white\",\"gridwidth\":2},\"zaxis\":{\"backgroundcolor\":\"#E5ECF6\",\"gridcolor\":\"white\",\"linecolor\":\"white\",\"showbackground\":true,\"ticks\":\"\",\"zerolinecolor\":\"white\",\"gridwidth\":2}},\"shapedefaults\":{\"line\":{\"color\":\"#2a3f5f\"}},\"annotationdefaults\":{\"arrowcolor\":\"#2a3f5f\",\"arrowhead\":0,\"arrowwidth\":1},\"geo\":{\"bgcolor\":\"white\",\"landcolor\":\"#E5ECF6\",\"subunitcolor\":\"white\",\"showland\":true,\"showlakes\":true,\"lakecolor\":\"white\"},\"title\":{\"x\":0.05},\"mapbox\":{\"style\":\"light\"}}},\"xaxis\":{\"anchor\":\"y\",\"domain\":[0.0,1.0],\"title\":{\"text\":\"Year\"}},\"yaxis\":{\"anchor\":\"x\",\"domain\":[0.0,1.0],\"title\":{\"text\":\"Annual Increase in Geothermal Capacity (MW)\"}},\"legend\":{\"tracegroupgap\":0},\"title\":{\"text\":\"Annual Geothermal Capacity Growth Rate\"},\"plot_bgcolor\":\"rgba(0,0,0,0)\"},                        {\"responsive\": true}                    ).then(function(){\n",
       "                            \n",
       "var gd = document.getElementById('afce664f-7172-43eb-8017-f5ad5b73f92b');\n",
       "var x = new MutationObserver(function (mutations, observer) {{\n",
       "        var display = window.getComputedStyle(gd).display;\n",
       "        if (!display || display === 'none') {{\n",
       "            console.log([gd, 'removed!']);\n",
       "            Plotly.purge(gd);\n",
       "            observer.disconnect();\n",
       "        }}\n",
       "}});\n",
       "\n",
       "// Listen for the removal of the full notebook cells\n",
       "var notebookContainer = gd.closest('#notebook-container');\n",
       "if (notebookContainer) {{\n",
       "    x.observe(notebookContainer, {childList: true});\n",
       "}}\n",
       "\n",
       "// Listen for the clearing of the current output cell\n",
       "var outputEl = gd.closest('.output');\n",
       "if (outputEl) {{\n",
       "    x.observe(outputEl, {childList: true});\n",
       "}}\n",
       "\n",
       "                        })                };                });            </script>        </div>"
      ]
     },
     "metadata": {},
     "output_type": "display_data"
    }
   ],
   "source": [
    "world_geothermal = df_17[df_17['Entity'] == 'World'].copy()\n",
    "\n",
    "world_geothermal['Annual Increase'] = world_geothermal['Geothermal Capacity'].diff()\n",
    "\n",
    "fig = px.line(world_geothermal, x='Year', y='Annual Increase',\n",
    "              title='Annual Geothermal Capacity Growth Rate',\n",
    "              labels={'Annual Increase': 'Annual Increase in Geothermal Capacity (MW)'})\n",
    "\n",
    "fig.update_layout(xaxis_title='Year', yaxis_title='Annual Increase in Geothermal Capacity (MW)',\n",
    "                  plot_bgcolor='rgba(0,0,0,0)')\n",
    "\n",
    "fig.show()"
   ]
  },
  {
   "cell_type": "markdown",
   "id": "71ac8ece",
   "metadata": {
    "papermill": {
     "duration": 0.015,
     "end_time": "2024-02-14T11:28:30.566398",
     "exception": false,
     "start_time": "2024-02-14T11:28:30.551398",
     "status": "completed"
    },
    "tags": []
   },
   "source": [
    "<div style=\"background-color: #f9f9f9; border-left: 5px solid #FF6347; padding: 10px 15px; margin: 10px 0;\">\n",
    "  <p style=\"font-family: Arial, sans-serif; font-size: 14px; color: #333;\">\n",
    "    <strong>Graph Analysis:</strong> The line graph presents the year-on-year growth rates in global geothermal energy capacity, highlighting the fluctuations and trends in the sector's development. By plotting the annual increase in geothermal capacity, the graph offers insights into periods of significant growth, stability, or decline, reflecting the impact of various factors such as technological advancements, policy changes, and market dynamics on the geothermal industry. The x-axis represents the timeline, providing a historical context to the data, while the y-axis quantifies the annual capacity increases, allowing for an evaluation of growth magnitude. This visualization serves as a valuable tool for understanding the pace at which geothermal energy is expanding globally, illustrating periods of accelerated growth and drawing attention to the potential challenges and opportunities within the geothermal sector.\n",
    "  </p>\n",
    "</div>\n"
   ]
  },
  {
   "cell_type": "markdown",
   "id": "2f37e676",
   "metadata": {
    "papermill": {
     "duration": 0.014643,
     "end_time": "2024-02-14T11:28:30.595316",
     "exception": false,
     "start_time": "2024-02-14T11:28:30.580673",
     "status": "completed"
    },
    "tags": []
   },
   "source": [
    "<a id='RegionalGeothermalCapacityTrends'></a>\n",
    "# <b><div style='padding:15px;background-color:#004080;color:white;border-radius:15px;font-size:100%;text-align: center'>Regional Geothermal Capacity Trends</div></b>"
   ]
  },
  {
   "cell_type": "code",
   "execution_count": 12,
   "id": "32b8c1a8",
   "metadata": {
    "_kg_hide-input": true,
    "execution": {
     "iopub.execute_input": "2024-02-14T11:28:30.626512Z",
     "iopub.status.busy": "2024-02-14T11:28:30.626142Z",
     "iopub.status.idle": "2024-02-14T11:28:30.666319Z",
     "shell.execute_reply": "2024-02-14T11:28:30.665205Z"
    },
    "papermill": {
     "duration": 0.058527,
     "end_time": "2024-02-14T11:28:30.668665",
     "exception": false,
     "start_time": "2024-02-14T11:28:30.610138",
     "status": "completed"
    },
    "tags": []
   },
   "outputs": [
    {
     "data": {
      "text/html": [
       "<div>                            <div id=\"1b076788-a158-4bbd-b1d4-53e45dca06ae\" class=\"plotly-graph-div\" style=\"height:525px; width:100%;\"></div>            <script type=\"text/javascript\">                require([\"plotly\"], function(Plotly) {                    window.PLOTLYENV=window.PLOTLYENV || {};                                    if (document.getElementById(\"1b076788-a158-4bbd-b1d4-53e45dca06ae\")) {                    Plotly.newPlot(                        \"1b076788-a158-4bbd-b1d4-53e45dca06ae\",                        [{\"marker\":{\"size\":5},\"mode\":\"lines+markers\",\"name\":\"Indonesia (Southeast Asia)\",\"x\":[2000,2001,2002,2003,2004,2005,2006,2007,2008,2009,2010,2011,2012,2013,2014,2015,2016,2017,2018,2019,2020],\"y\":[525.0,785.0,785.0,805.0,820.0,850.0,850.0,980.0,1052.0,1189.0,1189.0,1226.0,1336.0,1343.5,1403.5,1438.0,1533.0,1808.0,1948.0,2130.5,2131.0],\"type\":\"scatter\"},{\"marker\":{\"size\":5},\"mode\":\"lines+markers\",\"name\":\"Philippines (Southeast Asia)\",\"x\":[1990,1995,2000,2001,2002,2003,2004,2005,2006,2007,2008,2009,2010,2011,2012,2013,2014,2015,2016,2017,2018,2019,2020],\"y\":[888.0,1154.0,1846.5,1846.5,1846.5,1846.5,1846.5,1846.5,1846.5,1846.5,1846.5,1846.5,1846.5,1846.5,1846.5,1846.5,1916.1,1916.1,1916.1,1916.1,1928.1,1928.1,1928.0],\"type\":\"scatter\"},{\"marker\":{\"size\":5},\"mode\":\"lines+markers\",\"name\":\"Iceland (Northern Europe)\",\"x\":[1990,1995,2000,2001,2002,2003,2004,2005,2006,2007,2008,2009,2010,2011,2012,2013,2014,2015,2016,2017,2018,2019,2020],\"y\":[44.8,49.6,172.0,202.0,202.0,202.0,202.0,232.0,422.0,485.0,575.0,575.0,575.0,665.0,665.0,665.0,665.0,665.0,665.0,710.0,756.0,756.0,756.0],\"type\":\"scatter\"},{\"marker\":{\"size\":5},\"mode\":\"lines+markers\",\"name\":\"Turkey (Northern Europe)\",\"x\":[1990,1995,2000,2001,2002,2003,2004,2005,2006,2007,2008,2009,2010,2011,2012,2013,2014,2015,2016,2017,2018,2019,2020],\"y\":[20.6,20.4,18.0,18.0,18.0,15.0,15.0,15.0,23.0,23.0,30.0,77.0,94.0,114.0,162.0,311.0,405.0,624.0,821.0,1063.7,1282.5,1514.7,1613.0],\"type\":\"scatter\"}],                        {\"template\":{\"data\":{\"histogram2dcontour\":[{\"type\":\"histogram2dcontour\",\"colorbar\":{\"outlinewidth\":0,\"ticks\":\"\"},\"colorscale\":[[0.0,\"#0d0887\"],[0.1111111111111111,\"#46039f\"],[0.2222222222222222,\"#7201a8\"],[0.3333333333333333,\"#9c179e\"],[0.4444444444444444,\"#bd3786\"],[0.5555555555555556,\"#d8576b\"],[0.6666666666666666,\"#ed7953\"],[0.7777777777777778,\"#fb9f3a\"],[0.8888888888888888,\"#fdca26\"],[1.0,\"#f0f921\"]]}],\"choropleth\":[{\"type\":\"choropleth\",\"colorbar\":{\"outlinewidth\":0,\"ticks\":\"\"}}],\"histogram2d\":[{\"type\":\"histogram2d\",\"colorbar\":{\"outlinewidth\":0,\"ticks\":\"\"},\"colorscale\":[[0.0,\"#0d0887\"],[0.1111111111111111,\"#46039f\"],[0.2222222222222222,\"#7201a8\"],[0.3333333333333333,\"#9c179e\"],[0.4444444444444444,\"#bd3786\"],[0.5555555555555556,\"#d8576b\"],[0.6666666666666666,\"#ed7953\"],[0.7777777777777778,\"#fb9f3a\"],[0.8888888888888888,\"#fdca26\"],[1.0,\"#f0f921\"]]}],\"heatmap\":[{\"type\":\"heatmap\",\"colorbar\":{\"outlinewidth\":0,\"ticks\":\"\"},\"colorscale\":[[0.0,\"#0d0887\"],[0.1111111111111111,\"#46039f\"],[0.2222222222222222,\"#7201a8\"],[0.3333333333333333,\"#9c179e\"],[0.4444444444444444,\"#bd3786\"],[0.5555555555555556,\"#d8576b\"],[0.6666666666666666,\"#ed7953\"],[0.7777777777777778,\"#fb9f3a\"],[0.8888888888888888,\"#fdca26\"],[1.0,\"#f0f921\"]]}],\"heatmapgl\":[{\"type\":\"heatmapgl\",\"colorbar\":{\"outlinewidth\":0,\"ticks\":\"\"},\"colorscale\":[[0.0,\"#0d0887\"],[0.1111111111111111,\"#46039f\"],[0.2222222222222222,\"#7201a8\"],[0.3333333333333333,\"#9c179e\"],[0.4444444444444444,\"#bd3786\"],[0.5555555555555556,\"#d8576b\"],[0.6666666666666666,\"#ed7953\"],[0.7777777777777778,\"#fb9f3a\"],[0.8888888888888888,\"#fdca26\"],[1.0,\"#f0f921\"]]}],\"contourcarpet\":[{\"type\":\"contourcarpet\",\"colorbar\":{\"outlinewidth\":0,\"ticks\":\"\"}}],\"contour\":[{\"type\":\"contour\",\"colorbar\":{\"outlinewidth\":0,\"ticks\":\"\"},\"colorscale\":[[0.0,\"#0d0887\"],[0.1111111111111111,\"#46039f\"],[0.2222222222222222,\"#7201a8\"],[0.3333333333333333,\"#9c179e\"],[0.4444444444444444,\"#bd3786\"],[0.5555555555555556,\"#d8576b\"],[0.6666666666666666,\"#ed7953\"],[0.7777777777777778,\"#fb9f3a\"],[0.8888888888888888,\"#fdca26\"],[1.0,\"#f0f921\"]]}],\"surface\":[{\"type\":\"surface\",\"colorbar\":{\"outlinewidth\":0,\"ticks\":\"\"},\"colorscale\":[[0.0,\"#0d0887\"],[0.1111111111111111,\"#46039f\"],[0.2222222222222222,\"#7201a8\"],[0.3333333333333333,\"#9c179e\"],[0.4444444444444444,\"#bd3786\"],[0.5555555555555556,\"#d8576b\"],[0.6666666666666666,\"#ed7953\"],[0.7777777777777778,\"#fb9f3a\"],[0.8888888888888888,\"#fdca26\"],[1.0,\"#f0f921\"]]}],\"mesh3d\":[{\"type\":\"mesh3d\",\"colorbar\":{\"outlinewidth\":0,\"ticks\":\"\"}}],\"scatter\":[{\"fillpattern\":{\"fillmode\":\"overlay\",\"size\":10,\"solidity\":0.2},\"type\":\"scatter\"}],\"parcoords\":[{\"type\":\"parcoords\",\"line\":{\"colorbar\":{\"outlinewidth\":0,\"ticks\":\"\"}}}],\"scatterpolargl\":[{\"type\":\"scatterpolargl\",\"marker\":{\"colorbar\":{\"outlinewidth\":0,\"ticks\":\"\"}}}],\"bar\":[{\"error_x\":{\"color\":\"#2a3f5f\"},\"error_y\":{\"color\":\"#2a3f5f\"},\"marker\":{\"line\":{\"color\":\"#E5ECF6\",\"width\":0.5},\"pattern\":{\"fillmode\":\"overlay\",\"size\":10,\"solidity\":0.2}},\"type\":\"bar\"}],\"scattergeo\":[{\"type\":\"scattergeo\",\"marker\":{\"colorbar\":{\"outlinewidth\":0,\"ticks\":\"\"}}}],\"scatterpolar\":[{\"type\":\"scatterpolar\",\"marker\":{\"colorbar\":{\"outlinewidth\":0,\"ticks\":\"\"}}}],\"histogram\":[{\"marker\":{\"pattern\":{\"fillmode\":\"overlay\",\"size\":10,\"solidity\":0.2}},\"type\":\"histogram\"}],\"scattergl\":[{\"type\":\"scattergl\",\"marker\":{\"colorbar\":{\"outlinewidth\":0,\"ticks\":\"\"}}}],\"scatter3d\":[{\"type\":\"scatter3d\",\"line\":{\"colorbar\":{\"outlinewidth\":0,\"ticks\":\"\"}},\"marker\":{\"colorbar\":{\"outlinewidth\":0,\"ticks\":\"\"}}}],\"scattermapbox\":[{\"type\":\"scattermapbox\",\"marker\":{\"colorbar\":{\"outlinewidth\":0,\"ticks\":\"\"}}}],\"scatterternary\":[{\"type\":\"scatterternary\",\"marker\":{\"colorbar\":{\"outlinewidth\":0,\"ticks\":\"\"}}}],\"scattercarpet\":[{\"type\":\"scattercarpet\",\"marker\":{\"colorbar\":{\"outlinewidth\":0,\"ticks\":\"\"}}}],\"carpet\":[{\"aaxis\":{\"endlinecolor\":\"#2a3f5f\",\"gridcolor\":\"white\",\"linecolor\":\"white\",\"minorgridcolor\":\"white\",\"startlinecolor\":\"#2a3f5f\"},\"baxis\":{\"endlinecolor\":\"#2a3f5f\",\"gridcolor\":\"white\",\"linecolor\":\"white\",\"minorgridcolor\":\"white\",\"startlinecolor\":\"#2a3f5f\"},\"type\":\"carpet\"}],\"table\":[{\"cells\":{\"fill\":{\"color\":\"#EBF0F8\"},\"line\":{\"color\":\"white\"}},\"header\":{\"fill\":{\"color\":\"#C8D4E3\"},\"line\":{\"color\":\"white\"}},\"type\":\"table\"}],\"barpolar\":[{\"marker\":{\"line\":{\"color\":\"#E5ECF6\",\"width\":0.5},\"pattern\":{\"fillmode\":\"overlay\",\"size\":10,\"solidity\":0.2}},\"type\":\"barpolar\"}],\"pie\":[{\"automargin\":true,\"type\":\"pie\"}]},\"layout\":{\"autotypenumbers\":\"strict\",\"colorway\":[\"#636efa\",\"#EF553B\",\"#00cc96\",\"#ab63fa\",\"#FFA15A\",\"#19d3f3\",\"#FF6692\",\"#B6E880\",\"#FF97FF\",\"#FECB52\"],\"font\":{\"color\":\"#2a3f5f\"},\"hovermode\":\"closest\",\"hoverlabel\":{\"align\":\"left\"},\"paper_bgcolor\":\"white\",\"plot_bgcolor\":\"#E5ECF6\",\"polar\":{\"bgcolor\":\"#E5ECF6\",\"angularaxis\":{\"gridcolor\":\"white\",\"linecolor\":\"white\",\"ticks\":\"\"},\"radialaxis\":{\"gridcolor\":\"white\",\"linecolor\":\"white\",\"ticks\":\"\"}},\"ternary\":{\"bgcolor\":\"#E5ECF6\",\"aaxis\":{\"gridcolor\":\"white\",\"linecolor\":\"white\",\"ticks\":\"\"},\"baxis\":{\"gridcolor\":\"white\",\"linecolor\":\"white\",\"ticks\":\"\"},\"caxis\":{\"gridcolor\":\"white\",\"linecolor\":\"white\",\"ticks\":\"\"}},\"coloraxis\":{\"colorbar\":{\"outlinewidth\":0,\"ticks\":\"\"}},\"colorscale\":{\"sequential\":[[0.0,\"#0d0887\"],[0.1111111111111111,\"#46039f\"],[0.2222222222222222,\"#7201a8\"],[0.3333333333333333,\"#9c179e\"],[0.4444444444444444,\"#bd3786\"],[0.5555555555555556,\"#d8576b\"],[0.6666666666666666,\"#ed7953\"],[0.7777777777777778,\"#fb9f3a\"],[0.8888888888888888,\"#fdca26\"],[1.0,\"#f0f921\"]],\"sequentialminus\":[[0.0,\"#0d0887\"],[0.1111111111111111,\"#46039f\"],[0.2222222222222222,\"#7201a8\"],[0.3333333333333333,\"#9c179e\"],[0.4444444444444444,\"#bd3786\"],[0.5555555555555556,\"#d8576b\"],[0.6666666666666666,\"#ed7953\"],[0.7777777777777778,\"#fb9f3a\"],[0.8888888888888888,\"#fdca26\"],[1.0,\"#f0f921\"]],\"diverging\":[[0,\"#8e0152\"],[0.1,\"#c51b7d\"],[0.2,\"#de77ae\"],[0.3,\"#f1b6da\"],[0.4,\"#fde0ef\"],[0.5,\"#f7f7f7\"],[0.6,\"#e6f5d0\"],[0.7,\"#b8e186\"],[0.8,\"#7fbc41\"],[0.9,\"#4d9221\"],[1,\"#276419\"]]},\"xaxis\":{\"gridcolor\":\"white\",\"linecolor\":\"white\",\"ticks\":\"\",\"title\":{\"standoff\":15},\"zerolinecolor\":\"white\",\"automargin\":true,\"zerolinewidth\":2},\"yaxis\":{\"gridcolor\":\"white\",\"linecolor\":\"white\",\"ticks\":\"\",\"title\":{\"standoff\":15},\"zerolinecolor\":\"white\",\"automargin\":true,\"zerolinewidth\":2},\"scene\":{\"xaxis\":{\"backgroundcolor\":\"#E5ECF6\",\"gridcolor\":\"white\",\"linecolor\":\"white\",\"showbackground\":true,\"ticks\":\"\",\"zerolinecolor\":\"white\",\"gridwidth\":2},\"yaxis\":{\"backgroundcolor\":\"#E5ECF6\",\"gridcolor\":\"white\",\"linecolor\":\"white\",\"showbackground\":true,\"ticks\":\"\",\"zerolinecolor\":\"white\",\"gridwidth\":2},\"zaxis\":{\"backgroundcolor\":\"#E5ECF6\",\"gridcolor\":\"white\",\"linecolor\":\"white\",\"showbackground\":true,\"ticks\":\"\",\"zerolinecolor\":\"white\",\"gridwidth\":2}},\"shapedefaults\":{\"line\":{\"color\":\"#2a3f5f\"}},\"annotationdefaults\":{\"arrowcolor\":\"#2a3f5f\",\"arrowhead\":0,\"arrowwidth\":1},\"geo\":{\"bgcolor\":\"white\",\"landcolor\":\"#E5ECF6\",\"subunitcolor\":\"white\",\"showland\":true,\"showlakes\":true,\"lakecolor\":\"white\"},\"title\":{\"x\":0.05},\"mapbox\":{\"style\":\"light\"}}},\"xaxis\":{\"title\":{\"text\":\"Year\"},\"tickangle\":45},\"legend\":{\"title\":{\"text\":\"Country\\u002fRegion\"},\"orientation\":\"h\",\"yanchor\":\"bottom\",\"y\":1.02,\"xanchor\":\"right\",\"x\":1},\"title\":{\"text\":\"Regional Geothermal Capacity Trends\"},\"yaxis\":{\"title\":{\"text\":\"Geothermal Capacity (MW)\"}},\"plot_bgcolor\":\"rgba(0,0,0,0)\"},                        {\"responsive\": true}                    ).then(function(){\n",
       "                            \n",
       "var gd = document.getElementById('1b076788-a158-4bbd-b1d4-53e45dca06ae');\n",
       "var x = new MutationObserver(function (mutations, observer) {{\n",
       "        var display = window.getComputedStyle(gd).display;\n",
       "        if (!display || display === 'none') {{\n",
       "            console.log([gd, 'removed!']);\n",
       "            Plotly.purge(gd);\n",
       "            observer.disconnect();\n",
       "        }}\n",
       "}});\n",
       "\n",
       "// Listen for the removal of the full notebook cells\n",
       "var notebookContainer = gd.closest('#notebook-container');\n",
       "if (notebookContainer) {{\n",
       "    x.observe(notebookContainer, {childList: true});\n",
       "}}\n",
       "\n",
       "// Listen for the clearing of the current output cell\n",
       "var outputEl = gd.closest('.output');\n",
       "if (outputEl) {{\n",
       "    x.observe(outputEl, {childList: true});\n",
       "}}\n",
       "\n",
       "                        })                };                });            </script>        </div>"
      ]
     },
     "metadata": {},
     "output_type": "display_data"
    }
   ],
   "source": [
    "regions_countries = {\n",
    "    'Southeast Asia': ['Indonesia', 'Philippines'],\n",
    "    'Northern Europe': ['Iceland', 'Turkey']\n",
    "}\n",
    "\n",
    "fig = go.Figure()\n",
    "\n",
    "for region, countries in regions_countries.items():\n",
    "    for country in countries:\n",
    "        country_data = df_17[df_17['Entity'] == country]\n",
    "        fig.add_trace(go.Scatter(x=country_data['Year'], y=country_data['Geothermal Capacity'],\n",
    "                                 mode='lines+markers', name=f\"{country} ({region})\",\n",
    "                                 marker=dict(size=5)))\n",
    "\n",
    "fig.update_layout(title='Regional Geothermal Capacity Trends',\n",
    "                  xaxis_title='Year', yaxis_title='Geothermal Capacity (MW)',\n",
    "                  legend_title='Country/Region', plot_bgcolor='rgba(0,0,0,0)',\n",
    "                  xaxis=dict(tickangle=45), legend=dict(orientation=\"h\", yanchor=\"bottom\", y=1.02, xanchor=\"right\", x=1))\n",
    "\n",
    "fig.show()"
   ]
  },
  {
   "cell_type": "markdown",
   "id": "869d8898",
   "metadata": {
    "papermill": {
     "duration": 0.014864,
     "end_time": "2024-02-14T11:28:30.698253",
     "exception": false,
     "start_time": "2024-02-14T11:28:30.683389",
     "status": "completed"
    },
    "tags": []
   },
   "source": [
    "<div style=\"background-color: #f9f9f9; border-left: 5px solid #4682B4; padding: 10px 15px; margin: 10px 0;\">\n",
    "  <p style=\"font-family: Arial, sans-serif; font-size: 14px; color: #333;\">\n",
    "    <strong>Graph Analysis:</strong> This multi-line chart offers a comparative analysis of geothermal energy capacity trends across selected countries in Southeast Asia and Northern Europe. By plotting the geothermal capacities of Indonesia, Philippines, Iceland, and Turkey over time, the chart delineates the developmental trajectories and regional dynamics within the geothermal sector. Each country is distinguished by a unique line, with markers denoting yearly data points, facilitating a clear visual comparison of growth patterns. The inclusion of regional tags in the legend enhances the contextual understanding, allowing observers to discern regional influences on geothermal capacity expansion. This visualization effectively underscores the varying rates of geothermal energy adoption and development among the countries, reflecting the interplay of geographic, technological, and policy factors that drive regional differences in geothermal energy growth.\n",
    "  </p>\n",
    "</div>\n"
   ]
  },
  {
   "cell_type": "markdown",
   "id": "de273892",
   "metadata": {
    "papermill": {
     "duration": 0.014561,
     "end_time": "2024-02-14T11:28:30.727189",
     "exception": false,
     "start_time": "2024-02-14T11:28:30.712628",
     "status": "completed"
    },
    "tags": []
   },
   "source": [
    "<a id='FastestGrowingGeothermalMarketsintheLast10Years'></a>\n",
    "# <b><div style='padding:15px;background-color:#004080;color:white;border-radius:15px;font-size:100%;text-align: center'>Fastest Growing Geothermal Markets in the Last 10 Years</div></b>"
   ]
  },
  {
   "cell_type": "code",
   "execution_count": 13,
   "id": "bd0d2fbb",
   "metadata": {
    "_kg_hide-input": true,
    "execution": {
     "iopub.execute_input": "2024-02-14T11:28:30.760012Z",
     "iopub.status.busy": "2024-02-14T11:28:30.759650Z",
     "iopub.status.idle": "2024-02-14T11:28:30.865274Z",
     "shell.execute_reply": "2024-02-14T11:28:30.864104Z"
    },
    "papermill": {
     "duration": 0.124993,
     "end_time": "2024-02-14T11:28:30.868078",
     "exception": false,
     "start_time": "2024-02-14T11:28:30.743085",
     "status": "completed"
    },
    "tags": []
   },
   "outputs": [
    {
     "data": {
      "text/html": [
       "<div>                            <div id=\"a0685913-ce8b-40e0-9073-e4713c37675f\" class=\"plotly-graph-div\" style=\"height:525px; width:100%;\"></div>            <script type=\"text/javascript\">                require([\"plotly\"], function(Plotly) {                    window.PLOTLYENV=window.PLOTLYENV || {};                                    if (document.getElementById(\"a0685913-ce8b-40e0-9073-e4713c37675f\")) {                    Plotly.newPlot(                        \"a0685913-ce8b-40e0-9073-e4713c37675f\",                        [{\"alignmentgroup\":\"True\",\"hovertemplate\":\"Increase in Geothermal Capacity (MW)=%{marker.color}\\u003cbr\\u003eEntity=%{y}\\u003cextra\\u003e\\u003c\\u002fextra\\u003e\",\"legendgroup\":\"\",\"marker\":{\"color\":[4077.0,1834.1,1519.0,1266.0,942.0,626.0,625.7,253.0,235.20000000000005,182.0],\"coloraxis\":\"coloraxis\",\"pattern\":{\"shape\":\"\"}},\"name\":\"\",\"offsetgroup\":\"\",\"orientation\":\"h\",\"showlegend\":false,\"textposition\":\"auto\",\"x\":[4077.0,1834.1,1519.0,1266.0,942.0,626.0,625.7,253.0,235.20000000000005,182.0],\"xaxis\":\"x\",\"y\":[\"World\",\"Europe\",\"Turkey\",\"Asia Pacific\",\"Indonesia\",\"Kenya\",\"Africa\",\"New Zealand\",\"South & Central America\",\"United States\"],\"yaxis\":\"y\",\"type\":\"bar\"}],                        {\"template\":{\"data\":{\"histogram2dcontour\":[{\"type\":\"histogram2dcontour\",\"colorbar\":{\"outlinewidth\":0,\"ticks\":\"\"},\"colorscale\":[[0.0,\"#0d0887\"],[0.1111111111111111,\"#46039f\"],[0.2222222222222222,\"#7201a8\"],[0.3333333333333333,\"#9c179e\"],[0.4444444444444444,\"#bd3786\"],[0.5555555555555556,\"#d8576b\"],[0.6666666666666666,\"#ed7953\"],[0.7777777777777778,\"#fb9f3a\"],[0.8888888888888888,\"#fdca26\"],[1.0,\"#f0f921\"]]}],\"choropleth\":[{\"type\":\"choropleth\",\"colorbar\":{\"outlinewidth\":0,\"ticks\":\"\"}}],\"histogram2d\":[{\"type\":\"histogram2d\",\"colorbar\":{\"outlinewidth\":0,\"ticks\":\"\"},\"colorscale\":[[0.0,\"#0d0887\"],[0.1111111111111111,\"#46039f\"],[0.2222222222222222,\"#7201a8\"],[0.3333333333333333,\"#9c179e\"],[0.4444444444444444,\"#bd3786\"],[0.5555555555555556,\"#d8576b\"],[0.6666666666666666,\"#ed7953\"],[0.7777777777777778,\"#fb9f3a\"],[0.8888888888888888,\"#fdca26\"],[1.0,\"#f0f921\"]]}],\"heatmap\":[{\"type\":\"heatmap\",\"colorbar\":{\"outlinewidth\":0,\"ticks\":\"\"},\"colorscale\":[[0.0,\"#0d0887\"],[0.1111111111111111,\"#46039f\"],[0.2222222222222222,\"#7201a8\"],[0.3333333333333333,\"#9c179e\"],[0.4444444444444444,\"#bd3786\"],[0.5555555555555556,\"#d8576b\"],[0.6666666666666666,\"#ed7953\"],[0.7777777777777778,\"#fb9f3a\"],[0.8888888888888888,\"#fdca26\"],[1.0,\"#f0f921\"]]}],\"heatmapgl\":[{\"type\":\"heatmapgl\",\"colorbar\":{\"outlinewidth\":0,\"ticks\":\"\"},\"colorscale\":[[0.0,\"#0d0887\"],[0.1111111111111111,\"#46039f\"],[0.2222222222222222,\"#7201a8\"],[0.3333333333333333,\"#9c179e\"],[0.4444444444444444,\"#bd3786\"],[0.5555555555555556,\"#d8576b\"],[0.6666666666666666,\"#ed7953\"],[0.7777777777777778,\"#fb9f3a\"],[0.8888888888888888,\"#fdca26\"],[1.0,\"#f0f921\"]]}],\"contourcarpet\":[{\"type\":\"contourcarpet\",\"colorbar\":{\"outlinewidth\":0,\"ticks\":\"\"}}],\"contour\":[{\"type\":\"contour\",\"colorbar\":{\"outlinewidth\":0,\"ticks\":\"\"},\"colorscale\":[[0.0,\"#0d0887\"],[0.1111111111111111,\"#46039f\"],[0.2222222222222222,\"#7201a8\"],[0.3333333333333333,\"#9c179e\"],[0.4444444444444444,\"#bd3786\"],[0.5555555555555556,\"#d8576b\"],[0.6666666666666666,\"#ed7953\"],[0.7777777777777778,\"#fb9f3a\"],[0.8888888888888888,\"#fdca26\"],[1.0,\"#f0f921\"]]}],\"surface\":[{\"type\":\"surface\",\"colorbar\":{\"outlinewidth\":0,\"ticks\":\"\"},\"colorscale\":[[0.0,\"#0d0887\"],[0.1111111111111111,\"#46039f\"],[0.2222222222222222,\"#7201a8\"],[0.3333333333333333,\"#9c179e\"],[0.4444444444444444,\"#bd3786\"],[0.5555555555555556,\"#d8576b\"],[0.6666666666666666,\"#ed7953\"],[0.7777777777777778,\"#fb9f3a\"],[0.8888888888888888,\"#fdca26\"],[1.0,\"#f0f921\"]]}],\"mesh3d\":[{\"type\":\"mesh3d\",\"colorbar\":{\"outlinewidth\":0,\"ticks\":\"\"}}],\"scatter\":[{\"fillpattern\":{\"fillmode\":\"overlay\",\"size\":10,\"solidity\":0.2},\"type\":\"scatter\"}],\"parcoords\":[{\"type\":\"parcoords\",\"line\":{\"colorbar\":{\"outlinewidth\":0,\"ticks\":\"\"}}}],\"scatterpolargl\":[{\"type\":\"scatterpolargl\",\"marker\":{\"colorbar\":{\"outlinewidth\":0,\"ticks\":\"\"}}}],\"bar\":[{\"error_x\":{\"color\":\"#2a3f5f\"},\"error_y\":{\"color\":\"#2a3f5f\"},\"marker\":{\"line\":{\"color\":\"#E5ECF6\",\"width\":0.5},\"pattern\":{\"fillmode\":\"overlay\",\"size\":10,\"solidity\":0.2}},\"type\":\"bar\"}],\"scattergeo\":[{\"type\":\"scattergeo\",\"marker\":{\"colorbar\":{\"outlinewidth\":0,\"ticks\":\"\"}}}],\"scatterpolar\":[{\"type\":\"scatterpolar\",\"marker\":{\"colorbar\":{\"outlinewidth\":0,\"ticks\":\"\"}}}],\"histogram\":[{\"marker\":{\"pattern\":{\"fillmode\":\"overlay\",\"size\":10,\"solidity\":0.2}},\"type\":\"histogram\"}],\"scattergl\":[{\"type\":\"scattergl\",\"marker\":{\"colorbar\":{\"outlinewidth\":0,\"ticks\":\"\"}}}],\"scatter3d\":[{\"type\":\"scatter3d\",\"line\":{\"colorbar\":{\"outlinewidth\":0,\"ticks\":\"\"}},\"marker\":{\"colorbar\":{\"outlinewidth\":0,\"ticks\":\"\"}}}],\"scattermapbox\":[{\"type\":\"scattermapbox\",\"marker\":{\"colorbar\":{\"outlinewidth\":0,\"ticks\":\"\"}}}],\"scatterternary\":[{\"type\":\"scatterternary\",\"marker\":{\"colorbar\":{\"outlinewidth\":0,\"ticks\":\"\"}}}],\"scattercarpet\":[{\"type\":\"scattercarpet\",\"marker\":{\"colorbar\":{\"outlinewidth\":0,\"ticks\":\"\"}}}],\"carpet\":[{\"aaxis\":{\"endlinecolor\":\"#2a3f5f\",\"gridcolor\":\"white\",\"linecolor\":\"white\",\"minorgridcolor\":\"white\",\"startlinecolor\":\"#2a3f5f\"},\"baxis\":{\"endlinecolor\":\"#2a3f5f\",\"gridcolor\":\"white\",\"linecolor\":\"white\",\"minorgridcolor\":\"white\",\"startlinecolor\":\"#2a3f5f\"},\"type\":\"carpet\"}],\"table\":[{\"cells\":{\"fill\":{\"color\":\"#EBF0F8\"},\"line\":{\"color\":\"white\"}},\"header\":{\"fill\":{\"color\":\"#C8D4E3\"},\"line\":{\"color\":\"white\"}},\"type\":\"table\"}],\"barpolar\":[{\"marker\":{\"line\":{\"color\":\"#E5ECF6\",\"width\":0.5},\"pattern\":{\"fillmode\":\"overlay\",\"size\":10,\"solidity\":0.2}},\"type\":\"barpolar\"}],\"pie\":[{\"automargin\":true,\"type\":\"pie\"}]},\"layout\":{\"autotypenumbers\":\"strict\",\"colorway\":[\"#636efa\",\"#EF553B\",\"#00cc96\",\"#ab63fa\",\"#FFA15A\",\"#19d3f3\",\"#FF6692\",\"#B6E880\",\"#FF97FF\",\"#FECB52\"],\"font\":{\"color\":\"#2a3f5f\"},\"hovermode\":\"closest\",\"hoverlabel\":{\"align\":\"left\"},\"paper_bgcolor\":\"white\",\"plot_bgcolor\":\"#E5ECF6\",\"polar\":{\"bgcolor\":\"#E5ECF6\",\"angularaxis\":{\"gridcolor\":\"white\",\"linecolor\":\"white\",\"ticks\":\"\"},\"radialaxis\":{\"gridcolor\":\"white\",\"linecolor\":\"white\",\"ticks\":\"\"}},\"ternary\":{\"bgcolor\":\"#E5ECF6\",\"aaxis\":{\"gridcolor\":\"white\",\"linecolor\":\"white\",\"ticks\":\"\"},\"baxis\":{\"gridcolor\":\"white\",\"linecolor\":\"white\",\"ticks\":\"\"},\"caxis\":{\"gridcolor\":\"white\",\"linecolor\":\"white\",\"ticks\":\"\"}},\"coloraxis\":{\"colorbar\":{\"outlinewidth\":0,\"ticks\":\"\"}},\"colorscale\":{\"sequential\":[[0.0,\"#0d0887\"],[0.1111111111111111,\"#46039f\"],[0.2222222222222222,\"#7201a8\"],[0.3333333333333333,\"#9c179e\"],[0.4444444444444444,\"#bd3786\"],[0.5555555555555556,\"#d8576b\"],[0.6666666666666666,\"#ed7953\"],[0.7777777777777778,\"#fb9f3a\"],[0.8888888888888888,\"#fdca26\"],[1.0,\"#f0f921\"]],\"sequentialminus\":[[0.0,\"#0d0887\"],[0.1111111111111111,\"#46039f\"],[0.2222222222222222,\"#7201a8\"],[0.3333333333333333,\"#9c179e\"],[0.4444444444444444,\"#bd3786\"],[0.5555555555555556,\"#d8576b\"],[0.6666666666666666,\"#ed7953\"],[0.7777777777777778,\"#fb9f3a\"],[0.8888888888888888,\"#fdca26\"],[1.0,\"#f0f921\"]],\"diverging\":[[0,\"#8e0152\"],[0.1,\"#c51b7d\"],[0.2,\"#de77ae\"],[0.3,\"#f1b6da\"],[0.4,\"#fde0ef\"],[0.5,\"#f7f7f7\"],[0.6,\"#e6f5d0\"],[0.7,\"#b8e186\"],[0.8,\"#7fbc41\"],[0.9,\"#4d9221\"],[1,\"#276419\"]]},\"xaxis\":{\"gridcolor\":\"white\",\"linecolor\":\"white\",\"ticks\":\"\",\"title\":{\"standoff\":15},\"zerolinecolor\":\"white\",\"automargin\":true,\"zerolinewidth\":2},\"yaxis\":{\"gridcolor\":\"white\",\"linecolor\":\"white\",\"ticks\":\"\",\"title\":{\"standoff\":15},\"zerolinecolor\":\"white\",\"automargin\":true,\"zerolinewidth\":2},\"scene\":{\"xaxis\":{\"backgroundcolor\":\"#E5ECF6\",\"gridcolor\":\"white\",\"linecolor\":\"white\",\"showbackground\":true,\"ticks\":\"\",\"zerolinecolor\":\"white\",\"gridwidth\":2},\"yaxis\":{\"backgroundcolor\":\"#E5ECF6\",\"gridcolor\":\"white\",\"linecolor\":\"white\",\"showbackground\":true,\"ticks\":\"\",\"zerolinecolor\":\"white\",\"gridwidth\":2},\"zaxis\":{\"backgroundcolor\":\"#E5ECF6\",\"gridcolor\":\"white\",\"linecolor\":\"white\",\"showbackground\":true,\"ticks\":\"\",\"zerolinecolor\":\"white\",\"gridwidth\":2}},\"shapedefaults\":{\"line\":{\"color\":\"#2a3f5f\"}},\"annotationdefaults\":{\"arrowcolor\":\"#2a3f5f\",\"arrowhead\":0,\"arrowwidth\":1},\"geo\":{\"bgcolor\":\"white\",\"landcolor\":\"#E5ECF6\",\"subunitcolor\":\"white\",\"showland\":true,\"showlakes\":true,\"lakecolor\":\"white\"},\"title\":{\"x\":0.05},\"mapbox\":{\"style\":\"light\"}}},\"xaxis\":{\"anchor\":\"y\",\"domain\":[0.0,1.0],\"title\":{\"text\":\"Increase in Geothermal Capacity (MW)\"}},\"yaxis\":{\"anchor\":\"x\",\"domain\":[0.0,1.0],\"title\":{\"text\":\"Country\"}},\"coloraxis\":{\"colorbar\":{\"title\":{\"text\":\"Growth (MW)\"}},\"colorscale\":[[0.0,\"rgb(255,245,235)\"],[0.125,\"rgb(254,230,206)\"],[0.25,\"rgb(253,208,162)\"],[0.375,\"rgb(253,174,107)\"],[0.5,\"rgb(253,141,60)\"],[0.625,\"rgb(241,105,19)\"],[0.75,\"rgb(217,72,1)\"],[0.875,\"rgb(166,54,3)\"],[1.0,\"rgb(127,39,4)\"]]},\"legend\":{\"tracegroupgap\":0},\"title\":{\"text\":\"Fastest Growing Geothermal Markets in the Last 10 Years\"},\"barmode\":\"relative\",\"plot_bgcolor\":\"rgba(0,0,0,0)\"},                        {\"responsive\": true}                    ).then(function(){\n",
       "                            \n",
       "var gd = document.getElementById('a0685913-ce8b-40e0-9073-e4713c37675f');\n",
       "var x = new MutationObserver(function (mutations, observer) {{\n",
       "        var display = window.getComputedStyle(gd).display;\n",
       "        if (!display || display === 'none') {{\n",
       "            console.log([gd, 'removed!']);\n",
       "            Plotly.purge(gd);\n",
       "            observer.disconnect();\n",
       "        }}\n",
       "}});\n",
       "\n",
       "// Listen for the removal of the full notebook cells\n",
       "var notebookContainer = gd.closest('#notebook-container');\n",
       "if (notebookContainer) {{\n",
       "    x.observe(notebookContainer, {childList: true});\n",
       "}}\n",
       "\n",
       "// Listen for the clearing of the current output cell\n",
       "var outputEl = gd.closest('.output');\n",
       "if (outputEl) {{\n",
       "    x.observe(outputEl, {childList: true});\n",
       "}}\n",
       "\n",
       "                        })                };                });            </script>        </div>"
      ]
     },
     "metadata": {},
     "output_type": "display_data"
    }
   ],
   "source": [
    "latest_year = df_17['Year'].max()\n",
    "base_year = latest_year - 10\n",
    "\n",
    "df_last_10_years = df_17[(df_17['Year'] >= base_year) & (df_17['Year'] <= latest_year)]\n",
    "\n",
    "df_growth = df_last_10_years.groupby('Entity').agg({'Geothermal Capacity': ['first', 'last']})\n",
    "df_growth.columns = ['Capacity_10_years_ago', 'Latest_Capacity']\n",
    "df_growth['Growth'] = df_growth['Latest_Capacity'] - df_growth['Capacity_10_years_ago']\n",
    "\n",
    "fastest_growing_markets = df_growth['Growth'].sort_values(ascending=False).head(10)\n",
    "\n",
    "fig = px.bar(fastest_growing_markets, y=fastest_growing_markets.index, x='Growth',\n",
    "             labels={'Growth': 'Increase in Geothermal Capacity (MW)', 'y': 'Country'},\n",
    "             title='Fastest Growing Geothermal Markets in the Last 10 Years',\n",
    "             orientation='h', color='Growth', color_continuous_scale='Oranges')\n",
    "\n",
    "fig.update_layout(xaxis_title='Increase in Geothermal Capacity (MW)', yaxis_title='Country',\n",
    "                  plot_bgcolor='rgba(0,0,0,0)', coloraxis_colorbar=dict(title='Growth (MW)'))\n",
    "\n",
    "fig.show()"
   ]
  },
  {
   "cell_type": "markdown",
   "id": "dc8c2421",
   "metadata": {
    "papermill": {
     "duration": 0.0157,
     "end_time": "2024-02-14T11:28:30.899021",
     "exception": false,
     "start_time": "2024-02-14T11:28:30.883321",
     "status": "completed"
    },
    "tags": []
   },
   "source": [
    "<div style=\"background-color: #f9f9f9; border-left: 5px solid #FF8C00; padding: 10px 15px; margin: 10px 0;\">\n",
    "  <p style=\"font-family: Arial, sans-serif; font-size: 14px; color: #333;\">\n",
    "    <strong>Graph Analysis:</strong> This horizontal bar chart identifies the top 10 countries that have exhibited the most significant growth in geothermal energy capacity over the past decade. By measuring the increase in geothermal capacity from the starting point ten years ago to the latest available data, the chart provides a clear ranking of countries based on their growth figures. The use of a gradient orange color scale adds a visual dimension to the data, with darker shades indicating higher growth levels, thus making it easier to distinguish between the varying degrees of growth among the countries. This graphical representation not only highlights the countries that have made substantial strides in geothermal energy development but also serves as an indicator of emerging markets and potential investment opportunities in the geothermal sector. The chart effectively communicates the dynamic nature of geothermal energy expansion globally, emphasizing the countries that are leading the charge in harnessing this sustainable energy source.\n",
    "  </p>\n",
    "</div>\n"
   ]
  },
  {
   "cell_type": "markdown",
   "id": "ecbb4ea6",
   "metadata": {
    "papermill": {
     "duration": 0.014831,
     "end_time": "2024-02-14T11:28:30.928597",
     "exception": false,
     "start_time": "2024-02-14T11:28:30.913766",
     "status": "completed"
    },
    "tags": []
   },
   "source": [
    "<a id='GeothermalEnergyCapacityinTurkeyOverYears'></a>\n",
    "# <b><div style='padding:15px;background-color:#004080;color:white;border-radius:15px;font-size:100%;text-align: center'>Geothermal Energy Capacity in Turkey Over Years</div></b>"
   ]
  },
  {
   "cell_type": "code",
   "execution_count": 14,
   "id": "ebb50fdc",
   "metadata": {
    "_kg_hide-input": true,
    "execution": {
     "iopub.execute_input": "2024-02-14T11:28:30.961464Z",
     "iopub.status.busy": "2024-02-14T11:28:30.961042Z",
     "iopub.status.idle": "2024-02-14T11:28:31.031682Z",
     "shell.execute_reply": "2024-02-14T11:28:31.030012Z"
    },
    "papermill": {
     "duration": 0.089897,
     "end_time": "2024-02-14T11:28:31.034208",
     "exception": false,
     "start_time": "2024-02-14T11:28:30.944311",
     "status": "completed"
    },
    "tags": []
   },
   "outputs": [
    {
     "data": {
      "text/html": [
       "<div>                            <div id=\"3279eb9e-3b71-4432-999b-0da3e379533d\" class=\"plotly-graph-div\" style=\"height:525px; width:100%;\"></div>            <script type=\"text/javascript\">                require([\"plotly\"], function(Plotly) {                    window.PLOTLYENV=window.PLOTLYENV || {};                                    if (document.getElementById(\"3279eb9e-3b71-4432-999b-0da3e379533d\")) {                    Plotly.newPlot(                        \"3279eb9e-3b71-4432-999b-0da3e379533d\",                        [{\"mode\":\"lines+markers\",\"x\":[1990,1995,2000,2001,2002,2003,2004,2005,2006,2007,2008,2009,2010,2011,2012,2013,2014,2015,2016,2017,2018,2019,2020],\"y\":[20.6,20.4,18.0,18.0,18.0,15.0,15.0,15.0,23.0,23.0,30.0,77.0,94.0,114.0,162.0,311.0,405.0,624.0,821.0,1063.7,1282.5,1514.7,1613.0],\"type\":\"scatter\"}],                        {\"title\":{\"text\":\"Geothermal Energy Capacity in Turkey Over Years\"},\"updatemenus\":[{\"buttons\":[{\"args\":[null],\"label\":\"Play\",\"method\":\"animate\"}],\"type\":\"buttons\"}],\"xaxis\":{\"autorange\":false,\"range\":[1990,2020]},\"yaxis\":{\"autorange\":false,\"range\":[15.0,1613.0]},\"template\":{\"data\":{\"histogram2dcontour\":[{\"type\":\"histogram2dcontour\",\"colorbar\":{\"outlinewidth\":0,\"ticks\":\"\"},\"colorscale\":[[0.0,\"#0d0887\"],[0.1111111111111111,\"#46039f\"],[0.2222222222222222,\"#7201a8\"],[0.3333333333333333,\"#9c179e\"],[0.4444444444444444,\"#bd3786\"],[0.5555555555555556,\"#d8576b\"],[0.6666666666666666,\"#ed7953\"],[0.7777777777777778,\"#fb9f3a\"],[0.8888888888888888,\"#fdca26\"],[1.0,\"#f0f921\"]]}],\"choropleth\":[{\"type\":\"choropleth\",\"colorbar\":{\"outlinewidth\":0,\"ticks\":\"\"}}],\"histogram2d\":[{\"type\":\"histogram2d\",\"colorbar\":{\"outlinewidth\":0,\"ticks\":\"\"},\"colorscale\":[[0.0,\"#0d0887\"],[0.1111111111111111,\"#46039f\"],[0.2222222222222222,\"#7201a8\"],[0.3333333333333333,\"#9c179e\"],[0.4444444444444444,\"#bd3786\"],[0.5555555555555556,\"#d8576b\"],[0.6666666666666666,\"#ed7953\"],[0.7777777777777778,\"#fb9f3a\"],[0.8888888888888888,\"#fdca26\"],[1.0,\"#f0f921\"]]}],\"heatmap\":[{\"type\":\"heatmap\",\"colorbar\":{\"outlinewidth\":0,\"ticks\":\"\"},\"colorscale\":[[0.0,\"#0d0887\"],[0.1111111111111111,\"#46039f\"],[0.2222222222222222,\"#7201a8\"],[0.3333333333333333,\"#9c179e\"],[0.4444444444444444,\"#bd3786\"],[0.5555555555555556,\"#d8576b\"],[0.6666666666666666,\"#ed7953\"],[0.7777777777777778,\"#fb9f3a\"],[0.8888888888888888,\"#fdca26\"],[1.0,\"#f0f921\"]]}],\"heatmapgl\":[{\"type\":\"heatmapgl\",\"colorbar\":{\"outlinewidth\":0,\"ticks\":\"\"},\"colorscale\":[[0.0,\"#0d0887\"],[0.1111111111111111,\"#46039f\"],[0.2222222222222222,\"#7201a8\"],[0.3333333333333333,\"#9c179e\"],[0.4444444444444444,\"#bd3786\"],[0.5555555555555556,\"#d8576b\"],[0.6666666666666666,\"#ed7953\"],[0.7777777777777778,\"#fb9f3a\"],[0.8888888888888888,\"#fdca26\"],[1.0,\"#f0f921\"]]}],\"contourcarpet\":[{\"type\":\"contourcarpet\",\"colorbar\":{\"outlinewidth\":0,\"ticks\":\"\"}}],\"contour\":[{\"type\":\"contour\",\"colorbar\":{\"outlinewidth\":0,\"ticks\":\"\"},\"colorscale\":[[0.0,\"#0d0887\"],[0.1111111111111111,\"#46039f\"],[0.2222222222222222,\"#7201a8\"],[0.3333333333333333,\"#9c179e\"],[0.4444444444444444,\"#bd3786\"],[0.5555555555555556,\"#d8576b\"],[0.6666666666666666,\"#ed7953\"],[0.7777777777777778,\"#fb9f3a\"],[0.8888888888888888,\"#fdca26\"],[1.0,\"#f0f921\"]]}],\"surface\":[{\"type\":\"surface\",\"colorbar\":{\"outlinewidth\":0,\"ticks\":\"\"},\"colorscale\":[[0.0,\"#0d0887\"],[0.1111111111111111,\"#46039f\"],[0.2222222222222222,\"#7201a8\"],[0.3333333333333333,\"#9c179e\"],[0.4444444444444444,\"#bd3786\"],[0.5555555555555556,\"#d8576b\"],[0.6666666666666666,\"#ed7953\"],[0.7777777777777778,\"#fb9f3a\"],[0.8888888888888888,\"#fdca26\"],[1.0,\"#f0f921\"]]}],\"mesh3d\":[{\"type\":\"mesh3d\",\"colorbar\":{\"outlinewidth\":0,\"ticks\":\"\"}}],\"scatter\":[{\"fillpattern\":{\"fillmode\":\"overlay\",\"size\":10,\"solidity\":0.2},\"type\":\"scatter\"}],\"parcoords\":[{\"type\":\"parcoords\",\"line\":{\"colorbar\":{\"outlinewidth\":0,\"ticks\":\"\"}}}],\"scatterpolargl\":[{\"type\":\"scatterpolargl\",\"marker\":{\"colorbar\":{\"outlinewidth\":0,\"ticks\":\"\"}}}],\"bar\":[{\"error_x\":{\"color\":\"#2a3f5f\"},\"error_y\":{\"color\":\"#2a3f5f\"},\"marker\":{\"line\":{\"color\":\"#E5ECF6\",\"width\":0.5},\"pattern\":{\"fillmode\":\"overlay\",\"size\":10,\"solidity\":0.2}},\"type\":\"bar\"}],\"scattergeo\":[{\"type\":\"scattergeo\",\"marker\":{\"colorbar\":{\"outlinewidth\":0,\"ticks\":\"\"}}}],\"scatterpolar\":[{\"type\":\"scatterpolar\",\"marker\":{\"colorbar\":{\"outlinewidth\":0,\"ticks\":\"\"}}}],\"histogram\":[{\"marker\":{\"pattern\":{\"fillmode\":\"overlay\",\"size\":10,\"solidity\":0.2}},\"type\":\"histogram\"}],\"scattergl\":[{\"type\":\"scattergl\",\"marker\":{\"colorbar\":{\"outlinewidth\":0,\"ticks\":\"\"}}}],\"scatter3d\":[{\"type\":\"scatter3d\",\"line\":{\"colorbar\":{\"outlinewidth\":0,\"ticks\":\"\"}},\"marker\":{\"colorbar\":{\"outlinewidth\":0,\"ticks\":\"\"}}}],\"scattermapbox\":[{\"type\":\"scattermapbox\",\"marker\":{\"colorbar\":{\"outlinewidth\":0,\"ticks\":\"\"}}}],\"scatterternary\":[{\"type\":\"scatterternary\",\"marker\":{\"colorbar\":{\"outlinewidth\":0,\"ticks\":\"\"}}}],\"scattercarpet\":[{\"type\":\"scattercarpet\",\"marker\":{\"colorbar\":{\"outlinewidth\":0,\"ticks\":\"\"}}}],\"carpet\":[{\"aaxis\":{\"endlinecolor\":\"#2a3f5f\",\"gridcolor\":\"white\",\"linecolor\":\"white\",\"minorgridcolor\":\"white\",\"startlinecolor\":\"#2a3f5f\"},\"baxis\":{\"endlinecolor\":\"#2a3f5f\",\"gridcolor\":\"white\",\"linecolor\":\"white\",\"minorgridcolor\":\"white\",\"startlinecolor\":\"#2a3f5f\"},\"type\":\"carpet\"}],\"table\":[{\"cells\":{\"fill\":{\"color\":\"#EBF0F8\"},\"line\":{\"color\":\"white\"}},\"header\":{\"fill\":{\"color\":\"#C8D4E3\"},\"line\":{\"color\":\"white\"}},\"type\":\"table\"}],\"barpolar\":[{\"marker\":{\"line\":{\"color\":\"#E5ECF6\",\"width\":0.5},\"pattern\":{\"fillmode\":\"overlay\",\"size\":10,\"solidity\":0.2}},\"type\":\"barpolar\"}],\"pie\":[{\"automargin\":true,\"type\":\"pie\"}]},\"layout\":{\"autotypenumbers\":\"strict\",\"colorway\":[\"#636efa\",\"#EF553B\",\"#00cc96\",\"#ab63fa\",\"#FFA15A\",\"#19d3f3\",\"#FF6692\",\"#B6E880\",\"#FF97FF\",\"#FECB52\"],\"font\":{\"color\":\"#2a3f5f\"},\"hovermode\":\"closest\",\"hoverlabel\":{\"align\":\"left\"},\"paper_bgcolor\":\"white\",\"plot_bgcolor\":\"#E5ECF6\",\"polar\":{\"bgcolor\":\"#E5ECF6\",\"angularaxis\":{\"gridcolor\":\"white\",\"linecolor\":\"white\",\"ticks\":\"\"},\"radialaxis\":{\"gridcolor\":\"white\",\"linecolor\":\"white\",\"ticks\":\"\"}},\"ternary\":{\"bgcolor\":\"#E5ECF6\",\"aaxis\":{\"gridcolor\":\"white\",\"linecolor\":\"white\",\"ticks\":\"\"},\"baxis\":{\"gridcolor\":\"white\",\"linecolor\":\"white\",\"ticks\":\"\"},\"caxis\":{\"gridcolor\":\"white\",\"linecolor\":\"white\",\"ticks\":\"\"}},\"coloraxis\":{\"colorbar\":{\"outlinewidth\":0,\"ticks\":\"\"}},\"colorscale\":{\"sequential\":[[0.0,\"#0d0887\"],[0.1111111111111111,\"#46039f\"],[0.2222222222222222,\"#7201a8\"],[0.3333333333333333,\"#9c179e\"],[0.4444444444444444,\"#bd3786\"],[0.5555555555555556,\"#d8576b\"],[0.6666666666666666,\"#ed7953\"],[0.7777777777777778,\"#fb9f3a\"],[0.8888888888888888,\"#fdca26\"],[1.0,\"#f0f921\"]],\"sequentialminus\":[[0.0,\"#0d0887\"],[0.1111111111111111,\"#46039f\"],[0.2222222222222222,\"#7201a8\"],[0.3333333333333333,\"#9c179e\"],[0.4444444444444444,\"#bd3786\"],[0.5555555555555556,\"#d8576b\"],[0.6666666666666666,\"#ed7953\"],[0.7777777777777778,\"#fb9f3a\"],[0.8888888888888888,\"#fdca26\"],[1.0,\"#f0f921\"]],\"diverging\":[[0,\"#8e0152\"],[0.1,\"#c51b7d\"],[0.2,\"#de77ae\"],[0.3,\"#f1b6da\"],[0.4,\"#fde0ef\"],[0.5,\"#f7f7f7\"],[0.6,\"#e6f5d0\"],[0.7,\"#b8e186\"],[0.8,\"#7fbc41\"],[0.9,\"#4d9221\"],[1,\"#276419\"]]},\"xaxis\":{\"gridcolor\":\"white\",\"linecolor\":\"white\",\"ticks\":\"\",\"title\":{\"standoff\":15},\"zerolinecolor\":\"white\",\"automargin\":true,\"zerolinewidth\":2},\"yaxis\":{\"gridcolor\":\"white\",\"linecolor\":\"white\",\"ticks\":\"\",\"title\":{\"standoff\":15},\"zerolinecolor\":\"white\",\"automargin\":true,\"zerolinewidth\":2},\"scene\":{\"xaxis\":{\"backgroundcolor\":\"#E5ECF6\",\"gridcolor\":\"white\",\"linecolor\":\"white\",\"showbackground\":true,\"ticks\":\"\",\"zerolinecolor\":\"white\",\"gridwidth\":2},\"yaxis\":{\"backgroundcolor\":\"#E5ECF6\",\"gridcolor\":\"white\",\"linecolor\":\"white\",\"showbackground\":true,\"ticks\":\"\",\"zerolinecolor\":\"white\",\"gridwidth\":2},\"zaxis\":{\"backgroundcolor\":\"#E5ECF6\",\"gridcolor\":\"white\",\"linecolor\":\"white\",\"showbackground\":true,\"ticks\":\"\",\"zerolinecolor\":\"white\",\"gridwidth\":2}},\"shapedefaults\":{\"line\":{\"color\":\"#2a3f5f\"}},\"annotationdefaults\":{\"arrowcolor\":\"#2a3f5f\",\"arrowhead\":0,\"arrowwidth\":1},\"geo\":{\"bgcolor\":\"white\",\"landcolor\":\"#E5ECF6\",\"subunitcolor\":\"white\",\"showland\":true,\"showlakes\":true,\"lakecolor\":\"white\"},\"title\":{\"x\":0.05},\"mapbox\":{\"style\":\"light\"}}}},                        {\"responsive\": true}                    ).then(function(){\n",
       "                            Plotly.addFrames('3279eb9e-3b71-4432-999b-0da3e379533d', [{\"data\":[{\"mode\":\"markers\",\"x\":[1990],\"y\":[20.6],\"type\":\"scatter\"}],\"layout\":{\"title\":{\"text\":\"Geothermal Energy Capacity in Turkey (Initial Year)\"}}},{\"data\":[{\"mode\":\"lines+markers\",\"x\":[1990],\"y\":[20.6],\"type\":\"scatter\"}],\"layout\":{\"title\":{\"text\":\"Geothermal Energy Capacity in Turkey Until 1990\"}}},{\"data\":[{\"mode\":\"lines+markers\",\"x\":[1990,1995],\"y\":[20.6,20.4],\"type\":\"scatter\"}],\"layout\":{\"title\":{\"text\":\"Geothermal Energy Capacity in Turkey Until 1995\"}}},{\"data\":[{\"mode\":\"lines+markers\",\"x\":[1990,1995,2000],\"y\":[20.6,20.4,18.0],\"type\":\"scatter\"}],\"layout\":{\"title\":{\"text\":\"Geothermal Energy Capacity in Turkey Until 2000\"}}},{\"data\":[{\"mode\":\"lines+markers\",\"x\":[1990,1995,2000,2001],\"y\":[20.6,20.4,18.0,18.0],\"type\":\"scatter\"}],\"layout\":{\"title\":{\"text\":\"Geothermal Energy Capacity in Turkey Until 2001\"}}},{\"data\":[{\"mode\":\"lines+markers\",\"x\":[1990,1995,2000,2001,2002],\"y\":[20.6,20.4,18.0,18.0,18.0],\"type\":\"scatter\"}],\"layout\":{\"title\":{\"text\":\"Geothermal Energy Capacity in Turkey Until 2002\"}}},{\"data\":[{\"mode\":\"lines+markers\",\"x\":[1990,1995,2000,2001,2002,2003],\"y\":[20.6,20.4,18.0,18.0,18.0,15.0],\"type\":\"scatter\"}],\"layout\":{\"title\":{\"text\":\"Geothermal Energy Capacity in Turkey Until 2003\"}}},{\"data\":[{\"mode\":\"lines+markers\",\"x\":[1990,1995,2000,2001,2002,2003,2004],\"y\":[20.6,20.4,18.0,18.0,18.0,15.0,15.0],\"type\":\"scatter\"}],\"layout\":{\"title\":{\"text\":\"Geothermal Energy Capacity in Turkey Until 2004\"}}},{\"data\":[{\"mode\":\"lines+markers\",\"x\":[1990,1995,2000,2001,2002,2003,2004,2005],\"y\":[20.6,20.4,18.0,18.0,18.0,15.0,15.0,15.0],\"type\":\"scatter\"}],\"layout\":{\"title\":{\"text\":\"Geothermal Energy Capacity in Turkey Until 2005\"}}},{\"data\":[{\"mode\":\"lines+markers\",\"x\":[1990,1995,2000,2001,2002,2003,2004,2005,2006],\"y\":[20.6,20.4,18.0,18.0,18.0,15.0,15.0,15.0,23.0],\"type\":\"scatter\"}],\"layout\":{\"title\":{\"text\":\"Geothermal Energy Capacity in Turkey Until 2006\"}}},{\"data\":[{\"mode\":\"lines+markers\",\"x\":[1990,1995,2000,2001,2002,2003,2004,2005,2006,2007],\"y\":[20.6,20.4,18.0,18.0,18.0,15.0,15.0,15.0,23.0,23.0],\"type\":\"scatter\"}],\"layout\":{\"title\":{\"text\":\"Geothermal Energy Capacity in Turkey Until 2007\"}}},{\"data\":[{\"mode\":\"lines+markers\",\"x\":[1990,1995,2000,2001,2002,2003,2004,2005,2006,2007,2008],\"y\":[20.6,20.4,18.0,18.0,18.0,15.0,15.0,15.0,23.0,23.0,30.0],\"type\":\"scatter\"}],\"layout\":{\"title\":{\"text\":\"Geothermal Energy Capacity in Turkey Until 2008\"}}},{\"data\":[{\"mode\":\"lines+markers\",\"x\":[1990,1995,2000,2001,2002,2003,2004,2005,2006,2007,2008,2009],\"y\":[20.6,20.4,18.0,18.0,18.0,15.0,15.0,15.0,23.0,23.0,30.0,77.0],\"type\":\"scatter\"}],\"layout\":{\"title\":{\"text\":\"Geothermal Energy Capacity in Turkey Until 2009\"}}},{\"data\":[{\"mode\":\"lines+markers\",\"x\":[1990,1995,2000,2001,2002,2003,2004,2005,2006,2007,2008,2009,2010],\"y\":[20.6,20.4,18.0,18.0,18.0,15.0,15.0,15.0,23.0,23.0,30.0,77.0,94.0],\"type\":\"scatter\"}],\"layout\":{\"title\":{\"text\":\"Geothermal Energy Capacity in Turkey Until 2010\"}}},{\"data\":[{\"mode\":\"lines+markers\",\"x\":[1990,1995,2000,2001,2002,2003,2004,2005,2006,2007,2008,2009,2010,2011],\"y\":[20.6,20.4,18.0,18.0,18.0,15.0,15.0,15.0,23.0,23.0,30.0,77.0,94.0,114.0],\"type\":\"scatter\"}],\"layout\":{\"title\":{\"text\":\"Geothermal Energy Capacity in Turkey Until 2011\"}}},{\"data\":[{\"mode\":\"lines+markers\",\"x\":[1990,1995,2000,2001,2002,2003,2004,2005,2006,2007,2008,2009,2010,2011,2012],\"y\":[20.6,20.4,18.0,18.0,18.0,15.0,15.0,15.0,23.0,23.0,30.0,77.0,94.0,114.0,162.0],\"type\":\"scatter\"}],\"layout\":{\"title\":{\"text\":\"Geothermal Energy Capacity in Turkey Until 2012\"}}},{\"data\":[{\"mode\":\"lines+markers\",\"x\":[1990,1995,2000,2001,2002,2003,2004,2005,2006,2007,2008,2009,2010,2011,2012,2013],\"y\":[20.6,20.4,18.0,18.0,18.0,15.0,15.0,15.0,23.0,23.0,30.0,77.0,94.0,114.0,162.0,311.0],\"type\":\"scatter\"}],\"layout\":{\"title\":{\"text\":\"Geothermal Energy Capacity in Turkey Until 2013\"}}},{\"data\":[{\"mode\":\"lines+markers\",\"x\":[1990,1995,2000,2001,2002,2003,2004,2005,2006,2007,2008,2009,2010,2011,2012,2013,2014],\"y\":[20.6,20.4,18.0,18.0,18.0,15.0,15.0,15.0,23.0,23.0,30.0,77.0,94.0,114.0,162.0,311.0,405.0],\"type\":\"scatter\"}],\"layout\":{\"title\":{\"text\":\"Geothermal Energy Capacity in Turkey Until 2014\"}}},{\"data\":[{\"mode\":\"lines+markers\",\"x\":[1990,1995,2000,2001,2002,2003,2004,2005,2006,2007,2008,2009,2010,2011,2012,2013,2014,2015],\"y\":[20.6,20.4,18.0,18.0,18.0,15.0,15.0,15.0,23.0,23.0,30.0,77.0,94.0,114.0,162.0,311.0,405.0,624.0],\"type\":\"scatter\"}],\"layout\":{\"title\":{\"text\":\"Geothermal Energy Capacity in Turkey Until 2015\"}}},{\"data\":[{\"mode\":\"lines+markers\",\"x\":[1990,1995,2000,2001,2002,2003,2004,2005,2006,2007,2008,2009,2010,2011,2012,2013,2014,2015,2016],\"y\":[20.6,20.4,18.0,18.0,18.0,15.0,15.0,15.0,23.0,23.0,30.0,77.0,94.0,114.0,162.0,311.0,405.0,624.0,821.0],\"type\":\"scatter\"}],\"layout\":{\"title\":{\"text\":\"Geothermal Energy Capacity in Turkey Until 2016\"}}},{\"data\":[{\"mode\":\"lines+markers\",\"x\":[1990,1995,2000,2001,2002,2003,2004,2005,2006,2007,2008,2009,2010,2011,2012,2013,2014,2015,2016,2017],\"y\":[20.6,20.4,18.0,18.0,18.0,15.0,15.0,15.0,23.0,23.0,30.0,77.0,94.0,114.0,162.0,311.0,405.0,624.0,821.0,1063.7],\"type\":\"scatter\"}],\"layout\":{\"title\":{\"text\":\"Geothermal Energy Capacity in Turkey Until 2017\"}}},{\"data\":[{\"mode\":\"lines+markers\",\"x\":[1990,1995,2000,2001,2002,2003,2004,2005,2006,2007,2008,2009,2010,2011,2012,2013,2014,2015,2016,2017,2018],\"y\":[20.6,20.4,18.0,18.0,18.0,15.0,15.0,15.0,23.0,23.0,30.0,77.0,94.0,114.0,162.0,311.0,405.0,624.0,821.0,1063.7,1282.5],\"type\":\"scatter\"}],\"layout\":{\"title\":{\"text\":\"Geothermal Energy Capacity in Turkey Until 2018\"}}},{\"data\":[{\"mode\":\"lines+markers\",\"x\":[1990,1995,2000,2001,2002,2003,2004,2005,2006,2007,2008,2009,2010,2011,2012,2013,2014,2015,2016,2017,2018,2019],\"y\":[20.6,20.4,18.0,18.0,18.0,15.0,15.0,15.0,23.0,23.0,30.0,77.0,94.0,114.0,162.0,311.0,405.0,624.0,821.0,1063.7,1282.5,1514.7],\"type\":\"scatter\"}],\"layout\":{\"title\":{\"text\":\"Geothermal Energy Capacity in Turkey Until 2019\"}}},{\"data\":[{\"mode\":\"lines+markers\",\"x\":[1990,1995,2000,2001,2002,2003,2004,2005,2006,2007,2008,2009,2010,2011,2012,2013,2014,2015,2016,2017,2018,2019,2020],\"y\":[20.6,20.4,18.0,18.0,18.0,15.0,15.0,15.0,23.0,23.0,30.0,77.0,94.0,114.0,162.0,311.0,405.0,624.0,821.0,1063.7,1282.5,1514.7,1613.0],\"type\":\"scatter\"}],\"layout\":{\"title\":{\"text\":\"Geothermal Energy Capacity in Turkey Until 2020\"}}}]);\n",
       "                        }).then(function(){\n",
       "                            \n",
       "var gd = document.getElementById('3279eb9e-3b71-4432-999b-0da3e379533d');\n",
       "var x = new MutationObserver(function (mutations, observer) {{\n",
       "        var display = window.getComputedStyle(gd).display;\n",
       "        if (!display || display === 'none') {{\n",
       "            console.log([gd, 'removed!']);\n",
       "            Plotly.purge(gd);\n",
       "            observer.disconnect();\n",
       "        }}\n",
       "}});\n",
       "\n",
       "// Listen for the removal of the full notebook cells\n",
       "var notebookContainer = gd.closest('#notebook-container');\n",
       "if (notebookContainer) {{\n",
       "    x.observe(notebookContainer, {childList: true});\n",
       "}}\n",
       "\n",
       "// Listen for the clearing of the current output cell\n",
       "var outputEl = gd.closest('.output');\n",
       "if (outputEl) {{\n",
       "    x.observe(outputEl, {childList: true});\n",
       "}}\n",
       "\n",
       "                        })                };                });            </script>        </div>"
      ]
     },
     "metadata": {},
     "output_type": "display_data"
    }
   ],
   "source": [
    "turkey_data = df_17[df_17['Entity'] == 'Turkey']\n",
    "\n",
    "turkey_frames = [go.Frame(\n",
    "    data=[go.Scatter(x=turkey_data['Year'][:k+1], y=turkey_data['Geothermal Capacity'][:k+1], mode='lines+markers')],\n",
    "    layout=go.Layout(title_text=f'Geothermal Energy Capacity in Turkey Until {year}')\n",
    ") for k, year in enumerate(turkey_data['Year'])]\n",
    "\n",
    "\n",
    "turkey_initial_frame = go.Frame(\n",
    "    data=[go.Scatter(x=[turkey_data['Year'].iloc[0]], y=[turkey_data['Geothermal Capacity'].iloc[0]], mode='markers')],\n",
    "    layout=go.Layout(title_text='Geothermal Energy Capacity in Turkey (Initial Year)')\n",
    ")\n",
    "turkey_frames.insert(0, turkey_initial_frame)\n",
    "\n",
    "\n",
    "turkey_fig = go.Figure(\n",
    "    data=[go.Scatter(x=turkey_data['Year'], y=turkey_data['Geothermal Capacity'], mode='lines+markers')],\n",
    "    layout=go.Layout(\n",
    "        xaxis=dict(range=[turkey_data['Year'].min(), turkey_data['Year'].max()], autorange=False),\n",
    "        yaxis=dict(range=[turkey_data['Geothermal Capacity'].min(), turkey_data['Geothermal Capacity'].max()], autorange=False),\n",
    "        title=\"Geothermal Energy Capacity in Turkey Over Years\",\n",
    "        updatemenus=[dict(\n",
    "            type=\"buttons\",\n",
    "            buttons=[dict(label=\"Play\",\n",
    "                          method=\"animate\",\n",
    "                          args=[None])])]\n",
    "    ),\n",
    "    frames=turkey_frames\n",
    ")\n",
    "\n",
    "turkey_fig.show()"
   ]
  },
  {
   "cell_type": "markdown",
   "id": "70f44f7b",
   "metadata": {
    "papermill": {
     "duration": 0.015341,
     "end_time": "2024-02-14T11:28:31.065196",
     "exception": false,
     "start_time": "2024-02-14T11:28:31.049855",
     "status": "completed"
    },
    "tags": []
   },
   "source": [
    "<div style=\"background-color: #f9f9f9; border-left: 5px solid #6495ED; padding: 10px 15px; margin: 10px 0;\">\n",
    "  <p style=\"font-family: Arial, sans-serif; font-size: 14px; color: #333;\">\n",
    "    <strong>Graph Analysis:</strong> The animated line graph meticulously traces the evolution of geothermal energy capacity in Turkey, from the initial recorded year to the most recent data point. It starts with a singular marker representing Turkey's initial geothermal capacity, gradually unfolding to reveal the year-on-year development through an engaging animation. Each subsequent frame adds a new data point, effectively illustrating the progressive increase in geothermal capacity over the years. This visual narrative not only showcases the incremental growth but also highlights key milestones and periods of significant expansion in Turkey's geothermal sector. The 'Play' button initiates the animation, offering viewers an interactive experience that encapsulates Turkey's commitment to enhancing its geothermal energy infrastructure. This graph serves as a testament to Turkey's strategic advancements in geothermal energy, underpinning the nation's role in the global shift towards sustainable and renewable energy sources.\n",
    "  </p>\n",
    "</div>\n"
   ]
  },
  {
   "cell_type": "markdown",
   "id": "93f92d89",
   "metadata": {
    "papermill": {
     "duration": 0.015086,
     "end_time": "2024-02-14T11:28:31.095695",
     "exception": false,
     "start_time": "2024-02-14T11:28:31.080609",
     "status": "completed"
    },
    "tags": []
   },
   "source": [
    "<a id='GeothermalEnergyCapacityRankinginEuropein2020'></a>\n",
    "# <b><div style='padding:15px;background-color:#004080;color:white;border-radius:15px;font-size:100%;text-align: center'>Geothermal Energy Capacity Ranking in Europe in 2020</div></b>"
   ]
  },
  {
   "cell_type": "code",
   "execution_count": 15,
   "id": "44f27c20",
   "metadata": {
    "_kg_hide-input": true,
    "execution": {
     "iopub.execute_input": "2024-02-14T11:28:31.129891Z",
     "iopub.status.busy": "2024-02-14T11:28:31.129529Z",
     "iopub.status.idle": "2024-02-14T11:28:31.231501Z",
     "shell.execute_reply": "2024-02-14T11:28:31.230550Z"
    },
    "papermill": {
     "duration": 0.121927,
     "end_time": "2024-02-14T11:28:31.233685",
     "exception": false,
     "start_time": "2024-02-14T11:28:31.111758",
     "status": "completed"
    },
    "tags": []
   },
   "outputs": [
    {
     "data": {
      "text/html": [
       "<div>                            <div id=\"4e7754bc-027f-43b4-ba70-82f4a0ea5403\" class=\"plotly-graph-div\" style=\"height:525px; width:100%;\"></div>            <script type=\"text/javascript\">                require([\"plotly\"], function(Plotly) {                    window.PLOTLYENV=window.PLOTLYENV || {};                                    if (document.getElementById(\"4e7754bc-027f-43b4-ba70-82f4a0ea5403\")) {                    Plotly.newPlot(                        \"4e7754bc-027f-43b4-ba70-82f4a0ea5403\",                        [{\"alignmentgroup\":\"True\",\"hovertemplate\":\"Geothermal Capacity (MW)=%{marker.color}\\u003cbr\\u003eCountry=%{y}\\u003cextra\\u003e\\u003c\\u002fextra\\u003e\",\"legendgroup\":\"\",\"marker\":{\"color\":[1613.0,797.0,40.0,16.0],\"coloraxis\":\"coloraxis\",\"pattern\":{\"shape\":\"\"}},\"name\":\"\",\"offsetgroup\":\"\",\"orientation\":\"h\",\"showlegend\":false,\"textposition\":\"auto\",\"x\":[1613.0,797.0,40.0,16.0],\"xaxis\":\"x\",\"y\":[\"Turkey\",\"Italy\",\"Germany\",\"France\"],\"yaxis\":\"y\",\"type\":\"bar\"}],                        {\"template\":{\"data\":{\"barpolar\":[{\"marker\":{\"line\":{\"color\":\"white\",\"width\":0.5},\"pattern\":{\"fillmode\":\"overlay\",\"size\":10,\"solidity\":0.2}},\"type\":\"barpolar\"}],\"bar\":[{\"error_x\":{\"color\":\"#2a3f5f\"},\"error_y\":{\"color\":\"#2a3f5f\"},\"marker\":{\"line\":{\"color\":\"white\",\"width\":0.5},\"pattern\":{\"fillmode\":\"overlay\",\"size\":10,\"solidity\":0.2}},\"type\":\"bar\"}],\"carpet\":[{\"aaxis\":{\"endlinecolor\":\"#2a3f5f\",\"gridcolor\":\"#C8D4E3\",\"linecolor\":\"#C8D4E3\",\"minorgridcolor\":\"#C8D4E3\",\"startlinecolor\":\"#2a3f5f\"},\"baxis\":{\"endlinecolor\":\"#2a3f5f\",\"gridcolor\":\"#C8D4E3\",\"linecolor\":\"#C8D4E3\",\"minorgridcolor\":\"#C8D4E3\",\"startlinecolor\":\"#2a3f5f\"},\"type\":\"carpet\"}],\"choropleth\":[{\"colorbar\":{\"outlinewidth\":0,\"ticks\":\"\"},\"type\":\"choropleth\"}],\"contourcarpet\":[{\"colorbar\":{\"outlinewidth\":0,\"ticks\":\"\"},\"type\":\"contourcarpet\"}],\"contour\":[{\"colorbar\":{\"outlinewidth\":0,\"ticks\":\"\"},\"colorscale\":[[0.0,\"#0d0887\"],[0.1111111111111111,\"#46039f\"],[0.2222222222222222,\"#7201a8\"],[0.3333333333333333,\"#9c179e\"],[0.4444444444444444,\"#bd3786\"],[0.5555555555555556,\"#d8576b\"],[0.6666666666666666,\"#ed7953\"],[0.7777777777777778,\"#fb9f3a\"],[0.8888888888888888,\"#fdca26\"],[1.0,\"#f0f921\"]],\"type\":\"contour\"}],\"heatmapgl\":[{\"colorbar\":{\"outlinewidth\":0,\"ticks\":\"\"},\"colorscale\":[[0.0,\"#0d0887\"],[0.1111111111111111,\"#46039f\"],[0.2222222222222222,\"#7201a8\"],[0.3333333333333333,\"#9c179e\"],[0.4444444444444444,\"#bd3786\"],[0.5555555555555556,\"#d8576b\"],[0.6666666666666666,\"#ed7953\"],[0.7777777777777778,\"#fb9f3a\"],[0.8888888888888888,\"#fdca26\"],[1.0,\"#f0f921\"]],\"type\":\"heatmapgl\"}],\"heatmap\":[{\"colorbar\":{\"outlinewidth\":0,\"ticks\":\"\"},\"colorscale\":[[0.0,\"#0d0887\"],[0.1111111111111111,\"#46039f\"],[0.2222222222222222,\"#7201a8\"],[0.3333333333333333,\"#9c179e\"],[0.4444444444444444,\"#bd3786\"],[0.5555555555555556,\"#d8576b\"],[0.6666666666666666,\"#ed7953\"],[0.7777777777777778,\"#fb9f3a\"],[0.8888888888888888,\"#fdca26\"],[1.0,\"#f0f921\"]],\"type\":\"heatmap\"}],\"histogram2dcontour\":[{\"colorbar\":{\"outlinewidth\":0,\"ticks\":\"\"},\"colorscale\":[[0.0,\"#0d0887\"],[0.1111111111111111,\"#46039f\"],[0.2222222222222222,\"#7201a8\"],[0.3333333333333333,\"#9c179e\"],[0.4444444444444444,\"#bd3786\"],[0.5555555555555556,\"#d8576b\"],[0.6666666666666666,\"#ed7953\"],[0.7777777777777778,\"#fb9f3a\"],[0.8888888888888888,\"#fdca26\"],[1.0,\"#f0f921\"]],\"type\":\"histogram2dcontour\"}],\"histogram2d\":[{\"colorbar\":{\"outlinewidth\":0,\"ticks\":\"\"},\"colorscale\":[[0.0,\"#0d0887\"],[0.1111111111111111,\"#46039f\"],[0.2222222222222222,\"#7201a8\"],[0.3333333333333333,\"#9c179e\"],[0.4444444444444444,\"#bd3786\"],[0.5555555555555556,\"#d8576b\"],[0.6666666666666666,\"#ed7953\"],[0.7777777777777778,\"#fb9f3a\"],[0.8888888888888888,\"#fdca26\"],[1.0,\"#f0f921\"]],\"type\":\"histogram2d\"}],\"histogram\":[{\"marker\":{\"pattern\":{\"fillmode\":\"overlay\",\"size\":10,\"solidity\":0.2}},\"type\":\"histogram\"}],\"mesh3d\":[{\"colorbar\":{\"outlinewidth\":0,\"ticks\":\"\"},\"type\":\"mesh3d\"}],\"parcoords\":[{\"line\":{\"colorbar\":{\"outlinewidth\":0,\"ticks\":\"\"}},\"type\":\"parcoords\"}],\"pie\":[{\"automargin\":true,\"type\":\"pie\"}],\"scatter3d\":[{\"line\":{\"colorbar\":{\"outlinewidth\":0,\"ticks\":\"\"}},\"marker\":{\"colorbar\":{\"outlinewidth\":0,\"ticks\":\"\"}},\"type\":\"scatter3d\"}],\"scattercarpet\":[{\"marker\":{\"colorbar\":{\"outlinewidth\":0,\"ticks\":\"\"}},\"type\":\"scattercarpet\"}],\"scattergeo\":[{\"marker\":{\"colorbar\":{\"outlinewidth\":0,\"ticks\":\"\"}},\"type\":\"scattergeo\"}],\"scattergl\":[{\"marker\":{\"colorbar\":{\"outlinewidth\":0,\"ticks\":\"\"}},\"type\":\"scattergl\"}],\"scattermapbox\":[{\"marker\":{\"colorbar\":{\"outlinewidth\":0,\"ticks\":\"\"}},\"type\":\"scattermapbox\"}],\"scatterpolargl\":[{\"marker\":{\"colorbar\":{\"outlinewidth\":0,\"ticks\":\"\"}},\"type\":\"scatterpolargl\"}],\"scatterpolar\":[{\"marker\":{\"colorbar\":{\"outlinewidth\":0,\"ticks\":\"\"}},\"type\":\"scatterpolar\"}],\"scatter\":[{\"fillpattern\":{\"fillmode\":\"overlay\",\"size\":10,\"solidity\":0.2},\"type\":\"scatter\"}],\"scatterternary\":[{\"marker\":{\"colorbar\":{\"outlinewidth\":0,\"ticks\":\"\"}},\"type\":\"scatterternary\"}],\"surface\":[{\"colorbar\":{\"outlinewidth\":0,\"ticks\":\"\"},\"colorscale\":[[0.0,\"#0d0887\"],[0.1111111111111111,\"#46039f\"],[0.2222222222222222,\"#7201a8\"],[0.3333333333333333,\"#9c179e\"],[0.4444444444444444,\"#bd3786\"],[0.5555555555555556,\"#d8576b\"],[0.6666666666666666,\"#ed7953\"],[0.7777777777777778,\"#fb9f3a\"],[0.8888888888888888,\"#fdca26\"],[1.0,\"#f0f921\"]],\"type\":\"surface\"}],\"table\":[{\"cells\":{\"fill\":{\"color\":\"#EBF0F8\"},\"line\":{\"color\":\"white\"}},\"header\":{\"fill\":{\"color\":\"#C8D4E3\"},\"line\":{\"color\":\"white\"}},\"type\":\"table\"}]},\"layout\":{\"annotationdefaults\":{\"arrowcolor\":\"#2a3f5f\",\"arrowhead\":0,\"arrowwidth\":1},\"autotypenumbers\":\"strict\",\"coloraxis\":{\"colorbar\":{\"outlinewidth\":0,\"ticks\":\"\"}},\"colorscale\":{\"diverging\":[[0,\"#8e0152\"],[0.1,\"#c51b7d\"],[0.2,\"#de77ae\"],[0.3,\"#f1b6da\"],[0.4,\"#fde0ef\"],[0.5,\"#f7f7f7\"],[0.6,\"#e6f5d0\"],[0.7,\"#b8e186\"],[0.8,\"#7fbc41\"],[0.9,\"#4d9221\"],[1,\"#276419\"]],\"sequential\":[[0.0,\"#0d0887\"],[0.1111111111111111,\"#46039f\"],[0.2222222222222222,\"#7201a8\"],[0.3333333333333333,\"#9c179e\"],[0.4444444444444444,\"#bd3786\"],[0.5555555555555556,\"#d8576b\"],[0.6666666666666666,\"#ed7953\"],[0.7777777777777778,\"#fb9f3a\"],[0.8888888888888888,\"#fdca26\"],[1.0,\"#f0f921\"]],\"sequentialminus\":[[0.0,\"#0d0887\"],[0.1111111111111111,\"#46039f\"],[0.2222222222222222,\"#7201a8\"],[0.3333333333333333,\"#9c179e\"],[0.4444444444444444,\"#bd3786\"],[0.5555555555555556,\"#d8576b\"],[0.6666666666666666,\"#ed7953\"],[0.7777777777777778,\"#fb9f3a\"],[0.8888888888888888,\"#fdca26\"],[1.0,\"#f0f921\"]]},\"colorway\":[\"#636efa\",\"#EF553B\",\"#00cc96\",\"#ab63fa\",\"#FFA15A\",\"#19d3f3\",\"#FF6692\",\"#B6E880\",\"#FF97FF\",\"#FECB52\"],\"font\":{\"color\":\"#2a3f5f\"},\"geo\":{\"bgcolor\":\"white\",\"lakecolor\":\"white\",\"landcolor\":\"white\",\"showlakes\":true,\"showland\":true,\"subunitcolor\":\"#C8D4E3\"},\"hoverlabel\":{\"align\":\"left\"},\"hovermode\":\"closest\",\"mapbox\":{\"style\":\"light\"},\"paper_bgcolor\":\"white\",\"plot_bgcolor\":\"white\",\"polar\":{\"angularaxis\":{\"gridcolor\":\"#EBF0F8\",\"linecolor\":\"#EBF0F8\",\"ticks\":\"\"},\"bgcolor\":\"white\",\"radialaxis\":{\"gridcolor\":\"#EBF0F8\",\"linecolor\":\"#EBF0F8\",\"ticks\":\"\"}},\"scene\":{\"xaxis\":{\"backgroundcolor\":\"white\",\"gridcolor\":\"#DFE8F3\",\"gridwidth\":2,\"linecolor\":\"#EBF0F8\",\"showbackground\":true,\"ticks\":\"\",\"zerolinecolor\":\"#EBF0F8\"},\"yaxis\":{\"backgroundcolor\":\"white\",\"gridcolor\":\"#DFE8F3\",\"gridwidth\":2,\"linecolor\":\"#EBF0F8\",\"showbackground\":true,\"ticks\":\"\",\"zerolinecolor\":\"#EBF0F8\"},\"zaxis\":{\"backgroundcolor\":\"white\",\"gridcolor\":\"#DFE8F3\",\"gridwidth\":2,\"linecolor\":\"#EBF0F8\",\"showbackground\":true,\"ticks\":\"\",\"zerolinecolor\":\"#EBF0F8\"}},\"shapedefaults\":{\"line\":{\"color\":\"#2a3f5f\"}},\"ternary\":{\"aaxis\":{\"gridcolor\":\"#DFE8F3\",\"linecolor\":\"#A2B1C6\",\"ticks\":\"\"},\"baxis\":{\"gridcolor\":\"#DFE8F3\",\"linecolor\":\"#A2B1C6\",\"ticks\":\"\"},\"bgcolor\":\"white\",\"caxis\":{\"gridcolor\":\"#DFE8F3\",\"linecolor\":\"#A2B1C6\",\"ticks\":\"\"}},\"title\":{\"x\":0.05},\"xaxis\":{\"automargin\":true,\"gridcolor\":\"#EBF0F8\",\"linecolor\":\"#EBF0F8\",\"ticks\":\"\",\"title\":{\"standoff\":15},\"zerolinecolor\":\"#EBF0F8\",\"zerolinewidth\":2},\"yaxis\":{\"automargin\":true,\"gridcolor\":\"#EBF0F8\",\"linecolor\":\"#EBF0F8\",\"ticks\":\"\",\"title\":{\"standoff\":15},\"zerolinecolor\":\"#EBF0F8\",\"zerolinewidth\":2}}},\"xaxis\":{\"anchor\":\"y\",\"domain\":[0.0,1.0],\"title\":{\"text\":\"Geothermal Capacity (MW)\"}},\"yaxis\":{\"anchor\":\"x\",\"domain\":[0.0,1.0],\"title\":{\"text\":\"Country\"}},\"coloraxis\":{\"colorbar\":{\"title\":{\"text\":\"Geothermal Capacity (MW)\"}},\"colorscale\":[[0.0,\"#440154\"],[0.1111111111111111,\"#482878\"],[0.2222222222222222,\"#3e4989\"],[0.3333333333333333,\"#31688e\"],[0.4444444444444444,\"#26828e\"],[0.5555555555555556,\"#1f9e89\"],[0.6666666666666666,\"#35b779\"],[0.7777777777777778,\"#6ece58\"],[0.8888888888888888,\"#b5de2b\"],[1.0,\"#fde725\"]]},\"legend\":{\"tracegroupgap\":0},\"title\":{\"text\":\"Geothermal Energy Capacity Ranking in Europe in 2020\"},\"barmode\":\"relative\",\"plot_bgcolor\":\"rgba(0,0,0,0)\"},                        {\"responsive\": true}                    ).then(function(){\n",
       "                            \n",
       "var gd = document.getElementById('4e7754bc-027f-43b4-ba70-82f4a0ea5403');\n",
       "var x = new MutationObserver(function (mutations, observer) {{\n",
       "        var display = window.getComputedStyle(gd).display;\n",
       "        if (!display || display === 'none') {{\n",
       "            console.log([gd, 'removed!']);\n",
       "            Plotly.purge(gd);\n",
       "            observer.disconnect();\n",
       "        }}\n",
       "}});\n",
       "\n",
       "// Listen for the removal of the full notebook cells\n",
       "var notebookContainer = gd.closest('#notebook-container');\n",
       "if (notebookContainer) {{\n",
       "    x.observe(notebookContainer, {childList: true});\n",
       "}}\n",
       "\n",
       "// Listen for the clearing of the current output cell\n",
       "var outputEl = gd.closest('.output');\n",
       "if (outputEl) {{\n",
       "    x.observe(outputEl, {childList: true});\n",
       "}}\n",
       "\n",
       "                        })                };                });            </script>        </div>"
      ]
     },
     "metadata": {},
     "output_type": "display_data"
    }
   ],
   "source": [
    "latest_year_data = df_17[df_17['Year'] == df_17['Year'].max()]\n",
    "\n",
    "european_countries = ['Germany', 'Spain', 'United Kingdom', 'France', 'Italy', 'Sweden', 'Poland', 'Netherlands', 'Turkey']\n",
    "\n",
    "europe_latest_year = latest_year_data[latest_year_data['Entity'].isin(european_countries)].sort_values(by='Geothermal Capacity', ascending=False)\n",
    "\n",
    "fig = px.bar(europe_latest_year, y='Entity', x='Geothermal Capacity', \n",
    "             title=f'Geothermal Energy Capacity Ranking in Europe in {df_17[\"Year\"].max()}',\n",
    "             labels={'Entity': 'Country', 'Geothermal Capacity': 'Geothermal Capacity (MW)'},\n",
    "             color='Geothermal Capacity',\n",
    "             color_continuous_scale='Viridis',\n",
    "             orientation='h')\n",
    "\n",
    "fig.update_layout(\n",
    "    xaxis_title='Geothermal Capacity (MW)',\n",
    "    yaxis_title='Country',\n",
    "    coloraxis_colorbar=dict(title='Geothermal Capacity (MW)'),\n",
    "    plot_bgcolor='rgba(0,0,0,0)',\n",
    "    template='plotly_white'\n",
    ")\n",
    "\n",
    "fig.show()"
   ]
  },
  {
   "cell_type": "markdown",
   "id": "c40ea9d0",
   "metadata": {
    "papermill": {
     "duration": 0.016887,
     "end_time": "2024-02-14T11:28:31.267231",
     "exception": false,
     "start_time": "2024-02-14T11:28:31.250344",
     "status": "completed"
    },
    "tags": []
   },
   "source": [
    "<div style=\"background-color: #f9f9f9; border-left: 5px solid #8A2BE2; padding: 10px 15px; margin: 10px 0;\">\n",
    "  <p style=\"font-family: Arial, sans-serif; font-size: 14px; color: #333;\">\n",
    "    <strong>Graph Analysis:</strong> This horizontal bar chart provides a snapshot of the geothermal energy capacity rankings among select European countries as of the latest recorded year. The visualization arranges countries in descending order of their geothermal capacities, allowing for an intuitive comparison of their contributions to Europe's geothermal energy landscape. The use of a Viridis color scale enhances the visual appeal and aids in distinguishing between the various levels of geothermal capacity across countries. Turkey, along with other key European nations, is featured to underscore its competitive or collaborative stance within the region's geothermal sector. This chart not only highlights the leading countries in geothermal energy within Europe but also serves as a benchmark for evaluating progress and identifying areas for potential growth in the geothermal energy domain.\n",
    "  </p>\n",
    "</div>\n"
   ]
  },
  {
   "cell_type": "markdown",
   "id": "95adb4a6",
   "metadata": {
    "papermill": {
     "duration": 0.016414,
     "end_time": "2024-02-14T11:28:31.300322",
     "exception": false,
     "start_time": "2024-02-14T11:28:31.283908",
     "status": "completed"
    },
    "tags": []
   },
   "source": [
    "<a id='RegionalGeothermalCapacityOverTime'></a>\n",
    "# <b><div style='padding:15px;background-color:#004080;color:white;border-radius:15px;font-size:100%;text-align: center'>Regional Geothermal Capacity Over Time</div></b>"
   ]
  },
  {
   "cell_type": "code",
   "execution_count": 16,
   "id": "2278d1e4",
   "metadata": {
    "_kg_hide-input": true,
    "execution": {
     "iopub.execute_input": "2024-02-14T11:28:31.335429Z",
     "iopub.status.busy": "2024-02-14T11:28:31.335038Z",
     "iopub.status.idle": "2024-02-14T11:28:31.439372Z",
     "shell.execute_reply": "2024-02-14T11:28:31.438155Z"
    },
    "papermill": {
     "duration": 0.125156,
     "end_time": "2024-02-14T11:28:31.442744",
     "exception": false,
     "start_time": "2024-02-14T11:28:31.317588",
     "status": "completed"
    },
    "tags": []
   },
   "outputs": [
    {
     "data": {
      "text/html": [
       "<div>                            <div id=\"8eea1c18-bd44-45b0-82e1-c387ee9b4a47\" class=\"plotly-graph-div\" style=\"height:525px; width:100%;\"></div>            <script type=\"text/javascript\">                require([\"plotly\"], function(Plotly) {                    window.PLOTLYENV=window.PLOTLYENV || {};                                    if (document.getElementById(\"8eea1c18-bd44-45b0-82e1-c387ee9b4a47\")) {                    Plotly.newPlot(                        \"8eea1c18-bd44-45b0-82e1-c387ee9b4a47\",                        [{\"line\":{\"width\":3},\"marker\":{\"size\":8},\"mode\":\"lines+markers\",\"name\":\"Turkey\",\"x\":[1990,1995,2000,2001,2002,2003,2004,2005,2006,2007,2008,2009,2010,2011,2012,2013,2014,2015,2016,2017,2018,2019,2020],\"y\":[20.6,20.4,18.0,18.0,18.0,15.0,15.0,15.0,23.0,23.0,30.0,77.0,94.0,114.0,162.0,311.0,405.0,624.0,821.0,1063.7,1282.5,1514.7,1613.0],\"type\":\"scatter\"},{\"line\":{\"width\":3},\"marker\":{\"size\":8},\"mode\":\"lines+markers\",\"name\":\"Germany\",\"x\":[1990,1995,2000,2001,2002,2003,2004,2005,2006,2007,2008,2009,2010,2011,2012,2013,2014,2015,2016,2017,2018,2019,2020],\"y\":[0.0,0.0,0.0,0.0,0.0,0.0,0.2,0.2,0.2,3.0,3.0,8.0,8.0,6.0,16.0,26.0,29.0,29.0,33.0,32.0,35.0,40.0,40.0],\"type\":\"scatter\"},{\"line\":{\"width\":3},\"marker\":{\"size\":8},\"mode\":\"lines+markers\",\"name\":\"China\",\"x\":[1990,1995,2000,2001,2002,2003,2004,2005,2006,2007,2008,2009,2010,2011,2012,2013,2014,2015,2016,2017,2018,2019,2020],\"y\":[29.3,26.3,21.7,21.7,21.7,21.7,21.7,21.7,21.7,21.7,24.8,24.8,24.1,26.2,26.2,26.0,25.95,25.75,25.75,25.75,25.75,26.0,26.0],\"type\":\"scatter\"},{\"line\":{\"width\":3},\"marker\":{\"size\":8},\"mode\":\"lines+markers\",\"name\":\"United States\",\"x\":[1990,1995,2000,2001,2002,2003,2004,2005,2006,2007,2008,2009,2010,2011,2012,2013,2014,2015,2016,2017,2018,2019,2020],\"y\":[2913.5,3170.96,2793.0,2216.0,2252.0,2133.0,2152.0,2285.0,2274.0,2214.0,2229.0,2382.0,2405.0,2409.0,2592.0,2607.0,2514.0,2542.0,2517.0,2483.0,2540.5,2555.3,2587.0],\"type\":\"scatter\"}],                        {\"template\":{\"data\":{\"barpolar\":[{\"marker\":{\"line\":{\"color\":\"rgb(17,17,17)\",\"width\":0.5},\"pattern\":{\"fillmode\":\"overlay\",\"size\":10,\"solidity\":0.2}},\"type\":\"barpolar\"}],\"bar\":[{\"error_x\":{\"color\":\"#f2f5fa\"},\"error_y\":{\"color\":\"#f2f5fa\"},\"marker\":{\"line\":{\"color\":\"rgb(17,17,17)\",\"width\":0.5},\"pattern\":{\"fillmode\":\"overlay\",\"size\":10,\"solidity\":0.2}},\"type\":\"bar\"}],\"carpet\":[{\"aaxis\":{\"endlinecolor\":\"#A2B1C6\",\"gridcolor\":\"#506784\",\"linecolor\":\"#506784\",\"minorgridcolor\":\"#506784\",\"startlinecolor\":\"#A2B1C6\"},\"baxis\":{\"endlinecolor\":\"#A2B1C6\",\"gridcolor\":\"#506784\",\"linecolor\":\"#506784\",\"minorgridcolor\":\"#506784\",\"startlinecolor\":\"#A2B1C6\"},\"type\":\"carpet\"}],\"choropleth\":[{\"colorbar\":{\"outlinewidth\":0,\"ticks\":\"\"},\"type\":\"choropleth\"}],\"contourcarpet\":[{\"colorbar\":{\"outlinewidth\":0,\"ticks\":\"\"},\"type\":\"contourcarpet\"}],\"contour\":[{\"colorbar\":{\"outlinewidth\":0,\"ticks\":\"\"},\"colorscale\":[[0.0,\"#0d0887\"],[0.1111111111111111,\"#46039f\"],[0.2222222222222222,\"#7201a8\"],[0.3333333333333333,\"#9c179e\"],[0.4444444444444444,\"#bd3786\"],[0.5555555555555556,\"#d8576b\"],[0.6666666666666666,\"#ed7953\"],[0.7777777777777778,\"#fb9f3a\"],[0.8888888888888888,\"#fdca26\"],[1.0,\"#f0f921\"]],\"type\":\"contour\"}],\"heatmapgl\":[{\"colorbar\":{\"outlinewidth\":0,\"ticks\":\"\"},\"colorscale\":[[0.0,\"#0d0887\"],[0.1111111111111111,\"#46039f\"],[0.2222222222222222,\"#7201a8\"],[0.3333333333333333,\"#9c179e\"],[0.4444444444444444,\"#bd3786\"],[0.5555555555555556,\"#d8576b\"],[0.6666666666666666,\"#ed7953\"],[0.7777777777777778,\"#fb9f3a\"],[0.8888888888888888,\"#fdca26\"],[1.0,\"#f0f921\"]],\"type\":\"heatmapgl\"}],\"heatmap\":[{\"colorbar\":{\"outlinewidth\":0,\"ticks\":\"\"},\"colorscale\":[[0.0,\"#0d0887\"],[0.1111111111111111,\"#46039f\"],[0.2222222222222222,\"#7201a8\"],[0.3333333333333333,\"#9c179e\"],[0.4444444444444444,\"#bd3786\"],[0.5555555555555556,\"#d8576b\"],[0.6666666666666666,\"#ed7953\"],[0.7777777777777778,\"#fb9f3a\"],[0.8888888888888888,\"#fdca26\"],[1.0,\"#f0f921\"]],\"type\":\"heatmap\"}],\"histogram2dcontour\":[{\"colorbar\":{\"outlinewidth\":0,\"ticks\":\"\"},\"colorscale\":[[0.0,\"#0d0887\"],[0.1111111111111111,\"#46039f\"],[0.2222222222222222,\"#7201a8\"],[0.3333333333333333,\"#9c179e\"],[0.4444444444444444,\"#bd3786\"],[0.5555555555555556,\"#d8576b\"],[0.6666666666666666,\"#ed7953\"],[0.7777777777777778,\"#fb9f3a\"],[0.8888888888888888,\"#fdca26\"],[1.0,\"#f0f921\"]],\"type\":\"histogram2dcontour\"}],\"histogram2d\":[{\"colorbar\":{\"outlinewidth\":0,\"ticks\":\"\"},\"colorscale\":[[0.0,\"#0d0887\"],[0.1111111111111111,\"#46039f\"],[0.2222222222222222,\"#7201a8\"],[0.3333333333333333,\"#9c179e\"],[0.4444444444444444,\"#bd3786\"],[0.5555555555555556,\"#d8576b\"],[0.6666666666666666,\"#ed7953\"],[0.7777777777777778,\"#fb9f3a\"],[0.8888888888888888,\"#fdca26\"],[1.0,\"#f0f921\"]],\"type\":\"histogram2d\"}],\"histogram\":[{\"marker\":{\"pattern\":{\"fillmode\":\"overlay\",\"size\":10,\"solidity\":0.2}},\"type\":\"histogram\"}],\"mesh3d\":[{\"colorbar\":{\"outlinewidth\":0,\"ticks\":\"\"},\"type\":\"mesh3d\"}],\"parcoords\":[{\"line\":{\"colorbar\":{\"outlinewidth\":0,\"ticks\":\"\"}},\"type\":\"parcoords\"}],\"pie\":[{\"automargin\":true,\"type\":\"pie\"}],\"scatter3d\":[{\"line\":{\"colorbar\":{\"outlinewidth\":0,\"ticks\":\"\"}},\"marker\":{\"colorbar\":{\"outlinewidth\":0,\"ticks\":\"\"}},\"type\":\"scatter3d\"}],\"scattercarpet\":[{\"marker\":{\"colorbar\":{\"outlinewidth\":0,\"ticks\":\"\"}},\"type\":\"scattercarpet\"}],\"scattergeo\":[{\"marker\":{\"colorbar\":{\"outlinewidth\":0,\"ticks\":\"\"}},\"type\":\"scattergeo\"}],\"scattergl\":[{\"marker\":{\"line\":{\"color\":\"#283442\"}},\"type\":\"scattergl\"}],\"scattermapbox\":[{\"marker\":{\"colorbar\":{\"outlinewidth\":0,\"ticks\":\"\"}},\"type\":\"scattermapbox\"}],\"scatterpolargl\":[{\"marker\":{\"colorbar\":{\"outlinewidth\":0,\"ticks\":\"\"}},\"type\":\"scatterpolargl\"}],\"scatterpolar\":[{\"marker\":{\"colorbar\":{\"outlinewidth\":0,\"ticks\":\"\"}},\"type\":\"scatterpolar\"}],\"scatter\":[{\"marker\":{\"line\":{\"color\":\"#283442\"}},\"type\":\"scatter\"}],\"scatterternary\":[{\"marker\":{\"colorbar\":{\"outlinewidth\":0,\"ticks\":\"\"}},\"type\":\"scatterternary\"}],\"surface\":[{\"colorbar\":{\"outlinewidth\":0,\"ticks\":\"\"},\"colorscale\":[[0.0,\"#0d0887\"],[0.1111111111111111,\"#46039f\"],[0.2222222222222222,\"#7201a8\"],[0.3333333333333333,\"#9c179e\"],[0.4444444444444444,\"#bd3786\"],[0.5555555555555556,\"#d8576b\"],[0.6666666666666666,\"#ed7953\"],[0.7777777777777778,\"#fb9f3a\"],[0.8888888888888888,\"#fdca26\"],[1.0,\"#f0f921\"]],\"type\":\"surface\"}],\"table\":[{\"cells\":{\"fill\":{\"color\":\"#506784\"},\"line\":{\"color\":\"rgb(17,17,17)\"}},\"header\":{\"fill\":{\"color\":\"#2a3f5f\"},\"line\":{\"color\":\"rgb(17,17,17)\"}},\"type\":\"table\"}]},\"layout\":{\"annotationdefaults\":{\"arrowcolor\":\"#f2f5fa\",\"arrowhead\":0,\"arrowwidth\":1},\"autotypenumbers\":\"strict\",\"coloraxis\":{\"colorbar\":{\"outlinewidth\":0,\"ticks\":\"\"}},\"colorscale\":{\"diverging\":[[0,\"#8e0152\"],[0.1,\"#c51b7d\"],[0.2,\"#de77ae\"],[0.3,\"#f1b6da\"],[0.4,\"#fde0ef\"],[0.5,\"#f7f7f7\"],[0.6,\"#e6f5d0\"],[0.7,\"#b8e186\"],[0.8,\"#7fbc41\"],[0.9,\"#4d9221\"],[1,\"#276419\"]],\"sequential\":[[0.0,\"#0d0887\"],[0.1111111111111111,\"#46039f\"],[0.2222222222222222,\"#7201a8\"],[0.3333333333333333,\"#9c179e\"],[0.4444444444444444,\"#bd3786\"],[0.5555555555555556,\"#d8576b\"],[0.6666666666666666,\"#ed7953\"],[0.7777777777777778,\"#fb9f3a\"],[0.8888888888888888,\"#fdca26\"],[1.0,\"#f0f921\"]],\"sequentialminus\":[[0.0,\"#0d0887\"],[0.1111111111111111,\"#46039f\"],[0.2222222222222222,\"#7201a8\"],[0.3333333333333333,\"#9c179e\"],[0.4444444444444444,\"#bd3786\"],[0.5555555555555556,\"#d8576b\"],[0.6666666666666666,\"#ed7953\"],[0.7777777777777778,\"#fb9f3a\"],[0.8888888888888888,\"#fdca26\"],[1.0,\"#f0f921\"]]},\"colorway\":[\"#636efa\",\"#EF553B\",\"#00cc96\",\"#ab63fa\",\"#FFA15A\",\"#19d3f3\",\"#FF6692\",\"#B6E880\",\"#FF97FF\",\"#FECB52\"],\"font\":{\"color\":\"#f2f5fa\"},\"geo\":{\"bgcolor\":\"rgb(17,17,17)\",\"lakecolor\":\"rgb(17,17,17)\",\"landcolor\":\"rgb(17,17,17)\",\"showlakes\":true,\"showland\":true,\"subunitcolor\":\"#506784\"},\"hoverlabel\":{\"align\":\"left\"},\"hovermode\":\"closest\",\"mapbox\":{\"style\":\"dark\"},\"paper_bgcolor\":\"rgb(17,17,17)\",\"plot_bgcolor\":\"rgb(17,17,17)\",\"polar\":{\"angularaxis\":{\"gridcolor\":\"#506784\",\"linecolor\":\"#506784\",\"ticks\":\"\"},\"bgcolor\":\"rgb(17,17,17)\",\"radialaxis\":{\"gridcolor\":\"#506784\",\"linecolor\":\"#506784\",\"ticks\":\"\"}},\"scene\":{\"xaxis\":{\"backgroundcolor\":\"rgb(17,17,17)\",\"gridcolor\":\"#506784\",\"gridwidth\":2,\"linecolor\":\"#506784\",\"showbackground\":true,\"ticks\":\"\",\"zerolinecolor\":\"#C8D4E3\"},\"yaxis\":{\"backgroundcolor\":\"rgb(17,17,17)\",\"gridcolor\":\"#506784\",\"gridwidth\":2,\"linecolor\":\"#506784\",\"showbackground\":true,\"ticks\":\"\",\"zerolinecolor\":\"#C8D4E3\"},\"zaxis\":{\"backgroundcolor\":\"rgb(17,17,17)\",\"gridcolor\":\"#506784\",\"gridwidth\":2,\"linecolor\":\"#506784\",\"showbackground\":true,\"ticks\":\"\",\"zerolinecolor\":\"#C8D4E3\"}},\"shapedefaults\":{\"line\":{\"color\":\"#f2f5fa\"}},\"sliderdefaults\":{\"bgcolor\":\"#C8D4E3\",\"bordercolor\":\"rgb(17,17,17)\",\"borderwidth\":1,\"tickwidth\":0},\"ternary\":{\"aaxis\":{\"gridcolor\":\"#506784\",\"linecolor\":\"#506784\",\"ticks\":\"\"},\"baxis\":{\"gridcolor\":\"#506784\",\"linecolor\":\"#506784\",\"ticks\":\"\"},\"bgcolor\":\"rgb(17,17,17)\",\"caxis\":{\"gridcolor\":\"#506784\",\"linecolor\":\"#506784\",\"ticks\":\"\"}},\"title\":{\"x\":0.05},\"updatemenudefaults\":{\"bgcolor\":\"#506784\",\"borderwidth\":0},\"xaxis\":{\"automargin\":true,\"gridcolor\":\"#283442\",\"linecolor\":\"#506784\",\"ticks\":\"\",\"title\":{\"standoff\":15},\"zerolinecolor\":\"#283442\",\"zerolinewidth\":2},\"yaxis\":{\"automargin\":true,\"gridcolor\":\"#283442\",\"linecolor\":\"#506784\",\"ticks\":\"\",\"title\":{\"standoff\":15},\"zerolinecolor\":\"#283442\",\"zerolinewidth\":2}}},\"title\":{\"text\":\"Regional Geothermal Capacity Over Time\",\"y\":0.9,\"x\":0.5,\"xanchor\":\"center\",\"yanchor\":\"top\"},\"margin\":{\"l\":20,\"r\":20,\"t\":60,\"b\":20},\"xaxis\":{\"title\":{\"text\":\"Year\"}},\"yaxis\":{\"title\":{\"text\":\"Geothermal Capacity (MW)\"}},\"legend\":{\"title\":{\"text\":\"Country\\u002fRegion\"}}},                        {\"responsive\": true}                    ).then(function(){\n",
       "                            \n",
       "var gd = document.getElementById('8eea1c18-bd44-45b0-82e1-c387ee9b4a47');\n",
       "var x = new MutationObserver(function (mutations, observer) {{\n",
       "        var display = window.getComputedStyle(gd).display;\n",
       "        if (!display || display === 'none') {{\n",
       "            console.log([gd, 'removed!']);\n",
       "            Plotly.purge(gd);\n",
       "            observer.disconnect();\n",
       "        }}\n",
       "}});\n",
       "\n",
       "// Listen for the removal of the full notebook cells\n",
       "var notebookContainer = gd.closest('#notebook-container');\n",
       "if (notebookContainer) {{\n",
       "    x.observe(notebookContainer, {childList: true});\n",
       "}}\n",
       "\n",
       "// Listen for the clearing of the current output cell\n",
       "var outputEl = gd.closest('.output');\n",
       "if (outputEl) {{\n",
       "    x.observe(outputEl, {childList: true});\n",
       "}}\n",
       "\n",
       "                        })                };                });            </script>        </div>"
      ]
     },
     "metadata": {},
     "output_type": "display_data"
    }
   ],
   "source": [
    "regional_entities = ['Turkey', 'Germany', 'China', 'United States']\n",
    "\n",
    "regional_yearly = df_17[df_17['Entity'].isin(regional_entities)].pivot(index='Year', columns='Entity', values='Geothermal Capacity')\n",
    "\n",
    "fig = go.Figure()\n",
    "\n",
    "for country in regional_entities:\n",
    "    fig.add_trace(go.Scatter(x=regional_yearly.index, y=regional_yearly[country], mode='lines+markers', name=country,\n",
    "                             line=dict(width=3), marker=dict(size=8)))\n",
    "\n",
    "fig.update_layout(title={'text': \"Regional Geothermal Capacity Over Time\", 'y':0.9, 'x':0.5, 'xanchor': 'center', 'yanchor': 'top'},\n",
    "                  xaxis_title='Year',\n",
    "                  yaxis_title='Geothermal Capacity (MW)',\n",
    "                  legend_title='Country/Region',\n",
    "                  template='plotly_dark',  \n",
    "                  margin=dict(l=20, r=20, t=60, b=20))\n",
    "\n",
    "fig.show()"
   ]
  },
  {
   "cell_type": "markdown",
   "id": "2d798ea1",
   "metadata": {
    "papermill": {
     "duration": 0.017216,
     "end_time": "2024-02-14T11:28:31.477555",
     "exception": false,
     "start_time": "2024-02-14T11:28:31.460339",
     "status": "completed"
    },
    "tags": []
   },
   "source": [
    "<div style=\"background-color: #f9f9f9; border-left: 5px solid #483D8B; padding: 10px 15px; margin: 10px 0;\">\n",
    "  <p style=\"font-family: Arial, sans-serif; font-size: 14px; color: #333;\">\n",
    "    <strong>Graph Analysis:</strong> This multi-line chart elucidates the trajectories of geothermal capacity development across Turkey, Germany, China, and the United States, offering a longitudinal view of each country's progression in geothermal energy utilization. The distinct lines, each representing a country, are plotted with a combination of markers and lines, enhancing the clarity and readability of the year-on-year capacity changes. The choice of a dark theme for the graph accentuates the vibrancy of the lines, ensuring that each country's path is distinctly visible against the contrasting background. This visualization facilitates a direct comparison of geothermal capacity trends among the selected countries, revealing the pace and scale of geothermal energy adoption. It underscores the diverse strategies and investment levels in geothermal resources, reflecting the varying geographical, technological, and policy-driven landscapes that shape the global geothermal energy sector.\n",
    "  </p>\n",
    "</div>\n"
   ]
  },
  {
   "cell_type": "markdown",
   "id": "0e9afc19",
   "metadata": {
    "papermill": {
     "duration": 0.015406,
     "end_time": "2024-02-14T11:28:31.509695",
     "exception": false,
     "start_time": "2024-02-14T11:28:31.494289",
     "status": "completed"
    },
    "tags": []
   },
   "source": [
    "<a id='TotalGeothermalPowerProductionofSpecifiedCountries'></a>\n",
    "# <b><div style='padding:15px;background-color:#004080;color:white;border-radius:15px;font-size:100%;text-align: center'>Total Geothermal Power Production of Specified Countries</div></b>"
   ]
  },
  {
   "cell_type": "code",
   "execution_count": 17,
   "id": "591b4311",
   "metadata": {
    "_kg_hide-input": true,
    "execution": {
     "iopub.execute_input": "2024-02-14T11:28:31.546274Z",
     "iopub.status.busy": "2024-02-14T11:28:31.545861Z",
     "iopub.status.idle": "2024-02-14T11:28:31.717484Z",
     "shell.execute_reply": "2024-02-14T11:28:31.716234Z"
    },
    "papermill": {
     "duration": 0.192031,
     "end_time": "2024-02-14T11:28:31.720133",
     "exception": false,
     "start_time": "2024-02-14T11:28:31.528102",
     "status": "completed"
    },
    "tags": []
   },
   "outputs": [
    {
     "data": {
      "text/html": [
       "<div>                            <div id=\"e2a4f1c9-b377-4334-91b4-23c167e00763\" class=\"plotly-graph-div\" style=\"height:525px; width:100%;\"></div>            <script type=\"text/javascript\">                require([\"plotly\"], function(Plotly) {                    window.PLOTLYENV=window.PLOTLYENV || {};                                    if (document.getElementById(\"e2a4f1c9-b377-4334-91b4-23c167e00763\")) {                    Plotly.newPlot(                        \"e2a4f1c9-b377-4334-91b4-23c167e00763\",                        [{\"alignmentgroup\":\"True\",\"hovertemplate\":\"Country=%{x}\\u003cbr\\u003eGeothermal Capacity (MW)=%{marker.color}\\u003cextra\\u003e\\u003c\\u002fextra\\u003e\",\"legendgroup\":\"\",\"marker\":{\"color\":[16048.08,8297.9,483.3,308.6,168.11],\"coloraxis\":\"coloraxis\",\"pattern\":{\"shape\":\"\"},\"line\":{\"color\":\"black\",\"width\":1.5}},\"name\":\"\",\"offsetgroup\":\"\",\"orientation\":\"v\",\"showlegend\":false,\"textposition\":\"auto\",\"x\":[\"Italy\",\"Turkey\",\"Portugal\",\"Germany\",\"France\"],\"xaxis\":\"x\",\"y\":[16048.08,8297.9,483.3,308.6,168.11],\"yaxis\":\"y\",\"type\":\"bar\"}],                        {\"template\":{\"data\":{\"histogram2dcontour\":[{\"type\":\"histogram2dcontour\",\"colorbar\":{\"outlinewidth\":0,\"ticks\":\"\"},\"colorscale\":[[0.0,\"#0d0887\"],[0.1111111111111111,\"#46039f\"],[0.2222222222222222,\"#7201a8\"],[0.3333333333333333,\"#9c179e\"],[0.4444444444444444,\"#bd3786\"],[0.5555555555555556,\"#d8576b\"],[0.6666666666666666,\"#ed7953\"],[0.7777777777777778,\"#fb9f3a\"],[0.8888888888888888,\"#fdca26\"],[1.0,\"#f0f921\"]]}],\"choropleth\":[{\"type\":\"choropleth\",\"colorbar\":{\"outlinewidth\":0,\"ticks\":\"\"}}],\"histogram2d\":[{\"type\":\"histogram2d\",\"colorbar\":{\"outlinewidth\":0,\"ticks\":\"\"},\"colorscale\":[[0.0,\"#0d0887\"],[0.1111111111111111,\"#46039f\"],[0.2222222222222222,\"#7201a8\"],[0.3333333333333333,\"#9c179e\"],[0.4444444444444444,\"#bd3786\"],[0.5555555555555556,\"#d8576b\"],[0.6666666666666666,\"#ed7953\"],[0.7777777777777778,\"#fb9f3a\"],[0.8888888888888888,\"#fdca26\"],[1.0,\"#f0f921\"]]}],\"heatmap\":[{\"type\":\"heatmap\",\"colorbar\":{\"outlinewidth\":0,\"ticks\":\"\"},\"colorscale\":[[0.0,\"#0d0887\"],[0.1111111111111111,\"#46039f\"],[0.2222222222222222,\"#7201a8\"],[0.3333333333333333,\"#9c179e\"],[0.4444444444444444,\"#bd3786\"],[0.5555555555555556,\"#d8576b\"],[0.6666666666666666,\"#ed7953\"],[0.7777777777777778,\"#fb9f3a\"],[0.8888888888888888,\"#fdca26\"],[1.0,\"#f0f921\"]]}],\"heatmapgl\":[{\"type\":\"heatmapgl\",\"colorbar\":{\"outlinewidth\":0,\"ticks\":\"\"},\"colorscale\":[[0.0,\"#0d0887\"],[0.1111111111111111,\"#46039f\"],[0.2222222222222222,\"#7201a8\"],[0.3333333333333333,\"#9c179e\"],[0.4444444444444444,\"#bd3786\"],[0.5555555555555556,\"#d8576b\"],[0.6666666666666666,\"#ed7953\"],[0.7777777777777778,\"#fb9f3a\"],[0.8888888888888888,\"#fdca26\"],[1.0,\"#f0f921\"]]}],\"contourcarpet\":[{\"type\":\"contourcarpet\",\"colorbar\":{\"outlinewidth\":0,\"ticks\":\"\"}}],\"contour\":[{\"type\":\"contour\",\"colorbar\":{\"outlinewidth\":0,\"ticks\":\"\"},\"colorscale\":[[0.0,\"#0d0887\"],[0.1111111111111111,\"#46039f\"],[0.2222222222222222,\"#7201a8\"],[0.3333333333333333,\"#9c179e\"],[0.4444444444444444,\"#bd3786\"],[0.5555555555555556,\"#d8576b\"],[0.6666666666666666,\"#ed7953\"],[0.7777777777777778,\"#fb9f3a\"],[0.8888888888888888,\"#fdca26\"],[1.0,\"#f0f921\"]]}],\"surface\":[{\"type\":\"surface\",\"colorbar\":{\"outlinewidth\":0,\"ticks\":\"\"},\"colorscale\":[[0.0,\"#0d0887\"],[0.1111111111111111,\"#46039f\"],[0.2222222222222222,\"#7201a8\"],[0.3333333333333333,\"#9c179e\"],[0.4444444444444444,\"#bd3786\"],[0.5555555555555556,\"#d8576b\"],[0.6666666666666666,\"#ed7953\"],[0.7777777777777778,\"#fb9f3a\"],[0.8888888888888888,\"#fdca26\"],[1.0,\"#f0f921\"]]}],\"mesh3d\":[{\"type\":\"mesh3d\",\"colorbar\":{\"outlinewidth\":0,\"ticks\":\"\"}}],\"scatter\":[{\"fillpattern\":{\"fillmode\":\"overlay\",\"size\":10,\"solidity\":0.2},\"type\":\"scatter\"}],\"parcoords\":[{\"type\":\"parcoords\",\"line\":{\"colorbar\":{\"outlinewidth\":0,\"ticks\":\"\"}}}],\"scatterpolargl\":[{\"type\":\"scatterpolargl\",\"marker\":{\"colorbar\":{\"outlinewidth\":0,\"ticks\":\"\"}}}],\"bar\":[{\"error_x\":{\"color\":\"#2a3f5f\"},\"error_y\":{\"color\":\"#2a3f5f\"},\"marker\":{\"line\":{\"color\":\"#E5ECF6\",\"width\":0.5},\"pattern\":{\"fillmode\":\"overlay\",\"size\":10,\"solidity\":0.2}},\"type\":\"bar\"}],\"scattergeo\":[{\"type\":\"scattergeo\",\"marker\":{\"colorbar\":{\"outlinewidth\":0,\"ticks\":\"\"}}}],\"scatterpolar\":[{\"type\":\"scatterpolar\",\"marker\":{\"colorbar\":{\"outlinewidth\":0,\"ticks\":\"\"}}}],\"histogram\":[{\"marker\":{\"pattern\":{\"fillmode\":\"overlay\",\"size\":10,\"solidity\":0.2}},\"type\":\"histogram\"}],\"scattergl\":[{\"type\":\"scattergl\",\"marker\":{\"colorbar\":{\"outlinewidth\":0,\"ticks\":\"\"}}}],\"scatter3d\":[{\"type\":\"scatter3d\",\"line\":{\"colorbar\":{\"outlinewidth\":0,\"ticks\":\"\"}},\"marker\":{\"colorbar\":{\"outlinewidth\":0,\"ticks\":\"\"}}}],\"scattermapbox\":[{\"type\":\"scattermapbox\",\"marker\":{\"colorbar\":{\"outlinewidth\":0,\"ticks\":\"\"}}}],\"scatterternary\":[{\"type\":\"scatterternary\",\"marker\":{\"colorbar\":{\"outlinewidth\":0,\"ticks\":\"\"}}}],\"scattercarpet\":[{\"type\":\"scattercarpet\",\"marker\":{\"colorbar\":{\"outlinewidth\":0,\"ticks\":\"\"}}}],\"carpet\":[{\"aaxis\":{\"endlinecolor\":\"#2a3f5f\",\"gridcolor\":\"white\",\"linecolor\":\"white\",\"minorgridcolor\":\"white\",\"startlinecolor\":\"#2a3f5f\"},\"baxis\":{\"endlinecolor\":\"#2a3f5f\",\"gridcolor\":\"white\",\"linecolor\":\"white\",\"minorgridcolor\":\"white\",\"startlinecolor\":\"#2a3f5f\"},\"type\":\"carpet\"}],\"table\":[{\"cells\":{\"fill\":{\"color\":\"#EBF0F8\"},\"line\":{\"color\":\"white\"}},\"header\":{\"fill\":{\"color\":\"#C8D4E3\"},\"line\":{\"color\":\"white\"}},\"type\":\"table\"}],\"barpolar\":[{\"marker\":{\"line\":{\"color\":\"#E5ECF6\",\"width\":0.5},\"pattern\":{\"fillmode\":\"overlay\",\"size\":10,\"solidity\":0.2}},\"type\":\"barpolar\"}],\"pie\":[{\"automargin\":true,\"type\":\"pie\"}]},\"layout\":{\"autotypenumbers\":\"strict\",\"colorway\":[\"#636efa\",\"#EF553B\",\"#00cc96\",\"#ab63fa\",\"#FFA15A\",\"#19d3f3\",\"#FF6692\",\"#B6E880\",\"#FF97FF\",\"#FECB52\"],\"font\":{\"color\":\"#2a3f5f\"},\"hovermode\":\"closest\",\"hoverlabel\":{\"align\":\"left\"},\"paper_bgcolor\":\"white\",\"plot_bgcolor\":\"#E5ECF6\",\"polar\":{\"bgcolor\":\"#E5ECF6\",\"angularaxis\":{\"gridcolor\":\"white\",\"linecolor\":\"white\",\"ticks\":\"\"},\"radialaxis\":{\"gridcolor\":\"white\",\"linecolor\":\"white\",\"ticks\":\"\"}},\"ternary\":{\"bgcolor\":\"#E5ECF6\",\"aaxis\":{\"gridcolor\":\"white\",\"linecolor\":\"white\",\"ticks\":\"\"},\"baxis\":{\"gridcolor\":\"white\",\"linecolor\":\"white\",\"ticks\":\"\"},\"caxis\":{\"gridcolor\":\"white\",\"linecolor\":\"white\",\"ticks\":\"\"}},\"coloraxis\":{\"colorbar\":{\"outlinewidth\":0,\"ticks\":\"\"}},\"colorscale\":{\"sequential\":[[0.0,\"#0d0887\"],[0.1111111111111111,\"#46039f\"],[0.2222222222222222,\"#7201a8\"],[0.3333333333333333,\"#9c179e\"],[0.4444444444444444,\"#bd3786\"],[0.5555555555555556,\"#d8576b\"],[0.6666666666666666,\"#ed7953\"],[0.7777777777777778,\"#fb9f3a\"],[0.8888888888888888,\"#fdca26\"],[1.0,\"#f0f921\"]],\"sequentialminus\":[[0.0,\"#0d0887\"],[0.1111111111111111,\"#46039f\"],[0.2222222222222222,\"#7201a8\"],[0.3333333333333333,\"#9c179e\"],[0.4444444444444444,\"#bd3786\"],[0.5555555555555556,\"#d8576b\"],[0.6666666666666666,\"#ed7953\"],[0.7777777777777778,\"#fb9f3a\"],[0.8888888888888888,\"#fdca26\"],[1.0,\"#f0f921\"]],\"diverging\":[[0,\"#8e0152\"],[0.1,\"#c51b7d\"],[0.2,\"#de77ae\"],[0.3,\"#f1b6da\"],[0.4,\"#fde0ef\"],[0.5,\"#f7f7f7\"],[0.6,\"#e6f5d0\"],[0.7,\"#b8e186\"],[0.8,\"#7fbc41\"],[0.9,\"#4d9221\"],[1,\"#276419\"]]},\"xaxis\":{\"gridcolor\":\"white\",\"linecolor\":\"white\",\"ticks\":\"\",\"title\":{\"standoff\":15},\"zerolinecolor\":\"white\",\"automargin\":true,\"zerolinewidth\":2},\"yaxis\":{\"gridcolor\":\"white\",\"linecolor\":\"white\",\"ticks\":\"\",\"title\":{\"standoff\":15},\"zerolinecolor\":\"white\",\"automargin\":true,\"zerolinewidth\":2},\"scene\":{\"xaxis\":{\"backgroundcolor\":\"#E5ECF6\",\"gridcolor\":\"white\",\"linecolor\":\"white\",\"showbackground\":true,\"ticks\":\"\",\"zerolinecolor\":\"white\",\"gridwidth\":2},\"yaxis\":{\"backgroundcolor\":\"#E5ECF6\",\"gridcolor\":\"white\",\"linecolor\":\"white\",\"showbackground\":true,\"ticks\":\"\",\"zerolinecolor\":\"white\",\"gridwidth\":2},\"zaxis\":{\"backgroundcolor\":\"#E5ECF6\",\"gridcolor\":\"white\",\"linecolor\":\"white\",\"showbackground\":true,\"ticks\":\"\",\"zerolinecolor\":\"white\",\"gridwidth\":2}},\"shapedefaults\":{\"line\":{\"color\":\"#2a3f5f\"}},\"annotationdefaults\":{\"arrowcolor\":\"#2a3f5f\",\"arrowhead\":0,\"arrowwidth\":1},\"geo\":{\"bgcolor\":\"white\",\"landcolor\":\"#E5ECF6\",\"subunitcolor\":\"white\",\"showland\":true,\"showlakes\":true,\"lakecolor\":\"white\"},\"title\":{\"x\":0.05},\"mapbox\":{\"style\":\"light\"}}},\"xaxis\":{\"anchor\":\"y\",\"domain\":[0.0,1.0],\"title\":{\"text\":\"Country\",\"font\":{\"size\":16,\"family\":\"Arial\",\"color\":\"RebeccaPurple\"}}},\"yaxis\":{\"anchor\":\"x\",\"domain\":[0.0,1.0],\"title\":{\"text\":\"Geothermal Capacity (MW)\",\"font\":{\"size\":16,\"family\":\"Arial\",\"color\":\"RebeccaPurple\"}}},\"coloraxis\":{\"colorbar\":{\"title\":{\"text\":\"Capacity (MW)\"}},\"colorscale\":[[0.0,\"rgb(230, 240, 240)\"],[0.09090909090909091,\"rgb(191, 221, 229)\"],[0.18181818181818182,\"rgb(156, 201, 226)\"],[0.2727272727272727,\"rgb(129, 180, 227)\"],[0.36363636363636365,\"rgb(115, 154, 228)\"],[0.45454545454545453,\"rgb(117, 127, 221)\"],[0.5454545454545454,\"rgb(120, 100, 202)\"],[0.6363636363636364,\"rgb(119, 74, 175)\"],[0.7272727272727273,\"rgb(113, 50, 141)\"],[0.8181818181818182,\"rgb(100, 31, 104)\"],[0.9090909090909091,\"rgb(80, 20, 66)\"],[1.0,\"rgb(54, 14, 36)\"]]},\"legend\":{\"tracegroupgap\":0,\"title\":{\"font\":{\"size\":14,\"family\":\"Arial\",\"color\":\"RebeccaPurple\"}}},\"title\":{\"text\":\"Total Geothermal Power Production of Specified Countries\",\"font\":{\"size\":20,\"family\":\"Arial\",\"color\":\"RebeccaPurple\"}},\"barmode\":\"relative\",\"plot_bgcolor\":\"rgba(0,0,0,0)\",\"annotations\":[{\"arrowcolor\":\"blue\",\"arrowhead\":1,\"arrowsize\":2,\"arrowwidth\":2,\"font\":{\"color\":\"RebeccaPurple\",\"family\":\"Arial\",\"size\":12},\"showarrow\":true,\"text\":\"Turkey\",\"x\":\"Turkey\",\"y\":8297.9}]},                        {\"responsive\": true}                    ).then(function(){\n",
       "                            \n",
       "var gd = document.getElementById('e2a4f1c9-b377-4334-91b4-23c167e00763');\n",
       "var x = new MutationObserver(function (mutations, observer) {{\n",
       "        var display = window.getComputedStyle(gd).display;\n",
       "        if (!display || display === 'none') {{\n",
       "            console.log([gd, 'removed!']);\n",
       "            Plotly.purge(gd);\n",
       "            observer.disconnect();\n",
       "        }}\n",
       "}});\n",
       "\n",
       "// Listen for the removal of the full notebook cells\n",
       "var notebookContainer = gd.closest('#notebook-container');\n",
       "if (notebookContainer) {{\n",
       "    x.observe(notebookContainer, {childList: true});\n",
       "}}\n",
       "\n",
       "// Listen for the clearing of the current output cell\n",
       "var outputEl = gd.closest('.output');\n",
       "if (outputEl) {{\n",
       "    x.observe(outputEl, {childList: true});\n",
       "}}\n",
       "\n",
       "                        })                };                });            </script>        </div>"
      ]
     },
     "metadata": {},
     "output_type": "display_data"
    }
   ],
   "source": [
    "specified_countries = ['France', 'Germany', 'Italy', 'Portugal', 'Turkey']\n",
    "\n",
    "specified_countries_geo_data = df_17[df_17['Entity'].isin(specified_countries)]\n",
    "\n",
    "total_geo_production_specified_countries = specified_countries_geo_data.groupby('Entity')['Geothermal Capacity'].sum().sort_values(ascending=False).reset_index()\n",
    "\n",
    "fig = px.bar(total_geo_production_specified_countries, x='Entity', y='Geothermal Capacity',\n",
    "             title='Total Geothermal Power Production of Specified Countries',\n",
    "             labels={'Entity': 'Country', 'Geothermal Capacity': 'Geothermal Capacity (MW)'},\n",
    "             color='Geothermal Capacity', color_continuous_scale=px.colors.sequential.dense)\n",
    "\n",
    "fig.update_traces(marker_line_color='black', marker_line_width=1.5)\n",
    "\n",
    "fig.update_layout(xaxis_title='Country', yaxis_title='Geothermal Capacity (MW)',\n",
    "                  title_font=dict(size=20, family='Arial', color='RebeccaPurple'),\n",
    "                  xaxis_title_font=dict(size=16, family='Arial', color='RebeccaPurple'),\n",
    "                  yaxis_title_font=dict(size=16, family='Arial', color='RebeccaPurple'),\n",
    "                  plot_bgcolor='rgba(0,0,0,0)', coloraxis_colorbar=dict(title='Capacity (MW)'),\n",
    "                  legend_title_font=dict(size=14, family='Arial', color='RebeccaPurple'))\n",
    "\n",
    "fig.add_annotation(x='Turkey', y=total_geo_production_specified_countries[total_geo_production_specified_countries['Entity'] == 'Turkey']['Geothermal Capacity'].values[0],\n",
    "                   text=\"Turkey\", showarrow=True, arrowhead=1, arrowsize=2, arrowwidth=2, arrowcolor=\"blue\",\n",
    "                   font=dict(size=12, family='Arial', color='RebeccaPurple'))\n",
    "\n",
    "fig.show()"
   ]
  },
  {
   "cell_type": "markdown",
   "id": "79dfd5ba",
   "metadata": {
    "papermill": {
     "duration": 0.015398,
     "end_time": "2024-02-14T11:28:31.751250",
     "exception": false,
     "start_time": "2024-02-14T11:28:31.735852",
     "status": "completed"
    },
    "tags": []
   },
   "source": [
    "<div style=\"background-color: #f9f9f9; border-left: 5px solid #6A5ACD; padding: 10px 15px; margin: 10px 0;\">\n",
    "  <p style=\"font-family: Arial, sans-serif; font-size: 14px; color: #333;\">\n",
    "    <strong>Graph Analysis:</strong> The bar chart delineates the cumulative geothermal energy production in selected European countries, including France, Germany, Italy, Portugal, and Turkey. Each bar, representing a country, is shaded according to its total geothermal capacity, with a gradient color scale emphasizing the variance in production levels. The chart is particularly annotated to highlight Turkey, showcasing its specific contribution with a distinct visual marker. This serves to draw attention to Turkey's position within the context of European geothermal energy production. The graph's layout, combined with its color coding and annotations, provides a clear and comparative view of each country's investment and achievements in geothermal energy, underscoring the strategic importance of geothermal resources in Europe's transition to sustainable energy sources.\n",
    "  </p>\n",
    "</div>\n"
   ]
  },
  {
   "cell_type": "markdown",
   "id": "be95a563",
   "metadata": {
    "papermill": {
     "duration": 0.01847,
     "end_time": "2024-02-14T11:28:31.785856",
     "exception": false,
     "start_time": "2024-02-14T11:28:31.767386",
     "status": "completed"
    },
    "tags": []
   },
   "source": [
    "<a id='YearlyRegionalSharesofGeothermalCapacity'></a>\n",
    "# <b><div style='padding:15px;background-color:#004080;color:white;border-radius:15px;font-size:100%;text-align: center'>Yearly Regional Shares of Geothermal Capacity</div></b>"
   ]
  },
  {
   "cell_type": "code",
   "execution_count": 18,
   "id": "adf332a2",
   "metadata": {
    "_kg_hide-input": true,
    "execution": {
     "iopub.execute_input": "2024-02-14T11:28:31.821464Z",
     "iopub.status.busy": "2024-02-14T11:28:31.821000Z",
     "iopub.status.idle": "2024-02-14T11:28:32.732374Z",
     "shell.execute_reply": "2024-02-14T11:28:32.731016Z"
    },
    "papermill": {
     "duration": 0.931515,
     "end_time": "2024-02-14T11:28:32.735012",
     "exception": false,
     "start_time": "2024-02-14T11:28:31.803497",
     "status": "completed"
    },
    "tags": []
   },
   "outputs": [
    {
     "data": {
      "image/png": "[encoded data removed]",
      "text/plain": [
       "<Figure size 1500x800 with 1 Axes>"
      ]
     },
     "metadata": {},
     "output_type": "display_data"
    }
   ],
   "source": [
    "regional_countries = ['Turkey', 'Germany', 'United States', 'China', 'India', 'Brazil']\n",
    "\n",
    "regional_data = df_17[df_17['Entity'].isin(regional_countries)]\n",
    "\n",
    "yearly_totals = regional_data.groupby('Year')['Geothermal Capacity'].sum().reset_index()\n",
    "\n",
    "regional_data = regional_data.merge(yearly_totals, on='Year', suffixes=('', '_Total'))\n",
    "regional_data['Percentage Share'] = (regional_data['Geothermal Capacity'] / regional_data['Geothermal Capacity_Total']) * 100\n",
    "\n",
    "pivot_share = regional_data.pivot(index=\"Year\", columns=\"Entity\", values=\"Percentage Share\")\n",
    "\n",
    "pivot_share.plot(kind='bar', stacked=True, figsize=(15, 8), colormap='viridis')\n",
    "plt.title('Yearly Regional Shares of Geothermal Capacity', fontsize=14)\n",
    "plt.xlabel('Year', fontsize=12)\n",
    "plt.ylabel('Percentage Share of Geothermal Capacity', fontsize=12)\n",
    "plt.legend(title='Country')\n",
    "plt.tight_layout()\n",
    "plt.show()"
   ]
  },
  {
   "cell_type": "markdown",
   "id": "29a891dc",
   "metadata": {
    "papermill": {
     "duration": 0.018808,
     "end_time": "2024-02-14T11:28:32.773214",
     "exception": false,
     "start_time": "2024-02-14T11:28:32.754406",
     "status": "completed"
    },
    "tags": []
   },
   "source": [
    "<div style=\"background-color: #f9f9f9; border-left: 5px solid #9932CC; padding: 10px 15px; margin: 10px 0;\">\n",
    "  <p style=\"font-family: Arial, sans-serif; font-size: 14px; color: #333;\">\n",
    "    <strong>Graph Analysis:</strong> The stacked bar chart presents a comprehensive view of the yearly distribution of geothermal capacity shares among key countries, including Turkey, Germany, the United States, China, India, and Brazil. By converting absolute geothermal capacities into percentage shares, the chart offers an insightful comparison of each country's relative contribution to the global or regional geothermal pool over time. The use of a viridis color map not only enhances the visual appeal but also facilitates the distinction between countries, allowing for easy identification of trends and shifts in geothermal energy dominance. This visualization underscores the dynamic nature of the geothermal energy market, highlighting the fluctuating roles and impacts of these countries in harnessing geothermal resources. The chart effectively communicates the evolving landscape of geothermal energy, reflecting changes in policy, technology, and investment within and across these regions.\n",
    "  </p>\n",
    "</div>\n"
   ]
  },
  {
   "cell_type": "markdown",
   "id": "3edbea6a",
   "metadata": {
    "papermill": {
     "duration": 0.017205,
     "end_time": "2024-02-14T11:28:32.807731",
     "exception": false,
     "start_time": "2024-02-14T11:28:32.790526",
     "status": "completed"
    },
    "tags": []
   },
   "source": [
    "<a id='GlobalGeothermalEnergyCapacityMap'></a>\n",
    "# <b><div style='padding:15px;background-color:#004080;color:white;border-radius:15px;font-size:100%;text-align: center'>Global Geothermal Energy Capacity Map</div></b>"
   ]
  },
  {
   "cell_type": "code",
   "execution_count": 19,
   "id": "0ec882b1",
   "metadata": {
    "_kg_hide-input": true,
    "execution": {
     "iopub.execute_input": "2024-02-14T11:28:32.845687Z",
     "iopub.status.busy": "2024-02-14T11:28:32.845090Z",
     "iopub.status.idle": "2024-02-14T11:28:33.086203Z",
     "shell.execute_reply": "2024-02-14T11:28:33.084821Z"
    },
    "papermill": {
     "duration": 0.263816,
     "end_time": "2024-02-14T11:28:33.089553",
     "exception": false,
     "start_time": "2024-02-14T11:28:32.825737",
     "status": "completed"
    },
    "tags": []
   },
   "outputs": [
    {
     "data": {
      "text/html": [
       "<div>                            <div id=\"7193ef96-c5ff-436e-841a-7070a9395d7b\" class=\"plotly-graph-div\" style=\"height:525px; width:100%;\"></div>            <script type=\"text/javascript\">                require([\"plotly\"], function(Plotly) {                    window.PLOTLYENV=window.PLOTLYENV || {};                                    if (document.getElementById(\"7193ef96-c5ff-436e-841a-7070a9395d7b\")) {                    Plotly.newPlot(                        \"7193ef96-c5ff-436e-841a-7070a9395d7b\",                        [{\"coloraxis\":\"coloraxis\",\"geo\":\"geo\",\"hovertemplate\":\"Year=1990\\u003cbr\\u003eEntity=%{location}\\u003cbr\\u003eGeothermal Capacity=%{z}\\u003cextra\\u003e\\u003c\\u002fextra\\u003e\",\"locationmode\":\"country names\",\"locations\":[\"Africa\",\"Asia Pacific\",\"Chile\",\"China\",\"Costa Rica\",\"Croatia\",\"El Salvador\",\"Ethiopia\",\"Europe\",\"France\",\"Germany\",\"Guatemala\",\"Honduras\",\"Iceland\",\"Italy\",\"Japan\",\"Kenya\",\"Mexico\",\"New Zealand\",\"Nicaragua\",\"North America\",\"Other Europe\",\"Other South & Central America\",\"Papua New Guinea\",\"Philippines\",\"Portugal\",\"Russia\",\"South & Central America\",\"Turkey\",\"United States\",\"World\"],\"name\":\"\",\"z\":[45.0,1393.4,0.0,29.3,0.0,0.0,95.0,0.0,617.6,4.2,0.0,0.0,0.0,44.8,545.0,214.6,45.0,743.0,261.0,35.0,3656.5,0.0,0.0,0.0,888.0,3.0,11.0,130.0,20.6,2913.5,5853.5],\"type\":\"choropleth\"}],                        {\"template\":{\"data\":{\"histogram2dcontour\":[{\"type\":\"histogram2dcontour\",\"colorbar\":{\"outlinewidth\":0,\"ticks\":\"\"},\"colorscale\":[[0.0,\"#0d0887\"],[0.1111111111111111,\"#46039f\"],[0.2222222222222222,\"#7201a8\"],[0.3333333333333333,\"#9c179e\"],[0.4444444444444444,\"#bd3786\"],[0.5555555555555556,\"#d8576b\"],[0.6666666666666666,\"#ed7953\"],[0.7777777777777778,\"#fb9f3a\"],[0.8888888888888888,\"#fdca26\"],[1.0,\"#f0f921\"]]}],\"choropleth\":[{\"type\":\"choropleth\",\"colorbar\":{\"outlinewidth\":0,\"ticks\":\"\"}}],\"histogram2d\":[{\"type\":\"histogram2d\",\"colorbar\":{\"outlinewidth\":0,\"ticks\":\"\"},\"colorscale\":[[0.0,\"#0d0887\"],[0.1111111111111111,\"#46039f\"],[0.2222222222222222,\"#7201a8\"],[0.3333333333333333,\"#9c179e\"],[0.4444444444444444,\"#bd3786\"],[0.5555555555555556,\"#d8576b\"],[0.6666666666666666,\"#ed7953\"],[0.7777777777777778,\"#fb9f3a\"],[0.8888888888888888,\"#fdca26\"],[1.0,\"#f0f921\"]]}],\"heatmap\":[{\"type\":\"heatmap\",\"colorbar\":{\"outlinewidth\":0,\"ticks\":\"\"},\"colorscale\":[[0.0,\"#0d0887\"],[0.1111111111111111,\"#46039f\"],[0.2222222222222222,\"#7201a8\"],[0.3333333333333333,\"#9c179e\"],[0.4444444444444444,\"#bd3786\"],[0.5555555555555556,\"#d8576b\"],[0.6666666666666666,\"#ed7953\"],[0.7777777777777778,\"#fb9f3a\"],[0.8888888888888888,\"#fdca26\"],[1.0,\"#f0f921\"]]}],\"heatmapgl\":[{\"type\":\"heatmapgl\",\"colorbar\":{\"outlinewidth\":0,\"ticks\":\"\"},\"colorscale\":[[0.0,\"#0d0887\"],[0.1111111111111111,\"#46039f\"],[0.2222222222222222,\"#7201a8\"],[0.3333333333333333,\"#9c179e\"],[0.4444444444444444,\"#bd3786\"],[0.5555555555555556,\"#d8576b\"],[0.6666666666666666,\"#ed7953\"],[0.7777777777777778,\"#fb9f3a\"],[0.8888888888888888,\"#fdca26\"],[1.0,\"#f0f921\"]]}],\"contourcarpet\":[{\"type\":\"contourcarpet\",\"colorbar\":{\"outlinewidth\":0,\"ticks\":\"\"}}],\"contour\":[{\"type\":\"contour\",\"colorbar\":{\"outlinewidth\":0,\"ticks\":\"\"},\"colorscale\":[[0.0,\"#0d0887\"],[0.1111111111111111,\"#46039f\"],[0.2222222222222222,\"#7201a8\"],[0.3333333333333333,\"#9c179e\"],[0.4444444444444444,\"#bd3786\"],[0.5555555555555556,\"#d8576b\"],[0.6666666666666666,\"#ed7953\"],[0.7777777777777778,\"#fb9f3a\"],[0.8888888888888888,\"#fdca26\"],[1.0,\"#f0f921\"]]}],\"surface\":[{\"type\":\"surface\",\"colorbar\":{\"outlinewidth\":0,\"ticks\":\"\"},\"colorscale\":[[0.0,\"#0d0887\"],[0.1111111111111111,\"#46039f\"],[0.2222222222222222,\"#7201a8\"],[0.3333333333333333,\"#9c179e\"],[0.4444444444444444,\"#bd3786\"],[0.5555555555555556,\"#d8576b\"],[0.6666666666666666,\"#ed7953\"],[0.7777777777777778,\"#fb9f3a\"],[0.8888888888888888,\"#fdca26\"],[1.0,\"#f0f921\"]]}],\"mesh3d\":[{\"type\":\"mesh3d\",\"colorbar\":{\"outlinewidth\":0,\"ticks\":\"\"}}],\"scatter\":[{\"fillpattern\":{\"fillmode\":\"overlay\",\"size\":10,\"solidity\":0.2},\"type\":\"scatter\"}],\"parcoords\":[{\"type\":\"parcoords\",\"line\":{\"colorbar\":{\"outlinewidth\":0,\"ticks\":\"\"}}}],\"scatterpolargl\":[{\"type\":\"scatterpolargl\",\"marker\":{\"colorbar\":{\"outlinewidth\":0,\"ticks\":\"\"}}}],\"bar\":[{\"error_x\":{\"color\":\"#2a3f5f\"},\"error_y\":{\"color\":\"#2a3f5f\"},\"marker\":{\"line\":{\"color\":\"#E5ECF6\",\"width\":0.5},\"pattern\":{\"fillmode\":\"overlay\",\"size\":10,\"solidity\":0.2}},\"type\":\"bar\"}],\"scattergeo\":[{\"type\":\"scattergeo\",\"marker\":{\"colorbar\":{\"outlinewidth\":0,\"ticks\":\"\"}}}],\"scatterpolar\":[{\"type\":\"scatterpolar\",\"marker\":{\"colorbar\":{\"outlinewidth\":0,\"ticks\":\"\"}}}],\"histogram\":[{\"marker\":{\"pattern\":{\"fillmode\":\"overlay\",\"size\":10,\"solidity\":0.2}},\"type\":\"histogram\"}],\"scattergl\":[{\"type\":\"scattergl\",\"marker\":{\"colorbar\":{\"outlinewidth\":0,\"ticks\":\"\"}}}],\"scatter3d\":[{\"type\":\"scatter3d\",\"line\":{\"colorbar\":{\"outlinewidth\":0,\"ticks\":\"\"}},\"marker\":{\"colorbar\":{\"outlinewidth\":0,\"ticks\":\"\"}}}],\"scattermapbox\":[{\"type\":\"scattermapbox\",\"marker\":{\"colorbar\":{\"outlinewidth\":0,\"ticks\":\"\"}}}],\"scatterternary\":[{\"type\":\"scatterternary\",\"marker\":{\"colorbar\":{\"outlinewidth\":0,\"ticks\":\"\"}}}],\"scattercarpet\":[{\"type\":\"scattercarpet\",\"marker\":{\"colorbar\":{\"outlinewidth\":0,\"ticks\":\"\"}}}],\"carpet\":[{\"aaxis\":{\"endlinecolor\":\"#2a3f5f\",\"gridcolor\":\"white\",\"linecolor\":\"white\",\"minorgridcolor\":\"white\",\"startlinecolor\":\"#2a3f5f\"},\"baxis\":{\"endlinecolor\":\"#2a3f5f\",\"gridcolor\":\"white\",\"linecolor\":\"white\",\"minorgridcolor\":\"white\",\"startlinecolor\":\"#2a3f5f\"},\"type\":\"carpet\"}],\"table\":[{\"cells\":{\"fill\":{\"color\":\"#EBF0F8\"},\"line\":{\"color\":\"white\"}},\"header\":{\"fill\":{\"color\":\"#C8D4E3\"},\"line\":{\"color\":\"white\"}},\"type\":\"table\"}],\"barpolar\":[{\"marker\":{\"line\":{\"color\":\"#E5ECF6\",\"width\":0.5},\"pattern\":{\"fillmode\":\"overlay\",\"size\":10,\"solidity\":0.2}},\"type\":\"barpolar\"}],\"pie\":[{\"automargin\":true,\"type\":\"pie\"}]},\"layout\":{\"autotypenumbers\":\"strict\",\"colorway\":[\"#636efa\",\"#EF553B\",\"#00cc96\",\"#ab63fa\",\"#FFA15A\",\"#19d3f3\",\"#FF6692\",\"#B6E880\",\"#FF97FF\",\"#FECB52\"],\"font\":{\"color\":\"#2a3f5f\"},\"hovermode\":\"closest\",\"hoverlabel\":{\"align\":\"left\"},\"paper_bgcolor\":\"white\",\"plot_bgcolor\":\"#E5ECF6\",\"polar\":{\"bgcolor\":\"#E5ECF6\",\"angularaxis\":{\"gridcolor\":\"white\",\"linecolor\":\"white\",\"ticks\":\"\"},\"radialaxis\":{\"gridcolor\":\"white\",\"linecolor\":\"white\",\"ticks\":\"\"}},\"ternary\":{\"bgcolor\":\"#E5ECF6\",\"aaxis\":{\"gridcolor\":\"white\",\"linecolor\":\"white\",\"ticks\":\"\"},\"baxis\":{\"gridcolor\":\"white\",\"linecolor\":\"white\",\"ticks\":\"\"},\"caxis\":{\"gridcolor\":\"white\",\"linecolor\":\"white\",\"ticks\":\"\"}},\"coloraxis\":{\"colorbar\":{\"outlinewidth\":0,\"ticks\":\"\"}},\"colorscale\":{\"sequential\":[[0.0,\"#0d0887\"],[0.1111111111111111,\"#46039f\"],[0.2222222222222222,\"#7201a8\"],[0.3333333333333333,\"#9c179e\"],[0.4444444444444444,\"#bd3786\"],[0.5555555555555556,\"#d8576b\"],[0.6666666666666666,\"#ed7953\"],[0.7777777777777778,\"#fb9f3a\"],[0.8888888888888888,\"#fdca26\"],[1.0,\"#f0f921\"]],\"sequentialminus\":[[0.0,\"#0d0887\"],[0.1111111111111111,\"#46039f\"],[0.2222222222222222,\"#7201a8\"],[0.3333333333333333,\"#9c179e\"],[0.4444444444444444,\"#bd3786\"],[0.5555555555555556,\"#d8576b\"],[0.6666666666666666,\"#ed7953\"],[0.7777777777777778,\"#fb9f3a\"],[0.8888888888888888,\"#fdca26\"],[1.0,\"#f0f921\"]],\"diverging\":[[0,\"#8e0152\"],[0.1,\"#c51b7d\"],[0.2,\"#de77ae\"],[0.3,\"#f1b6da\"],[0.4,\"#fde0ef\"],[0.5,\"#f7f7f7\"],[0.6,\"#e6f5d0\"],[0.7,\"#b8e186\"],[0.8,\"#7fbc41\"],[0.9,\"#4d9221\"],[1,\"#276419\"]]},\"xaxis\":{\"gridcolor\":\"white\",\"linecolor\":\"white\",\"ticks\":\"\",\"title\":{\"standoff\":15},\"zerolinecolor\":\"white\",\"automargin\":true,\"zerolinewidth\":2},\"yaxis\":{\"gridcolor\":\"white\",\"linecolor\":\"white\",\"ticks\":\"\",\"title\":{\"standoff\":15},\"zerolinecolor\":\"white\",\"automargin\":true,\"zerolinewidth\":2},\"scene\":{\"xaxis\":{\"backgroundcolor\":\"#E5ECF6\",\"gridcolor\":\"white\",\"linecolor\":\"white\",\"showbackground\":true,\"ticks\":\"\",\"zerolinecolor\":\"white\",\"gridwidth\":2},\"yaxis\":{\"backgroundcolor\":\"#E5ECF6\",\"gridcolor\":\"white\",\"linecolor\":\"white\",\"showbackground\":true,\"ticks\":\"\",\"zerolinecolor\":\"white\",\"gridwidth\":2},\"zaxis\":{\"backgroundcolor\":\"#E5ECF6\",\"gridcolor\":\"white\",\"linecolor\":\"white\",\"showbackground\":true,\"ticks\":\"\",\"zerolinecolor\":\"white\",\"gridwidth\":2}},\"shapedefaults\":{\"line\":{\"color\":\"#2a3f5f\"}},\"annotationdefaults\":{\"arrowcolor\":\"#2a3f5f\",\"arrowhead\":0,\"arrowwidth\":1},\"geo\":{\"bgcolor\":\"white\",\"landcolor\":\"#E5ECF6\",\"subunitcolor\":\"white\",\"showland\":true,\"showlakes\":true,\"lakecolor\":\"white\"},\"title\":{\"x\":0.05},\"mapbox\":{\"style\":\"light\"}}},\"geo\":{\"domain\":{\"x\":[0.0,1.0],\"y\":[0.0,1.0]},\"center\":{},\"projection\":{\"type\":\"natural earth\"}},\"coloraxis\":{\"colorbar\":{\"title\":{\"text\":\"Geothermal Energy Capacity (MW)\"}},\"colorscale\":[[0.0,\"rgb(255,255,217)\"],[0.125,\"rgb(237,248,177)\"],[0.25,\"rgb(199,233,180)\"],[0.375,\"rgb(127,205,187)\"],[0.5,\"rgb(65,182,196)\"],[0.625,\"rgb(29,145,192)\"],[0.75,\"rgb(34,94,168)\"],[0.875,\"rgb(37,52,148)\"],[1.0,\"rgb(8,29,88)\"]],\"cmin\":0,\"cmax\":14075.0},\"legend\":{\"tracegroupgap\":0},\"margin\":{\"t\":60},\"updatemenus\":[{\"buttons\":[{\"args\":[null,{\"frame\":{\"duration\":500,\"redraw\":true},\"mode\":\"immediate\",\"fromcurrent\":true,\"transition\":{\"duration\":500,\"easing\":\"linear\"}}],\"label\":\"&#9654;\",\"method\":\"animate\"},{\"args\":[[null],{\"frame\":{\"duration\":0,\"redraw\":true},\"mode\":\"immediate\",\"fromcurrent\":true,\"transition\":{\"duration\":0,\"easing\":\"linear\"}}],\"label\":\"&#9724;\",\"method\":\"animate\"}],\"direction\":\"left\",\"pad\":{\"r\":10,\"t\":70},\"showactive\":false,\"type\":\"buttons\",\"x\":0.1,\"xanchor\":\"right\",\"y\":0,\"yanchor\":\"top\"}],\"sliders\":[{\"active\":0,\"currentvalue\":{\"prefix\":\"Year=\"},\"len\":0.9,\"pad\":{\"b\":10,\"t\":60},\"steps\":[{\"args\":[[\"1990\"],{\"frame\":{\"duration\":0,\"redraw\":true},\"mode\":\"immediate\",\"fromcurrent\":true,\"transition\":{\"duration\":0,\"easing\":\"linear\"}}],\"label\":\"1990\",\"method\":\"animate\"},{\"args\":[[\"1995\"],{\"frame\":{\"duration\":0,\"redraw\":true},\"mode\":\"immediate\",\"fromcurrent\":true,\"transition\":{\"duration\":0,\"easing\":\"linear\"}}],\"label\":\"1995\",\"method\":\"animate\"},{\"args\":[[\"2000\"],{\"frame\":{\"duration\":0,\"redraw\":true},\"mode\":\"immediate\",\"fromcurrent\":true,\"transition\":{\"duration\":0,\"easing\":\"linear\"}}],\"label\":\"2000\",\"method\":\"animate\"},{\"args\":[[\"2001\"],{\"frame\":{\"duration\":0,\"redraw\":true},\"mode\":\"immediate\",\"fromcurrent\":true,\"transition\":{\"duration\":0,\"easing\":\"linear\"}}],\"label\":\"2001\",\"method\":\"animate\"},{\"args\":[[\"2002\"],{\"frame\":{\"duration\":0,\"redraw\":true},\"mode\":\"immediate\",\"fromcurrent\":true,\"transition\":{\"duration\":0,\"easing\":\"linear\"}}],\"label\":\"2002\",\"method\":\"animate\"},{\"args\":[[\"2003\"],{\"frame\":{\"duration\":0,\"redraw\":true},\"mode\":\"immediate\",\"fromcurrent\":true,\"transition\":{\"duration\":0,\"easing\":\"linear\"}}],\"label\":\"2003\",\"method\":\"animate\"},{\"args\":[[\"2004\"],{\"frame\":{\"duration\":0,\"redraw\":true},\"mode\":\"immediate\",\"fromcurrent\":true,\"transition\":{\"duration\":0,\"easing\":\"linear\"}}],\"label\":\"2004\",\"method\":\"animate\"},{\"args\":[[\"2005\"],{\"frame\":{\"duration\":0,\"redraw\":true},\"mode\":\"immediate\",\"fromcurrent\":true,\"transition\":{\"duration\":0,\"easing\":\"linear\"}}],\"label\":\"2005\",\"method\":\"animate\"},{\"args\":[[\"2006\"],{\"frame\":{\"duration\":0,\"redraw\":true},\"mode\":\"immediate\",\"fromcurrent\":true,\"transition\":{\"duration\":0,\"easing\":\"linear\"}}],\"label\":\"2006\",\"method\":\"animate\"},{\"args\":[[\"2007\"],{\"frame\":{\"duration\":0,\"redraw\":true},\"mode\":\"immediate\",\"fromcurrent\":true,\"transition\":{\"duration\":0,\"easing\":\"linear\"}}],\"label\":\"2007\",\"method\":\"animate\"},{\"args\":[[\"2008\"],{\"frame\":{\"duration\":0,\"redraw\":true},\"mode\":\"immediate\",\"fromcurrent\":true,\"transition\":{\"duration\":0,\"easing\":\"linear\"}}],\"label\":\"2008\",\"method\":\"animate\"},{\"args\":[[\"2009\"],{\"frame\":{\"duration\":0,\"redraw\":true},\"mode\":\"immediate\",\"fromcurrent\":true,\"transition\":{\"duration\":0,\"easing\":\"linear\"}}],\"label\":\"2009\",\"method\":\"animate\"},{\"args\":[[\"2010\"],{\"frame\":{\"duration\":0,\"redraw\":true},\"mode\":\"immediate\",\"fromcurrent\":true,\"transition\":{\"duration\":0,\"easing\":\"linear\"}}],\"label\":\"2010\",\"method\":\"animate\"},{\"args\":[[\"2011\"],{\"frame\":{\"duration\":0,\"redraw\":true},\"mode\":\"immediate\",\"fromcurrent\":true,\"transition\":{\"duration\":0,\"easing\":\"linear\"}}],\"label\":\"2011\",\"method\":\"animate\"},{\"args\":[[\"2012\"],{\"frame\":{\"duration\":0,\"redraw\":true},\"mode\":\"immediate\",\"fromcurrent\":true,\"transition\":{\"duration\":0,\"easing\":\"linear\"}}],\"label\":\"2012\",\"method\":\"animate\"},{\"args\":[[\"2013\"],{\"frame\":{\"duration\":0,\"redraw\":true},\"mode\":\"immediate\",\"fromcurrent\":true,\"transition\":{\"duration\":0,\"easing\":\"linear\"}}],\"label\":\"2013\",\"method\":\"animate\"},{\"args\":[[\"2014\"],{\"frame\":{\"duration\":0,\"redraw\":true},\"mode\":\"immediate\",\"fromcurrent\":true,\"transition\":{\"duration\":0,\"easing\":\"linear\"}}],\"label\":\"2014\",\"method\":\"animate\"},{\"args\":[[\"2015\"],{\"frame\":{\"duration\":0,\"redraw\":true},\"mode\":\"immediate\",\"fromcurrent\":true,\"transition\":{\"duration\":0,\"easing\":\"linear\"}}],\"label\":\"2015\",\"method\":\"animate\"},{\"args\":[[\"2016\"],{\"frame\":{\"duration\":0,\"redraw\":true},\"mode\":\"immediate\",\"fromcurrent\":true,\"transition\":{\"duration\":0,\"easing\":\"linear\"}}],\"label\":\"2016\",\"method\":\"animate\"},{\"args\":[[\"2017\"],{\"frame\":{\"duration\":0,\"redraw\":true},\"mode\":\"immediate\",\"fromcurrent\":true,\"transition\":{\"duration\":0,\"easing\":\"linear\"}}],\"label\":\"2017\",\"method\":\"animate\"},{\"args\":[[\"2018\"],{\"frame\":{\"duration\":0,\"redraw\":true},\"mode\":\"immediate\",\"fromcurrent\":true,\"transition\":{\"duration\":0,\"easing\":\"linear\"}}],\"label\":\"2018\",\"method\":\"animate\"},{\"args\":[[\"2019\"],{\"frame\":{\"duration\":0,\"redraw\":true},\"mode\":\"immediate\",\"fromcurrent\":true,\"transition\":{\"duration\":0,\"easing\":\"linear\"}}],\"label\":\"2019\",\"method\":\"animate\"},{\"args\":[[\"2020\"],{\"frame\":{\"duration\":0,\"redraw\":true},\"mode\":\"immediate\",\"fromcurrent\":true,\"transition\":{\"duration\":0,\"easing\":\"linear\"}}],\"label\":\"2020\",\"method\":\"animate\"},{\"args\":[[\"1975\"],{\"frame\":{\"duration\":0,\"redraw\":true},\"mode\":\"immediate\",\"fromcurrent\":true,\"transition\":{\"duration\":0,\"easing\":\"linear\"}}],\"label\":\"1975\",\"method\":\"animate\"},{\"args\":[[\"1980\"],{\"frame\":{\"duration\":0,\"redraw\":true},\"mode\":\"immediate\",\"fromcurrent\":true,\"transition\":{\"duration\":0,\"easing\":\"linear\"}}],\"label\":\"1980\",\"method\":\"animate\"},{\"args\":[[\"1985\"],{\"frame\":{\"duration\":0,\"redraw\":true},\"mode\":\"immediate\",\"fromcurrent\":true,\"transition\":{\"duration\":0,\"easing\":\"linear\"}}],\"label\":\"1985\",\"method\":\"animate\"}],\"x\":0.1,\"xanchor\":\"left\",\"y\":0,\"yanchor\":\"top\"}],\"title\":{\"text\":\"Global Geothermal Energy Capacity Map\"}},                        {\"responsive\": true}                    ).then(function(){\n",
       "                            Plotly.addFrames('7193ef96-c5ff-436e-841a-7070a9395d7b', [{\"data\":[{\"coloraxis\":\"coloraxis\",\"geo\":\"geo\",\"hovertemplate\":\"Year=1990\\u003cbr\\u003eEntity=%{location}\\u003cbr\\u003eGeothermal Capacity=%{z}\\u003cextra\\u003e\\u003c\\u002fextra\\u003e\",\"locationmode\":\"country names\",\"locations\":[\"Africa\",\"Asia Pacific\",\"Chile\",\"China\",\"Costa Rica\",\"Croatia\",\"El Salvador\",\"Ethiopia\",\"Europe\",\"France\",\"Germany\",\"Guatemala\",\"Honduras\",\"Iceland\",\"Italy\",\"Japan\",\"Kenya\",\"Mexico\",\"New Zealand\",\"Nicaragua\",\"North America\",\"Other Europe\",\"Other South & Central America\",\"Papua New Guinea\",\"Philippines\",\"Portugal\",\"Russia\",\"South & Central America\",\"Turkey\",\"United States\",\"World\"],\"name\":\"\",\"z\":[45.0,1393.4,0.0,29.3,0.0,0.0,95.0,0.0,617.6,4.2,0.0,0.0,0.0,44.8,545.0,214.6,45.0,743.0,261.0,35.0,3656.5,0.0,0.0,0.0,888.0,3.0,11.0,130.0,20.6,2913.5,5853.5],\"type\":\"choropleth\"}],\"name\":\"1990\"},{\"data\":[{\"coloraxis\":\"coloraxis\",\"geo\":\"geo\",\"hovertemplate\":\"Year=1995\\u003cbr\\u003eEntity=%{location}\\u003cbr\\u003eGeothermal Capacity=%{z}\\u003cextra\\u003e\\u003c\\u002fextra\\u003e\",\"locationmode\":\"country names\",\"locations\":[\"Africa\",\"Asia Pacific\",\"Chile\",\"China\",\"Costa Rica\",\"Croatia\",\"El Salvador\",\"Ethiopia\",\"Europe\",\"France\",\"Germany\",\"Guatemala\",\"Honduras\",\"Iceland\",\"Italy\",\"Japan\",\"Kenya\",\"Mexico\",\"New Zealand\",\"Nicaragua\",\"North America\",\"Other Europe\",\"Other South & Central America\",\"Papua New Guinea\",\"Philippines\",\"Portugal\",\"Russia\",\"South & Central America\",\"Turkey\",\"United States\",\"World\"],\"name\":\"\",\"z\":[45.0,1859.5,0.0,26.3,55.0,0.0,105.0,0.0,710.9,4.2,0.0,0.0,0.0,49.6,631.7,413.7,45.0,743.0,265.0,70.0,3913.96,0.0,0.0,0.0,1154.0,5.0,11.0,230.0,20.4,3170.96,6770.36],\"type\":\"choropleth\"}],\"name\":\"1995\"},{\"data\":[{\"coloraxis\":\"coloraxis\",\"geo\":\"geo\",\"hovertemplate\":\"Year=2000\\u003cbr\\u003eEntity=%{location}\\u003cbr\\u003eGeothermal Capacity=%{z}\\u003cextra\\u003e\\u003c\\u002fextra\\u003e\",\"locationmode\":\"country names\",\"locations\":[\"Africa\",\"Asia Pacific\",\"CIS\",\"Chile\",\"China\",\"Costa Rica\",\"Croatia\",\"El Salvador\",\"Ethiopia\",\"Europe\",\"France\",\"Germany\",\"Guatemala\",\"Honduras\",\"Iceland\",\"Indonesia\",\"Italy\",\"Japan\",\"Kenya\",\"Mexico\",\"New Zealand\",\"Nicaragua\",\"North America\",\"Other Europe\",\"Other South & Central America\",\"Papua New Guinea\",\"Philippines\",\"Portugal\",\"Russia\",\"South & Central America\",\"Turkey\",\"United States\",\"World\"],\"name\":\"\",\"z\":[65.3,3344.7,23.0,0.0,21.7,145.0,0.0,161.2,7.3,794.0,0.0,0.0,29.0,0.0,172.0,525.0,590.0,533.0,58.0,855.0,418.0,21.0,3648.0,0.0,4.600000000000023,0.0,1846.5,14.0,23.0,360.8,18.0,2793.0,8235.8],\"type\":\"choropleth\"}],\"name\":\"2000\"},{\"data\":[{\"coloraxis\":\"coloraxis\",\"geo\":\"geo\",\"hovertemplate\":\"Year=2001\\u003cbr\\u003eEntity=%{location}\\u003cbr\\u003eGeothermal Capacity=%{z}\\u003cextra\\u003e\\u003c\\u002fextra\\u003e\",\"locationmode\":\"country names\",\"locations\":[\"Africa\",\"Asia Pacific\",\"CIS\",\"Chile\",\"China\",\"Costa Rica\",\"Croatia\",\"El Salvador\",\"Ethiopia\",\"Europe\",\"France\",\"Germany\",\"Guatemala\",\"Honduras\",\"Iceland\",\"Indonesia\",\"Italy\",\"Japan\",\"Kenya\",\"Mexico\",\"New Zealand\",\"Nicaragua\",\"North America\",\"Other Europe\",\"Other South & Central America\",\"Papua New Guinea\",\"Philippines\",\"Portugal\",\"Russia\",\"South & Central America\",\"Turkey\",\"United States\",\"World\"],\"name\":\"\",\"z\":[65.3,3603.7,21.0,0.0,21.7,145.0,0.0,161.2,7.3,807.0,0.0,0.0,29.0,0.0,202.0,785.0,573.0,533.0,58.0,838.0,417.0,26.0,3054.0,0.0,4.600000000000023,0.0,1846.5,14.0,21.0,365.8,18.0,2216.0,7916.8],\"type\":\"choropleth\"}],\"name\":\"2001\"},{\"data\":[{\"coloraxis\":\"coloraxis\",\"geo\":\"geo\",\"hovertemplate\":\"Year=2002\\u003cbr\\u003eEntity=%{location}\\u003cbr\\u003eGeothermal Capacity=%{z}\\u003cextra\\u003e\\u003c\\u002fextra\\u003e\",\"locationmode\":\"country names\",\"locations\":[\"Africa\",\"Asia Pacific\",\"CIS\",\"Chile\",\"China\",\"Costa Rica\",\"Croatia\",\"El Salvador\",\"Ethiopia\",\"Europe\",\"France\",\"Germany\",\"Guatemala\",\"Honduras\",\"Iceland\",\"Indonesia\",\"Italy\",\"Japan\",\"Kenya\",\"Mexico\",\"New Zealand\",\"Nicaragua\",\"North America\",\"Other Europe\",\"Other South & Central America\",\"Papua New Guinea\",\"Philippines\",\"Portugal\",\"Russia\",\"South & Central America\",\"Turkey\",\"United States\",\"World\"],\"name\":\"\",\"z\":[65.3,3559.7,70.0,0.0,21.7,144.7,0.0,161.2,7.3,902.0,0.0,0.0,29.0,0.0,202.0,785.0,666.0,533.0,58.0,843.0,373.0,77.5,3095.0,2.0,4.600000000000023,0.0,1846.5,14.0,70.0,417.0,18.0,2252.0,8109.0],\"type\":\"choropleth\"}],\"name\":\"2002\"},{\"data\":[{\"coloraxis\":\"coloraxis\",\"geo\":\"geo\",\"hovertemplate\":\"Year=2003\\u003cbr\\u003eEntity=%{location}\\u003cbr\\u003eGeothermal Capacity=%{z}\\u003cextra\\u003e\\u003c\\u002fextra\\u003e\",\"locationmode\":\"country names\",\"locations\":[\"Africa\",\"Asia Pacific\",\"CIS\",\"Chile\",\"China\",\"Costa Rica\",\"Croatia\",\"El Salvador\",\"Ethiopia\",\"Europe\",\"France\",\"Germany\",\"Guatemala\",\"Honduras\",\"Iceland\",\"Indonesia\",\"Italy\",\"Japan\",\"Kenya\",\"Mexico\",\"New Zealand\",\"Nicaragua\",\"North America\",\"Other Europe\",\"Other South & Central America\",\"Papua New Guinea\",\"Philippines\",\"Portugal\",\"Russia\",\"South & Central America\",\"Turkey\",\"United States\",\"World\"],\"name\":\"\",\"z\":[65.3,3592.6,70.0,0.0,21.7,162.7,0.0,161.2,7.3,940.0,0.0,0.0,29.0,0.0,202.0,805.0,707.0,535.0,58.0,960.0,378.0,77.5,3093.0,2.0,4.600000000000023,6.0,1846.5,14.0,70.0,435.0,15.0,2133.0,8195.9],\"type\":\"choropleth\"}],\"name\":\"2003\"},{\"data\":[{\"coloraxis\":\"coloraxis\",\"geo\":\"geo\",\"hovertemplate\":\"Year=2004\\u003cbr\\u003eEntity=%{location}\\u003cbr\\u003eGeothermal Capacity=%{z}\\u003cextra\\u003e\\u003c\\u002fextra\\u003e\",\"locationmode\":\"country names\",\"locations\":[\"Africa\",\"Asia Pacific\",\"CIS\",\"Chile\",\"China\",\"Costa Rica\",\"Croatia\",\"El Salvador\",\"Ethiopia\",\"Europe\",\"France\",\"Germany\",\"Guatemala\",\"Honduras\",\"Iceland\",\"Indonesia\",\"Italy\",\"Japan\",\"Kenya\",\"Mexico\",\"New Zealand\",\"Nicaragua\",\"North America\",\"Other Europe\",\"Other South & Central America\",\"Papua New Guinea\",\"Philippines\",\"Portugal\",\"Russia\",\"South & Central America\",\"Turkey\",\"United States\",\"World\"],\"name\":\"\",\"z\":[135.3,3607.6,56.0,0.0,21.7,165.7,0.0,151.2,7.3,875.2,0.0,0.2,29.0,0.0,202.0,820.0,642.0,535.0,128.0,960.0,378.0,77.5,3112.0,2.0,4.600000000000023,6.0,1846.5,14.0,56.0,428.0,15.0,2152.0,8214.1],\"type\":\"choropleth\"}],\"name\":\"2004\"},{\"data\":[{\"coloraxis\":\"coloraxis\",\"geo\":\"geo\",\"hovertemplate\":\"Year=2005\\u003cbr\\u003eEntity=%{location}\\u003cbr\\u003eGeothermal Capacity=%{z}\\u003cextra\\u003e\\u003c\\u002fextra\\u003e\",\"locationmode\":\"country names\",\"locations\":[\"Africa\",\"Asia Pacific\",\"CIS\",\"Chile\",\"China\",\"Costa Rica\",\"Croatia\",\"El Salvador\",\"Ethiopia\",\"Europe\",\"France\",\"Germany\",\"Guatemala\",\"Honduras\",\"Iceland\",\"Indonesia\",\"Italy\",\"Japan\",\"Kenya\",\"Mexico\",\"New Zealand\",\"Nicaragua\",\"North America\",\"Other Europe\",\"Other South & Central America\",\"Papua New Guinea\",\"Philippines\",\"Portugal\",\"Russia\",\"South & Central America\",\"Turkey\",\"United States\",\"World\"],\"name\":\"\",\"z\":[135.3,3722.7,79.0,0.0,21.7,165.7,0.0,151.2,7.3,933.1,0.0,0.2,29.0,0.0,232.0,850.0,671.0,535.0,128.0,960.0,433.0,87.5,3245.0,0.8999999999999773,15.600000000000025,36.0,1846.5,14.0,79.0,449.0,15.0,2285.0,8564.1],\"type\":\"choropleth\"}],\"name\":\"2005\"},{\"data\":[{\"coloraxis\":\"coloraxis\",\"geo\":\"geo\",\"hovertemplate\":\"Year=2006\\u003cbr\\u003eEntity=%{location}\\u003cbr\\u003eGeothermal Capacity=%{z}\\u003cextra\\u003e\\u003c\\u002fextra\\u003e\",\"locationmode\":\"country names\",\"locations\":[\"Africa\",\"Asia Pacific\",\"CIS\",\"Chile\",\"China\",\"Costa Rica\",\"Croatia\",\"El Salvador\",\"Ethiopia\",\"Europe\",\"France\",\"Germany\",\"Guatemala\",\"Honduras\",\"Iceland\",\"Indonesia\",\"Italy\",\"Japan\",\"Kenya\",\"Mexico\",\"New Zealand\",\"Nicaragua\",\"North America\",\"Other Europe\",\"Other South & Central America\",\"Papua New Guinea\",\"Philippines\",\"Portugal\",\"Russia\",\"South & Central America\",\"Turkey\",\"United States\",\"World\"],\"name\":\"\",\"z\":[135.3,3719.6,87.0,0.0,21.7,165.7,0.0,151.2,7.3,1142.1,0.0,0.2,54.2,0.0,422.0,850.0,671.0,532.0,128.0,960.0,433.0,87.5,3234.0,0.8999999999998636,15.60000000000008,36.0,1846.5,25.0,87.0,474.2000000000001,23.0,2274.0,8792.2],\"type\":\"choropleth\"}],\"name\":\"2006\"},{\"data\":[{\"coloraxis\":\"coloraxis\",\"geo\":\"geo\",\"hovertemplate\":\"Year=2007\\u003cbr\\u003eEntity=%{location}\\u003cbr\\u003eGeothermal Capacity=%{z}\\u003cextra\\u003e\\u003c\\u002fextra\\u003e\",\"locationmode\":\"country names\",\"locations\":[\"Africa\",\"Asia Pacific\",\"CIS\",\"Chile\",\"China\",\"Costa Rica\",\"Croatia\",\"El Salvador\",\"Ethiopia\",\"Europe\",\"France\",\"Germany\",\"Guatemala\",\"Honduras\",\"Iceland\",\"Indonesia\",\"Italy\",\"Japan\",\"Kenya\",\"Mexico\",\"New Zealand\",\"Nicaragua\",\"North America\",\"Other Europe\",\"Other South & Central America\",\"Papua New Guinea\",\"Philippines\",\"Portugal\",\"Russia\",\"South & Central America\",\"Turkey\",\"United States\",\"World\"],\"name\":\"\",\"z\":[135.3,3887.6,90.0,0.0,21.7,165.7,0.0,204.4,7.3,1207.9,0.0,3.0,54.2,0.0,485.0,980.0,671.0,532.0,128.0,960.0,451.0,87.5,3174.0,0.900000000000091,15.599999999999966,56.0,1846.5,25.0,90.0,527.4,23.0,2214.0,9022.2],\"type\":\"choropleth\"}],\"name\":\"2007\"},{\"data\":[{\"coloraxis\":\"coloraxis\",\"geo\":\"geo\",\"hovertemplate\":\"Year=2008\\u003cbr\\u003eEntity=%{location}\\u003cbr\\u003eGeothermal Capacity=%{z}\\u003cextra\\u003e\\u003c\\u002fextra\\u003e\",\"locationmode\":\"country names\",\"locations\":[\"Africa\",\"Asia Pacific\",\"CIS\",\"Chile\",\"China\",\"Costa Rica\",\"Croatia\",\"El Salvador\",\"Ethiopia\",\"Europe\",\"France\",\"Germany\",\"Guatemala\",\"Honduras\",\"Iceland\",\"Indonesia\",\"Italy\",\"Japan\",\"Kenya\",\"Mexico\",\"New Zealand\",\"Nicaragua\",\"North America\",\"Other Europe\",\"Other South & Central America\",\"Papua New Guinea\",\"Philippines\",\"Portugal\",\"Russia\",\"South & Central America\",\"Turkey\",\"United States\",\"World\"],\"name\":\"\",\"z\":[135.3,4104.7,80.0,0.0,24.8,165.7,0.0,204.4,7.3,1304.9,0.0,3.0,54.2,0.0,575.0,1052.0,671.0,532.0,128.0,963.0,593.0,87.5,3192.0,0.900000000000091,15.599999999999966,56.0,1846.5,25.0,80.0,527.4,30.0,2229.0,9344.3],\"type\":\"choropleth\"}],\"name\":\"2008\"},{\"data\":[{\"coloraxis\":\"coloraxis\",\"geo\":\"geo\",\"hovertemplate\":\"Year=2009\\u003cbr\\u003eEntity=%{location}\\u003cbr\\u003eGeothermal Capacity=%{z}\\u003cextra\\u003e\\u003c\\u002fextra\\u003e\",\"locationmode\":\"country names\",\"locations\":[\"Africa\",\"Asia Pacific\",\"CIS\",\"Chile\",\"China\",\"Costa Rica\",\"Croatia\",\"El Salvador\",\"Ethiopia\",\"Europe\",\"France\",\"Germany\",\"Guatemala\",\"Honduras\",\"Iceland\",\"Indonesia\",\"Italy\",\"Japan\",\"Kenya\",\"Mexico\",\"New Zealand\",\"Nicaragua\",\"North America\",\"Other Europe\",\"Other South & Central America\",\"Papua New Guinea\",\"Philippines\",\"Portugal\",\"Russia\",\"South & Central America\",\"Turkey\",\"United States\",\"World\"],\"name\":\"\",\"z\":[170.3,4284.7,81.0,0.0,24.8,165.7,0.0,204.4,7.3,1380.9,0.0,8.0,54.2,0.0,575.0,1189.0,695.0,535.0,163.0,965.0,633.0,87.5,3347.0,0.900000000000091,14.999999999999943,56.0,1846.5,25.0,81.0,526.8,77.0,2382.0,9790.7],\"type\":\"choropleth\"}],\"name\":\"2009\"},{\"data\":[{\"coloraxis\":\"coloraxis\",\"geo\":\"geo\",\"hovertemplate\":\"Year=2010\\u003cbr\\u003eEntity=%{location}\\u003cbr\\u003eGeothermal Capacity=%{z}\\u003cextra\\u003e\\u003c\\u002fextra\\u003e\",\"locationmode\":\"country names\",\"locations\":[\"Africa\",\"Asia Pacific\",\"CIS\",\"Chile\",\"China\",\"Costa Rica\",\"Croatia\",\"El Salvador\",\"Ethiopia\",\"Europe\",\"France\",\"Germany\",\"Guatemala\",\"Honduras\",\"Iceland\",\"Indonesia\",\"Italy\",\"Japan\",\"Kenya\",\"Mexico\",\"New Zealand\",\"Nicaragua\",\"North America\",\"Other Europe\",\"Other South & Central America\",\"Papua New Guinea\",\"Philippines\",\"Portugal\",\"Russia\",\"South & Central America\",\"Turkey\",\"United States\",\"World\"],\"name\":\"\",\"z\":[205.3,4384.0,81.0,0.0,24.1,165.7,0.0,204.4,7.3,1430.9,0.0,8.0,54.2,0.0,575.0,1189.0,728.0,537.0,198.0,965.0,731.0,87.5,3370.0,0.900000000000091,14.999999999999943,56.0,1846.5,25.0,81.0,526.8,94.0,2405.0,9998.0],\"type\":\"choropleth\"}],\"name\":\"2010\"},{\"data\":[{\"coloraxis\":\"coloraxis\",\"geo\":\"geo\",\"hovertemplate\":\"Year=2011\\u003cbr\\u003eEntity=%{location}\\u003cbr\\u003eGeothermal Capacity=%{z}\\u003cextra\\u003e\\u003c\\u002fextra\\u003e\",\"locationmode\":\"country names\",\"locations\":[\"Africa\",\"Asia Pacific\",\"CIS\",\"Chile\",\"China\",\"Costa Rica\",\"Croatia\",\"El Salvador\",\"Ethiopia\",\"Europe\",\"France\",\"Germany\",\"Guatemala\",\"Honduras\",\"Iceland\",\"Indonesia\",\"Italy\",\"Japan\",\"Kenya\",\"Mexico\",\"New Zealand\",\"Nicaragua\",\"North America\",\"Other Europe\",\"Other South & Central America\",\"Papua New Guinea\",\"Philippines\",\"Portugal\",\"Russia\",\"South & Central America\",\"Turkey\",\"United States\",\"World\"],\"name\":\"\",\"z\":[205.3,4417.7,81.0,0.0,26.2,217.5,0.0,204.0,7.3,1555.2,16.3,6.0,54.2,0.0,665.0,1226.0,728.0,537.0,198.0,887.0,726.0,87.5,3296.0,0.900000000000091,15.0,56.0,1846.5,25.0,81.0,578.2,114.0,2409.0,10133.4],\"type\":\"choropleth\"}],\"name\":\"2011\"},{\"data\":[{\"coloraxis\":\"coloraxis\",\"geo\":\"geo\",\"hovertemplate\":\"Year=2012\\u003cbr\\u003eEntity=%{location}\\u003cbr\\u003eGeothermal Capacity=%{z}\\u003cextra\\u003e\\u003c\\u002fextra\\u003e\",\"locationmode\":\"country names\",\"locations\":[\"Africa\",\"Asia Pacific\",\"CIS\",\"Chile\",\"China\",\"Costa Rica\",\"Croatia\",\"El Salvador\",\"Ethiopia\",\"Europe\",\"France\",\"Germany\",\"Guatemala\",\"Honduras\",\"Iceland\",\"Indonesia\",\"Italy\",\"Japan\",\"Kenya\",\"Mexico\",\"New Zealand\",\"Nicaragua\",\"North America\",\"Other Europe\",\"Other South & Central America\",\"Papua New Guinea\",\"Philippines\",\"Portugal\",\"Russia\",\"South & Central America\",\"Turkey\",\"United States\",\"World\"],\"name\":\"\",\"z\":[212.8,4502.7,81.0,0.0,26.2,217.5,0.0,204.4,7.3,1612.2,15.3,16.0,54.2,0.0,665.0,1336.0,728.0,512.0,205.5,824.0,726.0,164.5,3416.0,0.900000000000091,15.0,56.0,1846.5,25.0,81.0,655.5999999999999,162.0,2592.0,10480.3],\"type\":\"choropleth\"}],\"name\":\"2012\"},{\"data\":[{\"coloraxis\":\"coloraxis\",\"geo\":\"geo\",\"hovertemplate\":\"Year=2013\\u003cbr\\u003eEntity=%{location}\\u003cbr\\u003eGeothermal Capacity=%{z}\\u003cextra\\u003e\\u003c\\u002fextra\\u003e\",\"locationmode\":\"country names\",\"locations\":[\"Africa\",\"Asia Pacific\",\"CIS\",\"Chile\",\"China\",\"Costa Rica\",\"Croatia\",\"El Salvador\",\"Ethiopia\",\"Europe\",\"France\",\"Germany\",\"Guatemala\",\"Honduras\",\"Iceland\",\"Indonesia\",\"Italy\",\"Japan\",\"Kenya\",\"Mexico\",\"New Zealand\",\"Nicaragua\",\"North America\",\"Other Europe\",\"Other South & Central America\",\"Papua New Guinea\",\"Philippines\",\"Portugal\",\"Russia\",\"South & Central America\",\"Turkey\",\"United States\",\"World\"],\"name\":\"\",\"z\":[212.8,4582.0,79.0,0.0,26.0,217.5,0.0,204.4,7.3,1773.2,16.3,26.0,49.2,0.0,665.0,1343.5,729.0,512.0,205.5,823.0,798.0,154.5,3430.0,0.900000000000091,15.0,56.0,1846.5,25.0,79.0,640.5999999999999,311.0,2607.0,10717.6],\"type\":\"choropleth\"}],\"name\":\"2013\"},{\"data\":[{\"coloraxis\":\"coloraxis\",\"geo\":\"geo\",\"hovertemplate\":\"Year=2014\\u003cbr\\u003eEntity=%{location}\\u003cbr\\u003eGeothermal Capacity=%{z}\\u003cextra\\u003e\\u003c\\u002fextra\\u003e\",\"locationmode\":\"country names\",\"locations\":[\"Africa\",\"Asia Pacific\",\"CIS\",\"Chile\",\"China\",\"Costa Rica\",\"Croatia\",\"El Salvador\",\"Ethiopia\",\"Europe\",\"France\",\"Germany\",\"Guatemala\",\"Honduras\",\"Iceland\",\"Indonesia\",\"Italy\",\"Japan\",\"Kenya\",\"Mexico\",\"New Zealand\",\"Nicaragua\",\"North America\",\"Other Europe\",\"Other South & Central America\",\"Papua New Guinea\",\"Philippines\",\"Portugal\",\"Russia\",\"South & Central America\",\"Turkey\",\"United States\",\"World\"],\"name\":\"\",\"z\":[373.4,4833.549999999999,78.0,0.0,25.95,217.5,0.0,204.4,7.3,1909.265,16.3,29.0,49.2,0.0,665.0,1403.5,768.0,508.0,366.1,813.0,924.0,154.5,3327.0,0.9650000000001456,15.0,56.0,1916.1,25.0,78.0,640.5999999999999,405.0,2514.0,11161.815],\"type\":\"choropleth\"}],\"name\":\"2014\"},{\"data\":[{\"coloraxis\":\"coloraxis\",\"geo\":\"geo\",\"hovertemplate\":\"Year=2015\\u003cbr\\u003eEntity=%{location}\\u003cbr\\u003eGeothermal Capacity=%{z}\\u003cextra\\u003e\\u003c\\u002fextra\\u003e\",\"locationmode\":\"country names\",\"locations\":[\"Africa\",\"Asia Pacific\",\"CIS\",\"Chile\",\"China\",\"Costa Rica\",\"Croatia\",\"El Salvador\",\"Ethiopia\",\"Europe\",\"France\",\"Germany\",\"Guatemala\",\"Honduras\",\"Iceland\",\"Indonesia\",\"Italy\",\"Japan\",\"Kenya\",\"Mexico\",\"New Zealand\",\"Nicaragua\",\"North America\",\"Other Europe\",\"Other South & Central America\",\"Papua New Guinea\",\"Philippines\",\"Portugal\",\"Russia\",\"South & Central America\",\"Turkey\",\"United States\",\"World\"],\"name\":\"\",\"z\":[611.3,4892.85,78.0,0.0,25.75,217.36,0.0,204.4,7.3,2128.2650000000003,16.3,29.0,49.2,0.0,665.0,1438.0,768.0,516.0,604.0,906.0,941.0,154.5,3448.0,0.9650000000001456,15.0,56.0,1916.1,25.0,78.0,640.46,624.0,2542.0,11798.875],\"type\":\"choropleth\"}],\"name\":\"2015\"},{\"data\":[{\"coloraxis\":\"coloraxis\",\"geo\":\"geo\",\"hovertemplate\":\"Year=2016\\u003cbr\\u003eEntity=%{location}\\u003cbr\\u003eGeothermal Capacity=%{z}\\u003cextra\\u003e\\u003c\\u002fextra\\u003e\",\"locationmode\":\"country names\",\"locations\":[\"Africa\",\"Asia Pacific\",\"CIS\",\"Chile\",\"China\",\"Costa Rica\",\"Croatia\",\"El Salvador\",\"Ethiopia\",\"Europe\",\"France\",\"Germany\",\"Guatemala\",\"Honduras\",\"Iceland\",\"Indonesia\",\"Italy\",\"Japan\",\"Kenya\",\"Mexico\",\"New Zealand\",\"Nicaragua\",\"North America\",\"Other Europe\",\"Other South & Central America\",\"Papua New Guinea\",\"Philippines\",\"Portugal\",\"Russia\",\"South & Central America\",\"Turkey\",\"United States\",\"World\"],\"name\":\"\",\"z\":[645.3,4997.85,78.0,0.0,25.75,206.86,0.0,204.4,7.3,2327.484,15.51,33.0,49.2,0.0,665.0,1533.0,767.0,526.0,638.0,926.0,941.0,154.5,3443.0,0.9739999999997052,15.0,56.0,1916.1,25.0,78.0,629.96,821.0,2517.0,12121.594],\"type\":\"choropleth\"}],\"name\":\"2016\"},{\"data\":[{\"coloraxis\":\"coloraxis\",\"geo\":\"geo\",\"hovertemplate\":\"Year=2017\\u003cbr\\u003eEntity=%{location}\\u003cbr\\u003eGeothermal Capacity=%{z}\\u003cextra\\u003e\\u003c\\u002fextra\\u003e\",\"locationmode\":\"country names\",\"locations\":[\"Africa\",\"Asia Pacific\",\"CIS\",\"Chile\",\"China\",\"Costa Rica\",\"Croatia\",\"El Salvador\",\"Ethiopia\",\"Europe\",\"France\",\"Germany\",\"Guatemala\",\"Honduras\",\"Iceland\",\"Indonesia\",\"Italy\",\"Japan\",\"Kenya\",\"Mexico\",\"New Zealand\",\"Nicaragua\",\"North America\",\"Other Europe\",\"Other South & Central America\",\"Papua New Guinea\",\"Philippines\",\"Portugal\",\"Russia\",\"South & Central America\",\"Turkey\",\"United States\",\"World\"],\"name\":\"\",\"z\":[655.3,5227.85,78.0,24.0,25.75,206.86,0.0,204.4,7.3,2621.855,15.9,32.0,49.2,35.0,710.0,1808.0,767.19,481.0,648.0,925.7,941.0,154.5,3408.7,3.9649999999996894,15.0,56.0,1916.1,29.1,74.0,688.96,1063.7,2483.0,12680.665],\"type\":\"choropleth\"}],\"name\":\"2017\"},{\"data\":[{\"coloraxis\":\"coloraxis\",\"geo\":\"geo\",\"hovertemplate\":\"Year=2018\\u003cbr\\u003eEntity=%{location}\\u003cbr\\u003eGeothermal Capacity=%{z}\\u003cextra\\u003e\\u003c\\u002fextra\\u003e\",\"locationmode\":\"country names\",\"locations\":[\"Africa\",\"Asia Pacific\",\"CIS\",\"Chile\",\"China\",\"Costa Rica\",\"Croatia\",\"El Salvador\",\"Ethiopia\",\"Europe\",\"France\",\"Germany\",\"Guatemala\",\"Honduras\",\"Iceland\",\"Indonesia\",\"Italy\",\"Japan\",\"Kenya\",\"Mexico\",\"New Zealand\",\"Nicaragua\",\"North America\",\"Other Europe\",\"Other South & Central America\",\"Papua New Guinea\",\"Philippines\",\"Portugal\",\"Russia\",\"South & Central America\",\"Turkey\",\"United States\",\"World\"],\"name\":\"\",\"z\":[671.3,5391.85,78.0,48.0,25.75,206.86,10.0,204.4,7.3,2899.655,15.9,35.0,49.2,35.0,756.0,1948.0,767.19,482.0,664.0,950.6,952.0,154.5,3491.1,3.9649999999996894,15.0,56.0,1928.1,29.1,74.0,712.96,1282.5,2540.5,13244.865],\"type\":\"choropleth\"}],\"name\":\"2018\"},{\"data\":[{\"coloraxis\":\"coloraxis\",\"geo\":\"geo\",\"hovertemplate\":\"Year=2019\\u003cbr\\u003eEntity=%{location}\\u003cbr\\u003eGeothermal Capacity=%{z}\\u003cextra\\u003e\\u003c\\u002fextra\\u003e\",\"locationmode\":\"country names\",\"locations\":[\"Africa\",\"Asia Pacific\",\"CIS\",\"Chile\",\"China\",\"Costa Rica\",\"Croatia\",\"El Salvador\",\"Ethiopia\",\"Europe\",\"France\",\"Germany\",\"Guatemala\",\"Honduras\",\"Iceland\",\"Indonesia\",\"Italy\",\"Japan\",\"Kenya\",\"Mexico\",\"New Zealand\",\"Nicaragua\",\"North America\",\"Other Europe\",\"Other South & Central America\",\"Papua New Guinea\",\"Philippines\",\"Portugal\",\"Russia\",\"South & Central America\",\"Turkey\",\"United States\",\"World\"],\"name\":\"\",\"z\":[831.3,5617.6,74.0,39.7,26.0,261.86,10.0,204.4,7.3,3136.665,15.9,40.0,52.0,35.0,756.0,2130.5,767.0,525.0,824.0,935.6,952.0,153.24,3490.9,3.9650000000001455,15.0,56.0,1928.1,29.1,74.0,761.2,1514.7,2555.3,13911.665],\"type\":\"choropleth\"}],\"name\":\"2019\"},{\"data\":[{\"coloraxis\":\"coloraxis\",\"geo\":\"geo\",\"hovertemplate\":\"Year=2020\\u003cbr\\u003eEntity=%{location}\\u003cbr\\u003eGeothermal Capacity=%{z}\\u003cextra\\u003e\\u003c\\u002fextra\\u003e\",\"locationmode\":\"country names\",\"locations\":[\"Africa\",\"Asia Pacific\",\"CIS\",\"Chile\",\"China\",\"Costa Rica\",\"Croatia\",\"El Salvador\",\"Ethiopia\",\"Europe\",\"France\",\"Germany\",\"Guatemala\",\"Honduras\",\"Iceland\",\"Indonesia\",\"Italy\",\"Japan\",\"Kenya\",\"Mexico\",\"New Zealand\",\"Nicaragua\",\"North America\",\"Other Europe\",\"Other South & Central America\",\"Papua New Guinea\",\"Philippines\",\"Portugal\",\"Russia\",\"South & Central America\",\"Turkey\",\"United States\",\"World\"],\"name\":\"\",\"z\":[831.0,5650.0,74.0,40.0,26.0,262.0,10.0,204.0,7.0,3265.0,16.0,40.0,49.0,39.0,756.0,2131.0,797.0,525.0,824.0,906.0,984.0,153.0,3493.0,4.0,15.0,56.0,1928.0,29.0,74.0,762.0,1613.0,2587.0,14075.0],\"type\":\"choropleth\"}],\"name\":\"2020\"},{\"data\":[{\"coloraxis\":\"coloraxis\",\"geo\":\"geo\",\"hovertemplate\":\"Year=1975\\u003cbr\\u003eEntity=%{location}\\u003cbr\\u003eGeothermal Capacity=%{z}\\u003cextra\\u003e\\u003c\\u002fextra\\u003e\",\"locationmode\":\"country names\",\"locations\":[\"World\"],\"name\":\"\",\"z\":[1300.0],\"type\":\"choropleth\"}],\"name\":\"1975\"},{\"data\":[{\"coloraxis\":\"coloraxis\",\"geo\":\"geo\",\"hovertemplate\":\"Year=1980\\u003cbr\\u003eEntity=%{location}\\u003cbr\\u003eGeothermal Capacity=%{z}\\u003cextra\\u003e\\u003c\\u002fextra\\u003e\",\"locationmode\":\"country names\",\"locations\":[\"World\"],\"name\":\"\",\"z\":[3887.0],\"type\":\"choropleth\"}],\"name\":\"1980\"},{\"data\":[{\"coloraxis\":\"coloraxis\",\"geo\":\"geo\",\"hovertemplate\":\"Year=1985\\u003cbr\\u003eEntity=%{location}\\u003cbr\\u003eGeothermal Capacity=%{z}\\u003cextra\\u003e\\u003c\\u002fextra\\u003e\",\"locationmode\":\"country names\",\"locations\":[\"World\"],\"name\":\"\",\"z\":[4764.0],\"type\":\"choropleth\"}],\"name\":\"1985\"}]);\n",
       "                        }).then(function(){\n",
       "                            \n",
       "var gd = document.getElementById('7193ef96-c5ff-436e-841a-7070a9395d7b');\n",
       "var x = new MutationObserver(function (mutations, observer) {{\n",
       "        var display = window.getComputedStyle(gd).display;\n",
       "        if (!display || display === 'none') {{\n",
       "            console.log([gd, 'removed!']);\n",
       "            Plotly.purge(gd);\n",
       "            observer.disconnect();\n",
       "        }}\n",
       "}});\n",
       "\n",
       "// Listen for the removal of the full notebook cells\n",
       "var notebookContainer = gd.closest('#notebook-container');\n",
       "if (notebookContainer) {{\n",
       "    x.observe(notebookContainer, {childList: true});\n",
       "}}\n",
       "\n",
       "// Listen for the clearing of the current output cell\n",
       "var outputEl = gd.closest('.output');\n",
       "if (outputEl) {{\n",
       "    x.observe(outputEl, {childList: true});\n",
       "}}\n",
       "\n",
       "                        })                };                });            </script>        </div>"
      ]
     },
     "metadata": {},
     "output_type": "display_data"
    }
   ],
   "source": [
    "fig = px.choropleth(\n",
    "    df_17,\n",
    "    locations=\"Entity\",\n",
    "    locationmode=\"country names\",\n",
    "    color=\"Geothermal Capacity\", \n",
    "    animation_frame=\"Year\",\n",
    "    color_continuous_scale=\"YlGnBu\", \n",
    "    range_color=(0, df_17['Geothermal Capacity'].max()) \n",
    ")\n",
    "\n",
    "fig.update_geos(projection_type=\"natural earth\")\n",
    "\n",
    "fig.update_layout(\n",
    "    title=\"Global Geothermal Energy Capacity Map\", \n",
    "    coloraxis_colorbar={\"title\": \"Geothermal Energy Capacity (MW)\"}\n",
    ")\n",
    "\n",
    "fig.show()"
   ]
  },
  {
   "cell_type": "markdown",
   "id": "b9a5d3fb",
   "metadata": {
    "papermill": {
     "duration": 0.017252,
     "end_time": "2024-02-14T11:28:33.124842",
     "exception": false,
     "start_time": "2024-02-14T11:28:33.107590",
     "status": "completed"
    },
    "tags": []
   },
   "source": [
    "<div style=\"background-color: #f9f9f9; border-left: 5px solid #20B2AA; padding: 10px 15px; margin: 10px 0;\">\n",
    "  <p style=\"font-family: Arial, sans-serif; font-size: 14px; color: #333;\">\n",
    "    <strong>Graph Analysis:</strong> The interactive choropleth map offers a dynamic visualization of global geothermal energy capacity, segmented by country and animated across different years. This map utilizes a color gradient of YlGnBu to represent varying levels of geothermal capacity, providing an intuitive visual scale from lower to higher capacities. The animation feature allows for a temporal exploration of how geothermal energy capacity has evolved globally, highlighting advancements, emerging leaders, and regional developments in geothermal energy utilization. The \"natural earth\" projection ensures geographical accuracy and readability, enhancing the user's ability to contextualize the data within a global framework. The inclusion of a color-coded legend, titled \"Geothermal Energy Capacity (MW),\" aids in quantifying the data, making this map a compelling tool for understanding the geographical distribution and growth trends of geothermal energy capacity worldwide.\n",
    "  </p>\n",
    "</div>\n"
   ]
  },
  {
   "cell_type": "markdown",
   "id": "c0ed377b",
   "metadata": {
    "papermill": {
     "duration": 0.017934,
     "end_time": "2024-02-14T11:28:33.162161",
     "exception": false,
     "start_time": "2024-02-14T11:28:33.144227",
     "status": "completed"
    },
    "tags": []
   },
   "source": [
    "<a id='ConclusionFinalThoughtsInsights'></a>\n",
    "# <b><div style='padding:15px;background-color:#004080;color:white;border-radius:15px;font-size:100%;text-align: center'>Conclusion Final Thoughts & Insights</div></b>"
   ]
  },
  {
   "cell_type": "markdown",
   "id": "7e8cfac3",
   "metadata": {
    "papermill": {
     "duration": 0.018703,
     "end_time": "2024-02-14T11:28:33.199384",
     "exception": false,
     "start_time": "2024-02-14T11:28:33.180681",
     "status": "completed"
    },
    "tags": []
   },
   "source": [
    "<div style=\"background-color: #fafafa; border: 2px solid #007BFF; padding: 20px; margin-top: 20px; border-radius: 10px;\">\n",
    "    <h2 style=\"color: #007BFF; font-family: 'Arial', sans-serif; font-size: 20px; font-weight: bold; text-align: center;\">Conclusion: Insights and Implications for Geothermal Energy Development</h2>\n",
    "    <p style=\"font-family: 'Arial', sans-serif; font-size: 16px; color: #333333; text-align: justify;\">\n",
    "        The analysis of geothermal energy capacity data provides a clear indication of the sector's growth over recent years. Focusing on Turkey's development within the context of regional and global trends, the data reflects an increasing commitment to renewable energy sources, with geothermal energy playing a pivotal role.\n",
    "    </p>\n",
    "    <p style=\"font-family: 'Arial', sans-serif; font-size: 16px; color: #333333; text-align: justify;\">\n",
    "        The comparison of geothermal energy growth in Turkey with its neighbors and within Europe has illuminated the strategic positioning of countries in the renewable energy landscape. This analysis highlights the need for continued investment and policy support to fully harness the potential of geothermal energy. Emphasizing the importance of geothermal energy in the transition to a more sustainable energy mix, this study advocates for strategic planning and investment to optimize the use of geothermal resources.\n",
    "    </p>\n",
    "</div>\n"
   ]
  },
  {
   "cell_type": "markdown",
   "id": "930cd43b",
   "metadata": {
    "papermill": {
     "duration": 0.017115,
     "end_time": "2024-02-14T11:28:33.233665",
     "exception": false,
     "start_time": "2024-02-14T11:28:33.216550",
     "status": "completed"
    },
    "tags": []
   },
   "source": [
    "# <div style=\"padding: 30px; color:white; margin:10; font-size:150%; text-align:left; display:fill; border-radius:10px; background-color:#3b3745\"><b><span style='color:#F1A424'> :) |</span></b> <b>Just Click For More Fun</b></div>"
   ]
  },
  {
   "cell_type": "markdown",
   "id": "c2cdb021",
   "metadata": {
    "papermill": {
     "duration": 0.01784,
     "end_time": "2024-02-14T11:28:33.270512",
     "exception": false,
     "start_time": "2024-02-14T11:28:33.252672",
     "status": "completed"
    },
    "tags": []
   },
   "source": [
    "<style>\n",
    "  .link-card {\n",
    "    background-color: #f9f9f9;\n",
    "    border: 1px solid #e0e0e0;\n",
    "    padding: 15px;\n",
    "    border-radius: 8px;\n",
    "    margin: 10px 0;\n",
    "    display: flex;\n",
    "    align-items: center;\n",
    "    text-decoration: none;\n",
    "    color: #333;\n",
    "    transition: background-color 0.3s, transform 0.3s, box-shadow 0.3s;\n",
    "  }\n",
    "  \n",
    "  .link-card:hover {\n",
    "    background-color: #f0f0f0;\n",
    "    transform: translateY(-5px);\n",
    "    box-shadow: 0px 4px 8px rgba(0, 0, 0, 0.1); /* Hover efekti için gölge eklendi */\n",
    "  }\n",
    "  \n",
    "  .link-icon {\n",
    "    font-size: 50px;\n",
    "    margin-right: 15px;\n",
    "  }\n",
    "  \n",
    "  .link-text {\n",
    "    font-size: 20px; /* İsimlerin boyutunu 20px olarak güncelledim */\n",
    "    font-weight: bold; /* Kalın yazı tipi */\n",
    "  }\n",
    "</style>\n",
    "\n",
    "<a href=\"https://www.kaggle.com/mehmetisik/code\" class=\"link-card\">\n",
    "  <span class=\"link-icon\">📊</span>\n",
    "  <span class=\"link-text\">Mehmet ISIK's Notebook</span>\n",
    "</a>\n",
    "<a href=\"https://www.kaggle.com/vedatgul/code\" class=\"link-card\">\n",
    "  <span class=\"link-icon\">📈</span>\n",
    "  <span class=\"link-text\">Vedat GUL's Notebook</span>\n",
    "</a>\n",
    "<a href=\"https://www.kaggle.com/sinanimek/code\" class=\"link-card\">\n",
    "  <span class=\"link-icon\">📉</span>\n",
    "  <span class=\"link-text\">Sinan SIMSEK's Notebook</span>\n",
    "</a>"
   ]
  },
  {
   "cell_type": "markdown",
   "id": "0fce6687",
   "metadata": {
    "papermill": {
     "duration": 0.018462,
     "end_time": "2024-02-14T11:28:33.307670",
     "exception": false,
     "start_time": "2024-02-14T11:28:33.289208",
     "status": "completed"
    },
    "tags": []
   },
   "source": [
    "<div style=\"text-align: center; padding: 60px; background: url('https://source.unsplash.com/800x600?energy') no-repeat center/cover; border: 5px solid #FFEB3B; border-radius: 35px; box-shadow: 0 15px 25px rgba(0, 0, 0, 0.2);\">\n",
    "    <p style=\"font-size: 26px; margin-bottom: 35px; color: #FFFFFF; font-family: 'Arial', sans-serif; font-weight: bold; text-transform: uppercase; letter-spacing: 3px; text-shadow: 4px 4px 8px rgba(0, 0, 0, 0.5); animation: slide 3s infinite alternate;\">\n",
    "        Click for the Next Analysis\n",
    "    </p>\n",
    "    <a href=\"https://www.kaggle.com/code/mehmetisik/01-the-global-portrait-of-renewable-energy/notebook\" target=\"_blank\" style=\"text-decoration: none; display: inline-block; padding: 15px 30px; font-size: 24px; color: #673AB7; background-color: #FFFFFF; border-radius: 50px; transition: transform 0.3s ease; box-shadow: 0 6px 12px rgba(0, 0, 0, 0.2);\">👉</a>\n",
    "    <style>\n",
    "        @keyframes pulsate {\n",
    "            0% { transform: scale(1); }\n",
    "            50% { transform: scale(1.08); }\n",
    "            100% { transform: scale(1); }\n",
    "        }\n",
    "        @keyframes slide {\n",
    "            0% { transform: translateX(-10px); }\n",
    "            100% { transform: translateX(10px); }\n",
    "        }\n",
    "        a:hover {\n",
    "            transform: translateY(-5px);\n",
    "            box-shadow: 0 8px 16px rgba(0, 0, 0, 0.3);\n",
    "        }\n",
    "    </style>\n",
    "</div>"
   ]
  }
 ],
 "metadata": {
  "kaggle": {
   "accelerator": "none",
   "dataSources": [
    {
     "datasetId": 2960641,
     "sourceId": 5097979,
     "sourceType": "datasetVersion"
    }
   ],
   "dockerImageVersionId": 30646,
   "isGpuEnabled": false,
   "isInternetEnabled": true,
   "language": "python",
   "sourceType": "notebook"
  },
  "kernelspec": {
   "display_name": "Python 3",
   "language": "python",
   "name": "python3"
  },
  "language_info": {
   "codemirror_mode": {
    "name": "ipython",
    "version": 3
   },
   "file_extension": ".py",
   "mimetype": "text/x-python",
   "name": "python",
   "nbconvert_exporter": "python",
   "pygments_lexer": "ipython3",
   "version": "3.10.13"
  },
  "papermill": {
   "default_parameters": {},
   "duration": 14.729393,
   "end_time": "2024-02-14T11:28:34.349448",
   "environment_variables": {},
   "exception": null,
   "input_path": "__notebook__.ipynb",
   "output_path": "__notebook__.ipynb",
   "parameters": {},
   "start_time": "2024-02-14T11:28:19.620055",
   "version": "2.5.0"
  }
 },
 "nbformat": 4,
 "nbformat_minor": 5
}
